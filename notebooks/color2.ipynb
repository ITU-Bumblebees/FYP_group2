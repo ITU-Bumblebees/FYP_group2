{
 "cells": [
  {
   "cell_type": "code",
   "metadata": {
    "cell_id": "4f6c2bd259964d24b2f0bdc91f7bf3bb",
    "tags": [],
    "deepnote_to_be_reexecuted": false,
    "source_hash": "471f39dc",
    "execution_start": 1648723337146,
    "execution_millis": 4424,
    "deepnote_cell_type": "code",
    "deepnote_cell_height": 380.03125
   },
   "source": "!pip install statsmodels",
   "execution_count": null,
   "outputs": [
    {
     "name": "stdout",
     "text": "Requirement already satisfied: statsmodels in /root/venv/lib/python3.7/site-packages (0.13.2)\nRequirement already satisfied: packaging>=21.3 in /shared-libs/python3.7/py-core/lib/python3.7/site-packages (from statsmodels) (21.3)\nRequirement already satisfied: numpy>=1.17 in /shared-libs/python3.7/py/lib/python3.7/site-packages (from statsmodels) (1.21.5)\nRequirement already satisfied: patsy>=0.5.2 in /root/venv/lib/python3.7/site-packages (from statsmodels) (0.5.2)\nRequirement already satisfied: pandas>=0.25 in /shared-libs/python3.7/py/lib/python3.7/site-packages (from statsmodels) (1.2.5)\nRequirement already satisfied: scipy>=1.3 in /shared-libs/python3.7/py/lib/python3.7/site-packages (from statsmodels) (1.7.3)\nRequirement already satisfied: pyparsing!=3.0.5,>=2.0.2 in /shared-libs/python3.7/py-core/lib/python3.7/site-packages (from packaging>=21.3->statsmodels) (3.0.7)\nRequirement already satisfied: six in /shared-libs/python3.7/py-core/lib/python3.7/site-packages (from patsy>=0.5.2->statsmodels) (1.16.0)\nRequirement already satisfied: pytz>=2017.3 in /shared-libs/python3.7/py/lib/python3.7/site-packages (from pandas>=0.25->statsmodels) (2022.1)\nRequirement already satisfied: python-dateutil>=2.7.3 in /shared-libs/python3.7/py-core/lib/python3.7/site-packages (from pandas>=0.25->statsmodels) (2.8.2)\n\u001b[33mWARNING: You are using pip version 20.1.1; however, version 22.0.4 is available.\nYou should consider upgrading via the '/root/venv/bin/python -m pip install --upgrade pip' command.\u001b[0m\n",
     "output_type": "stream"
    }
   ]
  },
  {
   "cell_type": "code",
   "metadata": {
    "cell_id": "d58122a0a2ff427ab77283b948c63305",
    "tags": [],
    "deepnote_to_be_reexecuted": false,
    "source_hash": "b732fe44",
    "execution_start": 1648723341580,
    "execution_millis": 3989,
    "deepnote_cell_type": "code",
    "deepnote_cell_height": 380.03125
   },
   "source": "!pip install scikit-image",
   "execution_count": null,
   "outputs": [
    {
     "name": "stdout",
     "text": "Requirement already satisfied: scikit-image in /root/venv/lib/python3.7/site-packages (0.19.2)\nRequirement already satisfied: numpy>=1.17.0 in /shared-libs/python3.7/py/lib/python3.7/site-packages (from scikit-image) (1.21.5)\nRequirement already satisfied: scipy>=1.4.1 in /shared-libs/python3.7/py/lib/python3.7/site-packages (from scikit-image) (1.7.3)\nRequirement already satisfied: packaging>=20.0 in /shared-libs/python3.7/py-core/lib/python3.7/site-packages (from scikit-image) (21.3)\nRequirement already satisfied: networkx>=2.2 in /root/venv/lib/python3.7/site-packages (from scikit-image) (2.6.3)\nRequirement already satisfied: pillow!=7.1.0,!=7.1.1,!=8.3.0,>=6.1.0 in /shared-libs/python3.7/py/lib/python3.7/site-packages (from scikit-image) (9.0.1)\nRequirement already satisfied: PyWavelets>=1.1.1 in /root/venv/lib/python3.7/site-packages (from scikit-image) (1.3.0)\nRequirement already satisfied: tifffile>=2019.7.26 in /root/venv/lib/python3.7/site-packages (from scikit-image) (2021.11.2)\nRequirement already satisfied: imageio>=2.4.1 in /root/venv/lib/python3.7/site-packages (from scikit-image) (2.16.1)\nRequirement already satisfied: pyparsing!=3.0.5,>=2.0.2 in /shared-libs/python3.7/py-core/lib/python3.7/site-packages (from packaging>=20.0->scikit-image) (3.0.7)\n\u001b[33mWARNING: You are using pip version 20.1.1; however, version 22.0.4 is available.\nYou should consider upgrading via the '/root/venv/bin/python -m pip install --upgrade pip' command.\u001b[0m\n",
     "output_type": "stream"
    }
   ]
  },
  {
   "cell_type": "code",
   "metadata": {
    "tags": [],
    "cell_id": "f2f25d0b-abd3-4628-b90a-bdb80620f2ec",
    "deepnote_to_be_reexecuted": false,
    "source_hash": "fbcafe69",
    "execution_start": 1648723345573,
    "execution_millis": 2278,
    "deepnote_cell_type": "code",
    "deepnote_cell_height": 207
   },
   "source": "import pandas as pd\nimport Config\nimport skimage.io as sk\nfrom skimage.color import rgb2gray\nimport matplotlib.pyplot as plt\nimport numpy as np \nfrom statsmodels.robust import mad\nfrom PIL import Image ",
   "execution_count": null,
   "outputs": []
  },
  {
   "cell_type": "markdown",
   "source": "## Reading images",
   "metadata": {
    "cell_id": "fa6105681db34db4a1ef27e3d236e151",
    "tags": [],
    "deepnote_cell_type": "markdown",
    "deepnote_cell_height": 70
   }
  },
  {
   "cell_type": "markdown",
   "source": "#### Making a dataframe from features.csv to get the files id's",
   "metadata": {
    "cell_id": "c2d87908fdb84014818bd199260896bb",
    "tags": [],
    "deepnote_cell_type": "markdown",
    "deepnote_cell_height": 54
   }
  },
  {
   "cell_type": "code",
   "metadata": {
    "cell_id": "66faf592f363413ba7841c4e46e7d811",
    "tags": [],
    "deepnote_to_be_reexecuted": false,
    "source_hash": "9aa7b76a",
    "execution_start": 1648727071466,
    "execution_millis": 0,
    "deepnote_cell_type": "code",
    "deepnote_cell_height": 171
   },
   "source": "img_features_df = pd.read_csv(Config.features_path)\n#img_features_df = img_features_df.drop(['area', 'perimeter'], axis=1) #we only need the id\nmel_df = pd.read_csv(Config.example_ground_truth_path)\n\nimg_features_df['melanoma'] = mel_df['melanoma']\n#print(img_features_df[img_features_df['melanoma'] == 1]) #getting the images that show cancer lesions",
   "execution_count": null,
   "outputs": []
  },
  {
   "cell_type": "markdown",
   "source": "#### Main function that check's each image color",
   "metadata": {
    "cell_id": "7880a40b85bc475ab9673ad1acbe035d",
    "tags": [],
    "deepnote_cell_type": "markdown",
    "deepnote_cell_height": 54
   }
  },
  {
   "cell_type": "code",
   "metadata": {
    "cell_id": "24df1cae70364ff2b837183a733f0129",
    "tags": [],
    "deepnote_to_be_reexecuted": false,
    "source_hash": "d09fb133",
    "execution_start": 1648727692998,
    "execution_millis": 311,
    "deepnote_cell_type": "code",
    "deepnote_cell_height": 1385
   },
   "source": "def check_channel_variability(arr):\n    pass\n\ndef check_variability(img, img_bw):\n    les_size = np.size(img)\n    variability_score = 0\n    white_val_x, white_val_y = np.where(img_bw == 255)\n\n    gray_list = [0]*np.size(white_val_x)\n    lesion = img[white_val_x][white_val_y]\n\n    print(lesion)\n    \n    #for x in range(np.size(white_val_x)):\n    #    gray_list[x] = rgb2gray(img[white_val_x[x]][white_val_y[x]])\n        #print(rgb2gray(img[white_val_x[x]][white_val_y[x]]))\n\n    #gray_list = rgb2gray(img[white_val_x][white_val_y])\n\n\n    #print(mad(gray_list))\n    #ax.hist(gray_list, bins=bins);\n    \n    #ax.set_title(f'{str(title)}, var: {np.var(gray_list)}')'''\n\nimg = plt.imread(f'../data/example_image/ISIC_0012965.jpg') \nimg_bw = sk.imread(f'../data/example_segmentation/ISIC_0012965_segmentation.png', as_gray=True) \ncheck_variability(img, img_bw)\n\ndef check_variability2(img1, img2, area, id):\n    #with paste we are cutting the original image using the segmentation as a mask\n    img2.paste(img1, (0,0), mask = img2) \n    #it then returns a single channel image \n    #we then convert the image into an array\n    arr= np.array(img2)\n    ind= np.where(arr != 0)\n    \n    print((mad(arr[ind])/area)*100, id)\n    return (mad(arr[ind])/area)*1000",
   "execution_count": null,
   "outputs": [
    {
     "name": "stdout",
     "text": "[[[210 195 190]\n  [208 195 189]\n  [208 195 189]\n  ...\n  [209 190 194]\n  [209 190 194]\n  [208 189 193]]\n\n [[210 195 190]\n  [208 195 189]\n  [208 195 189]\n  ...\n  [209 190 194]\n  [209 190 194]\n  [208 189 193]]\n\n [[210 195 190]\n  [208 195 189]\n  [208 195 189]\n  ...\n  [209 190 194]\n  [209 190 194]\n  [208 189 193]]\n\n ...\n\n [[211 193 189]\n  [210 195 190]\n  [206 191 186]\n  ...\n  [209 190 194]\n  [209 190 194]\n  [209 190 194]]\n\n [[211 193 189]\n  [210 195 190]\n  [206 191 186]\n  ...\n  [209 190 194]\n  [209 190 194]\n  [209 190 194]]\n\n [[211 193 189]\n  [210 195 190]\n  [206 191 186]\n  ...\n  [209 190 194]\n  [209 190 194]\n  [209 190 194]]]\n",
     "output_type": "stream"
    }
   ]
  },
  {
   "cell_type": "markdown",
   "source": "#### Looping through the chosen range of images and applying check_variability()",
   "metadata": {
    "cell_id": "8b66ab1f6d1a4afc8067d892cbc6c4b3",
    "tags": [],
    "deepnote_cell_type": "markdown",
    "deepnote_cell_height": 54
   }
  },
  {
   "cell_type": "code",
   "metadata": {
    "cell_id": "5ee3f0e85ef642aab5b58c0008297019",
    "tags": [],
    "deepnote_to_be_reexecuted": false,
    "source_hash": "c514a82b",
    "execution_start": 1648725686242,
    "execution_millis": 122240,
    "deepnote_cell_type": "code",
    "deepnote_cell_height": 1187,
    "deepnote_output_heights": [
     611
    ]
   },
   "source": "#M,N is the range of images that we choosen (finally it will be 0-# of images)\nM = 0\nN = 150\n\n#fig, ax = plt.subplots(N-M, 1, figsize=(N-M, 2*(N-M)))\n#fig.tight_layout()\n\nmad_lst = []\n\n\n\n#the main for loop which loads the images\nfor (index, id) in enumerate(img_features_df['id'][M:N]):\n    #img = plt.imread(f'../data/example_image/{id}.jpg') #main image\n    #img_bw = sk.imread(f'../data/example_segmentation/{id}_segmentation.png', as_gray=True) #main image grayed\n\n    title = f\"{id}: {img_features_df[img_features_df['id'] == id]['melanoma'].iloc[0]}\"\n    is_mel = img_features_df[img_features_df['id'] == id]['melanoma'].iloc[0]\n\n    # Show the images overlayed, for this we can use PIL \n\n    # Load images as Image objects  \n    img = Image.open(f'../data/example_image/{id}.jpg') \n    img_bw = Image.open(f'../data/example_segmentation/{id}_segmentation.png') \n\n    area = img_features_df[img_features_df['id'] == id]['perimeter'].iloc[0]\n\n    mad_lst.append((check_variability2(img,img_bw, area, id), is_mel, id))    ",
   "execution_count": null,
   "outputs": [
    {
     "name": "stdout",
     "text": "0.8838165236993156 ISIC_0001769\n1.9451049513921892 ISIC_0001852\n0.7757802306133964 ISIC_0001871\n2.537191296549765 ISIC_0003462\n1.293593792200719 ISIC_0003539\n0.6652169236144037 ISIC_0003582\n0.5697446612532202 ISIC_0003657\n1.5727746306636512 ISIC_0003805\n1.1751140437296712 ISIC_0004337\n1.331259080888773 ISIC_0006651\n0.654570515896513 ISIC_0006671\n0.6820481741256363 ISIC_0006815\n0.561398430415202 ISIC_0006914\n1.0743494336997117 ISIC_0007141\n2.129542562489473 ISIC_0007156\n1.0103817127548935 ISIC_0007235\n1.429920921401342 ISIC_0007241\n1.1801190679349156 ISIC_0007332\n1.016641521260984 ISIC_0007344\n1.3717214049396471 ISIC_0007528\n1.597812941100762 ISIC_0007796\n0.6186883309393634 ISIC_0008025\n0.46228131534695827 ISIC_0008524\n0.7354177671158739 ISIC_0009995\n0.6689345530583108 ISIC_0010459\n3.6161029719648825 ISIC_0012099\n2.1409418317770426 ISIC_0012109\n2.819528783211921 ISIC_0012126\n2.4194777817861137 ISIC_0012127\n0.22519114767504872 ISIC_0012143\n0.3506153895114599 ISIC_0012151\n0.20721205010560476 ISIC_0012159\n0.4340170428880568 ISIC_0012160\n2.225294136593774 ISIC_0012191\n0.8812670529578752 ISIC_0012201\n0.41558576552364457 ISIC_0012204\n0.6971483786076498 ISIC_0012206\n0.09178305108371453 ISIC_0012210\n1.3834546362416191 ISIC_0012221\n1.8275528117172288 ISIC_0012222\n0.07086161875997621 ISIC_0012254\n0.08329225946660686 ISIC_0012256\n0.7708503735731032 ISIC_0012288\n1.552035380253798 ISIC_0012306\n1.712576820055976 ISIC_0012313\n1.7534060402825777 ISIC_0012316\n0.6942466163657866 ISIC_0012335\n0.6208552003792304 ISIC_0012380\n0.14861690241635947 ISIC_0012383\n0.512678528119508 ISIC_0012400\n0.07323903598743299 ISIC_0012417\n1.2647791437488547 ISIC_0012434\n0.3267082896662852 ISIC_0012492\n0.1367714223713655 ISIC_0012513\n0.8700717244751185 ISIC_0012538\n0.2993428188502802 ISIC_0012547\n1.2403981572702085 ISIC_0012660\n0.6517686754189366 ISIC_0012684\n0.2744994850144089 ISIC_0012720\n1.7269682219051858 ISIC_0012746\n1.320215688785042 ISIC_0012876\n0.42294150424174326 ISIC_0012927\n1.513631667693315 ISIC_0012956\n0.421593047916285 ISIC_0012959\n5.475110233548384 ISIC_0012965\n2.8338183151279965 ISIC_0013010\n1.314363668887945 ISIC_0013082\n0.4913346208800669 ISIC_0013104\n0.1627891538298767 ISIC_0013127\n0.7108671110605225 ISIC_0013128\n1.22276471629328 ISIC_0013132\n2.9520840633961103 ISIC_0013188\n0.23140349906439867 ISIC_0013215\n0.8046113153843598 ISIC_0013232\n0.37571223332536724 ISIC_0013421\n0.9136199908627468 ISIC_0013491\n0.7270033761877747 ISIC_0013501\n0.06105263624220071 ISIC_0013518\n3.4640238750130883 ISIC_0013527\n1.1948760626254045 ISIC_0013549\n0.5867818806750403 ISIC_0013561\n0.2358328025194489 ISIC_0013562\n0.15407661403020026 ISIC_0013632\n0.18084925817340838 ISIC_0013637\n0.4182234748957975 ISIC_0013644\n0.25761984682981787 ISIC_0013651\n0.13395999263660285 ISIC_0013663\n0.29045319909774525 ISIC_0013702\n0.21584745674330877 ISIC_0013736\n0.5967297622964368 ISIC_0013793\n0.15274061317022 ISIC_0013828\n1.1797895637975613 ISIC_0013863\n0.3731381422413428 ISIC_0013898\n0.1453056731629143 ISIC_0013945\n0.22812455453296432 ISIC_0014037\n0.16614892250716495 ISIC_0014038\n0.09251807915791588 ISIC_0014055\n0.46929215584545475 ISIC_0014139\n0.16822264203921353 ISIC_0014162\n0.8749262019078121 ISIC_0014178\n0.10843680515674543 ISIC_0014211\n0.12963047126579083 ISIC_0014212\n0.13232793810296342 ISIC_0014217\n0.45618529800172375 ISIC_0014302\n0.3877773893214303 ISIC_0014310\n0.23382056096776446 ISIC_0014382\n0.9932170769525955 ISIC_0014428\n0.1811586288496581 ISIC_0014558\n0.5801486941978442 ISIC_0014568\n0.91745186788713 ISIC_0014572\n1.050559587957911 ISIC_0014597\n0.6696952342103135 ISIC_0014601\n0.4693901189298604 ISIC_0014608\n1.2464661341943408 ISIC_0014610\n0.6049673873237664 ISIC_0014611\n0.8693296590384659 ISIC_0014616\n0.7925094095630273 ISIC_0014618\n0.4545535672475019 ISIC_0014620\n0.33657258081852487 ISIC_0014623\n0.8423876241509103 ISIC_0014624\n1.2708019015762304 ISIC_0014633\n0.21286464013002185 ISIC_0014635\n1.7650026410780975 ISIC_0014637\n0.09158932623972832 ISIC_0014688\n0.3520860190751645 ISIC_0014712\n0.2939726804703771 ISIC_0014809\n0.4382450973606072 ISIC_0014829\n0.15012173131891474 ISIC_0014857\n0.1191939305103849 ISIC_0014931\n0.2558258588658215 ISIC_0014937\n0.8387771851651784 ISIC_0014945\n0.3931504485394343 ISIC_0014946\n0.12328478014044227 ISIC_0014979\n0.10908935228400919 ISIC_0014985\n0.35143499597548294 ISIC_0014989\n0.28694865637766537 ISIC_0015043\n0.167583939140708 ISIC_0015062\n0.25987768948389167 ISIC_0015124\n0.43213599069356035 ISIC_0015144\n0.5655502284705007 ISIC_0015211\n0.1833423895135698 ISIC_0015243\n0.1578075804689305 ISIC_0015256\n0.2315692590976596 ISIC_0015313\n0.25575675213074345 ISIC_0015372\n0.31661994700349017 ISIC_0015401\n0.1506818951657236 ISIC_0015443\n0.24308690368488634 ISIC_0015445\n0.2790679626521802 ISIC_0015483\n0.5394419365833218 ISIC_0015496\n0.30495760408068606 ISIC_0015627\n",
     "output_type": "stream"
    }
   ]
  },
  {
   "cell_type": "code",
   "metadata": {
    "cell_id": "4f6797067b4547eea0ed925d4549ce08",
    "tags": [],
    "deepnote_to_be_reexecuted": false,
    "source_hash": "74520851",
    "execution_start": 1648725864388,
    "execution_millis": 231,
    "deepnote_cell_type": "code",
    "deepnote_cell_height": 507.1875,
    "deepnote_output_heights": [
     21.1875,
     250
    ]
   },
   "source": "\nmad_data= pd.DataFrame(mad_lst, columns=['mad','melanoma', 'id'])\n\nmad_data['mad'].plot()\n\n\n",
   "execution_count": null,
   "outputs": [
    {
     "output_type": "execute_result",
     "execution_count": 84,
     "data": {
      "text/plain": "<AxesSubplot:>"
     },
     "metadata": {}
    },
    {
     "data": {
      "text/plain": "<Figure size 432x288 with 1 Axes>",
      "image/png": "[encoded data removed]"
     },
     "metadata": {
      "needs_background": "light",
      "image/png": {
       "width": 368,
       "height": 248
      }
     },
     "output_type": "display_data"
    }
   ]
  },
  {
   "cell_type": "code",
   "metadata": {
    "cell_id": "1fc0756be4b0447199060be2075cdf58",
    "tags": [],
    "deepnote_to_be_reexecuted": false,
    "source_hash": "c6b93f01",
    "execution_start": 1648725866377,
    "execution_millis": 5,
    "deepnote_cell_type": "code",
    "deepnote_cell_height": 165.859375,
    "deepnote_output_heights": [
     40.390625,
     250
    ]
   },
   "source": "from scipy.stats import pearsonr, spearmanr\n\nmad_data['mad'] = mad_data['mad']*1000\nprint(spearmanr(mad_data['melanoma'], mad_data['mad']))",
   "execution_count": null,
   "outputs": [
    {
     "name": "stdout",
     "text": "SpearmanrResult(correlation=-0.27020593062369996, pvalue=0.0008255705539516937)\n",
     "output_type": "stream"
    }
   ]
  },
  {
   "cell_type": "code",
   "metadata": {
    "cell_id": "d40fc11d9a174ba88f5f38d2ea5a24ff",
    "tags": [],
    "deepnote_to_be_reexecuted": false,
    "source_hash": "ac28b0e",
    "execution_start": 1648725868343,
    "execution_millis": 189,
    "deepnote_cell_type": "code",
    "deepnote_cell_height": 417.1875,
    "deepnote_output_heights": [
     21.1875,
     250
    ]
   },
   "source": "colors = [\"green\" if img_features_df['melanoma'][x] == 0.0 else 'red' for x in range(len(img_features_df['melanoma'])) ]\nplt.scatter([x for x in range(len(mad_data['mad']))], mad_data['mad'], c=colors)",
   "execution_count": null,
   "outputs": [
    {
     "output_type": "execute_result",
     "execution_count": 86,
     "data": {
      "text/plain": "<matplotlib.collections.PathCollection at 0x7f998a29bb90>"
     },
     "metadata": {}
    },
    {
     "data": {
      "text/plain": "<Figure size 432x288 with 1 Axes>",
      "image/png": "[encoded data removed]"
     },
     "metadata": {
      "needs_background": "light",
      "image/png": {
       "width": 387,
       "height": 248
      }
     },
     "output_type": "display_data"
    }
   ]
  },
  {
   "cell_type": "code",
   "metadata": {
    "cell_id": "2cf17810bef74fcf8cc1a0293b47090c",
    "tags": [],
    "deepnote_to_be_reexecuted": false,
    "source_hash": "107393e1",
    "execution_start": 1648725275040,
    "execution_millis": 39,
    "deepnote_table_state": {
     "pageSize": 10,
     "pageIndex": 6,
     "filters": [],
     "sortBy": []
    },
    "deepnote_table_loading": false,
    "deepnote_cell_type": "code",
    "deepnote_cell_height": 598
   },
   "source": "mad_data",
   "execution_count": null,
   "outputs": [
    {
     "output_type": "execute_result",
     "execution_count": 76,
     "data": {
      "application/vnd.deepnote.dataframe.v3+json": {
       "column_count": 3,
       "row_count": 150,
       "columns": [
        {
         "name": "mad",
         "dtype": "float64",
         "stats": {
          "unique_count": 150,
          "nan_count": 0,
          "min": "0.0009740459892146886",
          "max": "1.0968768238462097",
          "histogram": [
           {
            "bin_start": 0.0009740459892146886,
            "bin_end": 0.11056432377491418,
            "count": 121
           },
           {
            "bin_start": 0.11056432377491418,
            "bin_end": 0.22015460156061367,
            "count": 19
           },
           {
            "bin_start": 0.22015460156061367,
            "bin_end": 0.32974487934631314,
            "count": 5
           },
           {
            "bin_start": 0.32974487934631314,
            "bin_end": 0.43933515713201265,
            "count": 1
           },
           {
            "bin_start": 0.43933515713201265,
            "bin_end": 0.5489254349177122,
            "count": 1
           },
           {
            "bin_start": 0.5489254349177122,
            "bin_end": 0.6585157127034116,
            "count": 1
           },
           {
            "bin_start": 0.6585157127034116,
            "bin_end": 0.7681059904891111,
            "count": 1
           },
           {
            "bin_start": 0.7681059904891111,
            "bin_end": 0.8776962682748106,
            "count": 0
           },
           {
            "bin_start": 0.8776962682748106,
            "bin_end": 0.9872865460605101,
            "count": 0
           },
           {
            "bin_start": 0.9872865460605101,
            "bin_end": 1.0968768238462097,
            "count": 1
           }
          ]
         }
        },
        {
         "name": "melanoma",
         "dtype": "float64",
         "stats": {
          "unique_count": 2,
          "nan_count": 0,
          "min": "0.0",
          "max": "1.0",
          "histogram": [
           {
            "bin_start": 0,
            "bin_end": 0.1,
            "count": 120
           },
           {
            "bin_start": 0.1,
            "bin_end": 0.2,
            "count": 0
           },
           {
            "bin_start": 0.2,
            "bin_end": 0.30000000000000004,
            "count": 0
           },
           {
            "bin_start": 0.30000000000000004,
            "bin_end": 0.4,
            "count": 0
           },
           {
            "bin_start": 0.4,
            "bin_end": 0.5,
            "count": 0
           },
           {
            "bin_start": 0.5,
            "bin_end": 0.6000000000000001,
            "count": 0
           },
           {
            "bin_start": 0.6000000000000001,
            "bin_end": 0.7000000000000001,
            "count": 0
           },
           {
            "bin_start": 0.7000000000000001,
            "bin_end": 0.8,
            "count": 0
           },
           {
            "bin_start": 0.8,
            "bin_end": 0.9,
            "count": 0
           },
           {
            "bin_start": 0.9,
            "bin_end": 1,
            "count": 30
           }
          ]
         }
        },
        {
         "name": "id",
         "dtype": "object",
         "stats": {
          "unique_count": 150,
          "nan_count": 0,
          "categories": [
           {
            "name": "ISIC_0001769",
            "count": 1
           },
           {
            "name": "ISIC_0001852",
            "count": 1
           },
           {
            "name": "148 others",
            "count": 148
           }
          ]
         }
        },
        {
         "name": "_deepnote_index_column",
         "dtype": "int64"
        }
       ],
       "rows": [
        {
         "mad": 0.13291516594249872,
         "melanoma": 0,
         "id": "ISIC_0012876",
         "_deepnote_index_column": 60
        },
        {
         "mad": 0.01499380973131752,
         "melanoma": 0,
         "id": "ISIC_0012927",
         "_deepnote_index_column": 61
        },
        {
         "mad": 0.15118489361759252,
         "melanoma": 0,
         "id": "ISIC_0012956",
         "_deepnote_index_column": 62
        },
        {
         "mad": 0.021783966223181763,
         "melanoma": 0,
         "id": "ISIC_0012959",
         "_deepnote_index_column": 63
        },
        {
         "mad": 1.0968768238462097,
         "melanoma": 0,
         "id": "ISIC_0012965",
         "_deepnote_index_column": 64
        },
        {
         "mad": 0.2691103330510812,
         "melanoma": 0,
         "id": "ISIC_0013010",
         "_deepnote_index_column": 65
        },
        {
         "mad": 0.11635736069516096,
         "melanoma": 0,
         "id": "ISIC_0013082",
         "_deepnote_index_column": 66
        },
        {
         "mad": 0.027330741964762404,
         "melanoma": 0,
         "id": "ISIC_0013104",
         "_deepnote_index_column": 67
        },
        {
         "mad": 0.006293159153975885,
         "melanoma": 0,
         "id": "ISIC_0013127",
         "_deepnote_index_column": 68
        },
        {
         "mad": 0.05037542285486982,
         "melanoma": 0,
         "id": "ISIC_0013128",
         "_deepnote_index_column": 69
        }
       ]
      },
      "text/plain": "          mad  melanoma            id\n0    0.082306       0.0  ISIC_0001769\n1    0.204508       0.0  ISIC_0001852\n2    0.065053       0.0  ISIC_0001871\n3    0.210877       0.0  ISIC_0003462\n4    0.084175       0.0  ISIC_0003539\n..        ...       ...           ...\n145  0.002133       0.0  ISIC_0015443\n146  0.003937       0.0  ISIC_0015445\n147  0.004352       0.0  ISIC_0015483\n148  0.008281       0.0  ISIC_0015496\n149  0.008358       0.0  ISIC_0015627\n\n[150 rows x 3 columns]",
      "text/html": "<div>\n<style scoped>\n    .dataframe tbody tr th:only-of-type {\n        vertical-align: middle;\n    }\n\n    .dataframe tbody tr th {\n        vertical-align: top;\n    }\n\n    .dataframe thead th {\n        text-align: right;\n    }\n</style>\n<table border=\"1\" class=\"dataframe\">\n  <thead>\n    <tr style=\"text-align: right;\">\n      <th></th>\n      <th>mad</th>\n      <th>melanoma</th>\n      <th>id</th>\n    </tr>\n  </thead>\n  <tbody>\n    <tr>\n      <th>0</th>\n      <td>0.082306</td>\n      <td>0.0</td>\n      <td>ISIC_0001769</td>\n    </tr>\n    <tr>\n      <th>1</th>\n      <td>0.204508</td>\n      <td>0.0</td>\n      <td>ISIC_0001852</td>\n    </tr>\n    <tr>\n      <th>2</th>\n      <td>0.065053</td>\n      <td>0.0</td>\n      <td>ISIC_0001871</td>\n    </tr>\n    <tr>\n      <th>3</th>\n      <td>0.210877</td>\n      <td>0.0</td>\n      <td>ISIC_0003462</td>\n    </tr>\n    <tr>\n      <th>4</th>\n      <td>0.084175</td>\n      <td>0.0</td>\n      <td>ISIC_0003539</td>\n    </tr>\n    <tr>\n      <th>...</th>\n      <td>...</td>\n      <td>...</td>\n      <td>...</td>\n    </tr>\n    <tr>\n      <th>145</th>\n      <td>0.002133</td>\n      <td>0.0</td>\n      <td>ISIC_0015443</td>\n    </tr>\n    <tr>\n      <th>146</th>\n      <td>0.003937</td>\n      <td>0.0</td>\n      <td>ISIC_0015445</td>\n    </tr>\n    <tr>\n      <th>147</th>\n      <td>0.004352</td>\n      <td>0.0</td>\n      <td>ISIC_0015483</td>\n    </tr>\n    <tr>\n      <th>148</th>\n      <td>0.008281</td>\n      <td>0.0</td>\n      <td>ISIC_0015496</td>\n    </tr>\n    <tr>\n      <th>149</th>\n      <td>0.008358</td>\n      <td>0.0</td>\n      <td>ISIC_0015627</td>\n    </tr>\n  </tbody>\n</table>\n<p>150 rows × 3 columns</p>\n</div>"
     },
     "metadata": {}
    }
   ]
  },
  {
   "cell_type": "code",
   "metadata": {
    "cell_id": "307ddf48f6d74f899a5aa26d00f4d5ce",
    "tags": [],
    "deepnote_to_be_reexecuted": false,
    "source_hash": "bb60be80",
    "execution_start": 1648725278136,
    "execution_millis": 952,
    "deepnote_cell_type": "code",
    "deepnote_cell_height": 439.1875,
    "deepnote_output_heights": [
     21.1875,
     254
    ]
   },
   "source": "img = Image.open(f'../data/example_image/ISIC_0012965.jpg') \nimg_bw = Image.open(f'../data/example_segmentation/ISIC_0012965_segmentation.png') \nplt.imshow(img_bw)",
   "execution_count": null,
   "outputs": [
    {
     "output_type": "execute_result",
     "execution_count": 77,
     "data": {
      "text/plain": "<matplotlib.image.AxesImage at 0x7f998afc53d0>"
     },
     "metadata": {}
    },
    {
     "data": {
      "text/plain": "<Figure size 432x288 with 1 Axes>",
      "image/png": "[encoded data removed]"
     },
     "metadata": {
      "needs_background": "light",
      "image/png": {
       "width": 385,
       "height": 252
      }
     },
     "output_type": "display_data"
    }
   ]
  },
  {
   "cell_type": "code",
   "metadata": {
    "cell_id": "7ebcb5054ec4460ebfc85eaad7e2e680",
    "tags": [],
    "deepnote_cell_type": "code",
    "deepnote_cell_height": 66
   },
   "source": "",
   "execution_count": null,
   "outputs": []
  },
  {
   "cell_type": "markdown",
   "source": "<a style='text-decoration:none;line-height:16px;display:flex;color:#5B5B62;padding:10px;justify-content:end;' href='https://deepnote.com?utm_source=created-in-deepnote-cell&projectId=932aa97b-f6d2-4889-8f04-d6166675cc2f' target=\"_blank\">\n<img alt='Created in deepnote.com' style='display:inline;max-height:16px;margin:0px;margin-right:7.5px;' src='data:image/svg+xml;base64,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' > </img>\nCreated in <span style='font-weight:600;margin-left:4px;'>Deepnote</span></a>",
   "metadata": {
    "tags": [],
    "created_in_deepnote_cell": true,
    "deepnote_cell_type": "markdown"
   }
  }
 ],
 "nbformat": 4,
 "nbformat_minor": 2,
 "metadata": {
  "orig_nbformat": 2,
  "deepnote": {
   "is_reactive": false
  },
  "deepnote_notebook_id": "b5055260-8926-4f57-ae77-662b1511eded",
  "deepnote_execution_queue": []
 }
}