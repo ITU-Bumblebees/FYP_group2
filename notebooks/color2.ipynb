{
 "cells": [
  {
   "cell_type": "code",
   "metadata": {
    "tags": [],
    "cell_id": "f2f25d0b-abd3-4628-b90a-bdb80620f2ec",
    "deepnote_to_be_reexecuted": false,
    "source_hash": "5ac956a8",
    "execution_start": 1648635376889,
    "execution_millis": 850,
    "deepnote_cell_type": "code",
    "deepnote_cell_height": 152.96875
   },
   "source": "import pandas as pd\nimport Config\nimport skimage as sk\nimport matplotlib.pyplot as plt\nimport numpy as np ",
   "execution_count": 1,
   "outputs": []
  },
  {
   "cell_type": "markdown",
   "source": "## Reading images",
   "metadata": {
    "cell_id": "fa6105681db34db4a1ef27e3d236e151",
    "tags": [],
    "deepnote_cell_type": "markdown",
    "deepnote_cell_height": 69.96875
   }
  },
  {
   "cell_type": "code",
   "metadata": {
    "cell_id": "976e7a0b3e5d48f6b729d187ee7efa98",
    "tags": [],
    "deepnote_to_be_reexecuted": false,
    "source_hash": "5823c2e7",
    "execution_start": 1648635377740,
    "execution_millis": 266,
    "deepnote_cell_type": "code",
    "deepnote_cell_height": 98.96875
   },
   "source": "img = plt.imread('../data/example_image/ISIC_0001852.jpg')\nimg_bw = sk.io.imread('../data/example_segmentation/ISIC_0001852_segmentation.png', as_gray=True)",
   "execution_count": 2,
   "outputs": []
  },
  {
   "cell_type": "code",
   "metadata": {
    "cell_id": "715e8e836f7e4840afdc1aaa07386b0a",
    "tags": [],
    "deepnote_to_be_reexecuted": false,
    "source_hash": "d226e07f",
    "execution_start": 1648635378009,
    "execution_millis": 1380,
    "deepnote_cell_type": "code",
    "deepnote_cell_height": 712.96875,
    "deepnote_output_heights": [
     null,
     97.984375,
     249.984375
    ]
   },
   "source": "white_val_x, white_val_y = np.where(img_bw == 255)\n\ncolor = 0 #red\nprint(img[white_val_x][white_val_y][0])\nplt.hist(img[white_val_x][white_val_y][color], bins=5)",
   "execution_count": 3,
   "outputs": [
    {
     "name": "stdout",
     "text": "[[165 139 116]\n [163 137 114]\n [163 136 115]\n ...\n [165 135 109]\n [166 134 111]\n [165 133 110]]\n",
     "output_type": "stream"
    },
    {
     "output_type": "execute_result",
     "execution_count": 3,
     "data": {
      "text/plain": "(array([[0.000e+00, 0.000e+00, 0.000e+00, 2.370e+02, 2.787e+03],\n        [0.000e+00, 8.100e+01, 7.040e+02, 2.238e+03, 1.000e+00],\n        [8.100e+01, 2.750e+02, 2.648e+03, 2.000e+01, 0.000e+00]]),\n array([ 40. ,  71.4, 102.8, 134.2, 165.6, 197. ]),\n <a list of 3 BarContainer objects>)"
     },
     "metadata": {}
    },
    {
     "data": {
      "text/plain": "<Figure size 432x288 with 1 Axes>",
      "image/png": "[encoded data removed]"
     },
     "metadata": {
      "needs_background": "light",
      "image/png": {
       "width": 388,
       "height": 248
      }
     },
     "output_type": "display_data"
    }
   ]
  },
  {
   "cell_type": "code",
   "metadata": {
    "cell_id": "24df1cae70364ff2b837183a733f0129",
    "tags": [],
    "deepnote_to_be_reexecuted": false,
    "source_hash": "7e8fc6f2",
    "execution_start": 1648635379383,
    "execution_millis": 564,
    "deepnote_cell_type": "code",
    "deepnote_cell_height": 341.96875
   },
   "source": "def check_variability(img):\n    bins = 5\n    les_size = np.size(img)\n    variability_score = 0\n\n\n    unique, counts = np.unique(img, return_counts=True)\n    hist, bin_edges = np.histogram(img, bins=bins)\n    print(hist, bin_edges)\n\n\ncheck_variability(img[white_val_x][white_val_y][color])",
   "execution_count": 4,
   "outputs": [
    {
     "name": "stdout",
     "text": "[  81  356 3352 2495 2788] [ 40.   71.4 102.8 134.2 165.6 197. ]\n",
     "output_type": "stream"
    }
   ]
  },
  {
   "cell_type": "code",
   "metadata": {
    "cell_id": "cf1043b2084844eda5d5ae3826d30686",
    "tags": [],
    "deepnote_to_be_reexecuted": false,
    "source_hash": "b623e53d",
    "execution_start": 1648635379950,
    "execution_millis": 2,
    "deepnote_cell_type": "code",
    "deepnote_cell_height": 80.96875
   },
   "source": "",
   "execution_count": 4,
   "outputs": []
  },
  {
   "cell_type": "code",
   "metadata": {
    "cell_id": "53d4e6655f0c4a99bc3fbf1f6b9edb00",
    "tags": [],
    "deepnote_to_be_reexecuted": false,
    "source_hash": "b623e53d",
    "execution_start": 1648635379955,
    "execution_millis": 2,
    "deepnote_cell_type": "code",
    "deepnote_cell_height": 80.96875
   },
   "source": "",
   "execution_count": 4,
   "outputs": []
  },
  {
   "cell_type": "markdown",
   "source": "<a style='text-decoration:none;line-height:16px;display:flex;color:#5B5B62;padding:10px;justify-content:end;' href='https://deepnote.com?utm_source=created-in-deepnote-cell&projectId=932aa97b-f6d2-4889-8f04-d6166675cc2f' target=\"_blank\">\n<img alt='Created in deepnote.com' style='display:inline;max-height:16px;margin:0px;margin-right:7.5px;' src='data:image/svg+xml;base64,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' > </img>\nCreated in <span style='font-weight:600;margin-left:4px;'>Deepnote</span></a>",
   "metadata": {
    "tags": [],
    "created_in_deepnote_cell": true,
    "deepnote_cell_type": "markdown"
   }
  }
 ],
 "nbformat": 4,
 "nbformat_minor": 2,
 "metadata": {
  "orig_nbformat": 2,
  "deepnote": {
   "is_reactive": false
  },
  "deepnote_notebook_id": "b5055260-8926-4f57-ae77-662b1511eded",
  "deepnote_execution_queue": []
 }
}