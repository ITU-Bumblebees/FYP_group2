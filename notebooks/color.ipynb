{
 "cells": [
  {
   "cell_type": "code",
   "metadata": {
    "tags": [],
    "deepnote_to_be_reexecuted": false,
    "source_hash": "dfef4a2d",
    "execution_start": 1648904610606,
    "execution_millis": 25307,
    "cell_id": "d4cec1e1-1cf5-4d09-8a89-d0f845739910",
    "deepnote_cell_type": "code",
    "deepnote_cell_height": 763.953125
   },
   "source": "!pip install statsmodels\n!pip install scikit-image",
   "execution_count": null,
   "outputs": [
    {
     "name": "stdout",
     "text": "Collecting statsmodels\n  Downloading statsmodels-0.13.2-cp37-cp37m-manylinux_2_17_x86_64.manylinux2014_x86_64.whl (9.8 MB)\n\u001b[K     |████████████████████████████████| 9.8 MB 22.1 MB/s \n\u001b[?25hRequirement already satisfied: scipy>=1.3 in /shared-libs/python3.7/py/lib/python3.7/site-packages (from statsmodels) (1.7.3)\nCollecting patsy>=0.5.2\n  Downloading patsy-0.5.2-py2.py3-none-any.whl (233 kB)\n\u001b[K     |████████████████████████████████| 233 kB 45.2 MB/s \n\u001b[?25hRequirement already satisfied: packaging>=21.3 in /shared-libs/python3.7/py-core/lib/python3.7/site-packages (from statsmodels) (21.3)\nRequirement already satisfied: pandas>=0.25 in /shared-libs/python3.7/py/lib/python3.7/site-packages (from statsmodels) (1.2.5)\nRequirement already satisfied: numpy>=1.17 in /shared-libs/python3.7/py/lib/python3.7/site-packages (from statsmodels) (1.21.5)\nRequirement already satisfied: six in /shared-libs/python3.7/py-core/lib/python3.7/site-packages (from patsy>=0.5.2->statsmodels) (1.16.0)\nRequirement already satisfied: pyparsing!=3.0.5,>=2.0.2 in /shared-libs/python3.7/py-core/lib/python3.7/site-packages (from packaging>=21.3->statsmodels) (3.0.7)\nRequirement already satisfied: pytz>=2017.3 in /shared-libs/python3.7/py/lib/python3.7/site-packages (from pandas>=0.25->statsmodels) (2022.1)\nRequirement already satisfied: python-dateutil>=2.7.3 in /shared-libs/python3.7/py-core/lib/python3.7/site-packages (from pandas>=0.25->statsmodels) (2.8.2)\nInstalling collected packages: patsy, statsmodels\nSuccessfully installed patsy-0.5.2 statsmodels-0.13.2\n\u001b[33mWARNING: You are using pip version 20.1.1; however, version 22.0.4 is available.\nYou should consider upgrading via the '/root/venv/bin/python -m pip install --upgrade pip' command.\u001b[0m\nCollecting scikit-image\n  Downloading scikit_image-0.19.2-cp37-cp37m-manylinux_2_12_x86_64.manylinux2010_x86_64.whl (13.5 MB)\n\u001b[K     |████████████████████████████████| 13.5 MB 13.4 MB/s \n\u001b[?25hRequirement already satisfied: pillow!=7.1.0,!=7.1.1,!=8.3.0,>=6.1.0 in /shared-libs/python3.7/py/lib/python3.7/site-packages (from scikit-image) (9.0.1)\nCollecting tifffile>=2019.7.26\n  Downloading tifffile-2021.11.2-py3-none-any.whl (178 kB)\n\u001b[K     |████████████████████████████████| 178 kB 41.8 MB/s \n\u001b[?25hRequirement already satisfied: numpy>=1.17.0 in /shared-libs/python3.7/py/lib/python3.7/site-packages (from scikit-image) (1.21.5)\nRequirement already satisfied: packaging>=20.0 in /shared-libs/python3.7/py-core/lib/python3.7/site-packages (from scikit-image) (21.3)\nCollecting imageio>=2.4.1\n  Downloading imageio-2.16.1-py3-none-any.whl (3.3 MB)\n\u001b[K     |████████████████████████████████| 3.3 MB 13.6 MB/s \n\u001b[?25hRequirement already satisfied: scipy>=1.4.1 in /shared-libs/python3.7/py/lib/python3.7/site-packages (from scikit-image) (1.7.3)\nCollecting PyWavelets>=1.1.1\n  Downloading PyWavelets-1.3.0-cp37-cp37m-manylinux_2_5_x86_64.manylinux1_x86_64.manylinux_2_12_x86_64.manylinux2010_x86_64.whl (6.4 MB)\n\u001b[K     |████████████████████████████████| 6.4 MB 40.5 MB/s \n\u001b[?25hCollecting networkx>=2.2\n  Downloading networkx-2.6.3-py3-none-any.whl (1.9 MB)\n\u001b[K     |████████████████████████████████| 1.9 MB 45.1 MB/s \n\u001b[?25hRequirement already satisfied: pyparsing!=3.0.5,>=2.0.2 in /shared-libs/python3.7/py-core/lib/python3.7/site-packages (from packaging>=20.0->scikit-image) (3.0.7)\nInstalling collected packages: tifffile, imageio, PyWavelets, networkx, scikit-image\nSuccessfully installed PyWavelets-1.3.0 imageio-2.16.1 networkx-2.6.3 scikit-image-0.19.2 tifffile-2021.11.2\n\u001b[33mWARNING: You are using pip version 20.1.1; however, version 22.0.4 is available.\nYou should consider upgrading via the '/root/venv/bin/python -m pip install --upgrade pip' command.\u001b[0m\n",
     "output_type": "stream"
    }
   ]
  },
  {
   "cell_type": "code",
   "metadata": {
    "tags": [],
    "deepnote_to_be_reexecuted": false,
    "source_hash": "fbcafe69",
    "execution_start": 1648904635921,
    "execution_millis": 2638,
    "cell_id": "00002-cec765c0-faa6-4086-87b6-bc5f444d0883",
    "deepnote_cell_type": "code",
    "deepnote_cell_height": 206.96875
   },
   "source": "import pandas as pd\nimport Config\nimport skimage.io as sk\nfrom skimage.color import rgb2gray\nimport matplotlib.pyplot as plt\nimport numpy as np \nfrom statsmodels.robust import mad\nfrom PIL import Image ",
   "execution_count": null,
   "outputs": []
  },
  {
   "cell_type": "markdown",
   "source": "# Constructing color features for machine learning",
   "metadata": {
    "tags": [],
    "cell_id": "00003-35e8ca63-8490-4aa4-8258-1d8bdfb8b18f",
    "deepnote_cell_type": "markdown",
    "deepnote_cell_height": 81.96875
   }
  },
  {
   "cell_type": "markdown",
   "source": "#### Making a dataframe from features.csv to get the files id's",
   "metadata": {
    "tags": [],
    "cell_id": "00004-f77fc76c-1699-42d7-8da2-33fe0c18eba6",
    "deepnote_cell_type": "markdown",
    "deepnote_cell_height": 53.96875
   }
  },
  {
   "cell_type": "code",
   "metadata": {
    "tags": [],
    "deepnote_to_be_reexecuted": false,
    "source_hash": "5c12fd6f",
    "execution_start": 1648904638584,
    "execution_millis": 4,
    "cell_id": "00005-8759455e-a841-473a-beb8-930fe9d657d9",
    "deepnote_cell_type": "code",
    "deepnote_cell_height": 188.96875
   },
   "source": "img_features_df = pd.read_csv(Config.features_path)\n#img_features_df = img_features_df.drop(['area', 'perimeter'], axis=1) #we only need the id\nmel_df = pd.read_csv(Config.example_ground_truth_path)\n\nimg_features_df['melanoma'] = mel_df['melanoma']\n\n#print(img_features_df[img_features_df['melanoma'] == 1]) #getting the images that show cancer lesions",
   "execution_count": null,
   "outputs": []
  },
  {
   "cell_type": "markdown",
   "source": "## Color class",
   "metadata": {
    "tags": [],
    "cell_id": "00008-c45f3463-ed6c-4660-b084-6eacea5c382a",
    "deepnote_cell_type": "markdown",
    "deepnote_cell_height": 69.96875
   }
  },
  {
   "cell_type": "code",
   "metadata": {
    "tags": [],
    "deepnote_to_be_reexecuted": false,
    "source_hash": "45199558",
    "execution_start": 1648904638604,
    "execution_millis": 2,
    "cell_id": "00009-7b8825a5-9dbb-420b-ac86-8076ce05c075",
    "deepnote_cell_type": "code",
    "deepnote_cell_height": 638.96875
   },
   "source": "class Color:\n    def __init__(self, img, img_bw):\n        self.img = img\n        self.img_bw = img_bw\n    \n\n    def score_variability(self):\n        '''\n            Assigns a variability score\n        '''\n        if self._check_variability() < 20: \n            return 0 \n        elif self._check_variability() < 50: \n            return 1\n        else: \n            return 2\n\n    def _check_variability(self):\n        '''\n            Returns a mean of the median absolute deviation of each color (rgb)\n        '''\n        self.img[self.img_bw==0] = 0\n        \n        #we then calculate the mad of each dimension \n        r, g, b = self.img[:,:,0], self.img[:,:,1], self.img[:,:,2]\n        mad_r= mad(r[np.where(r != 0)])\n        mad_g= mad(g[np.where(g != 0)])\n        mad_b= mad(b[np.where(b != 0)])\n        mad_result= [mad_r,mad_g,mad_b]\n\n        #calculating the mean\n        return np.mean(mad_result)",
   "execution_count": null,
   "outputs": []
  },
  {
   "cell_type": "markdown",
   "source": "### Looping through each image and checking its color",
   "metadata": {
    "tags": [],
    "cell_id": "00010-d89f958f-b147-46d0-b753-d31a57e9da77",
    "deepnote_cell_type": "markdown",
    "deepnote_cell_height": 61.96875
   }
  },
  {
   "cell_type": "code",
   "metadata": {
    "tags": [],
    "deepnote_to_be_reexecuted": false,
    "source_hash": "4bd21f97",
    "execution_start": 1648904638614,
    "execution_millis": 263110,
    "cell_id": "00011-20ff0df9-c209-4808-aa8d-7cb6f0a3b9d5",
    "deepnote_cell_type": "code",
    "deepnote_cell_height": 386.96875
   },
   "source": "#M,N is the range of images that we choosen (finally it will be 0-# of images)\nN = 0\nM = 150\n\nmad_lst = [0 for _ in range(M-N)]\n\n\n#the main for loop which loads the images\nfor (index, id) in enumerate(img_features_df['id'][N:M]):\n    img = plt.imread(f'../data/example_image/{id}.jpg') #main image\n    img_bw = plt.imread(f'../data/example_segmentation/{id}_segmentation.png') #main image grayed\n\n    title = f\"{id}: {img_features_df[img_features_df['id'] == id]['melanoma'].iloc[0]}\"\n    is_cancer = img_features_df[img_features_df['id'] == id]['melanoma'].iloc[0]\n\n    #creating an instance of the Color class & applying its functions\n    color = Color(img, img_bw)\n    mad_lst[index] = (id, color.score_variability(), is_cancer)",
   "execution_count": null,
   "outputs": []
  },
  {
   "cell_type": "markdown",
   "source": "### Measuring accuracy (just for us)",
   "metadata": {
    "cell_id": "f123f7e4111b44b6932f0f7d7f1a2078",
    "tags": [],
    "deepnote_cell_type": "markdown",
    "deepnote_cell_height": 61.96875
   }
  },
  {
   "cell_type": "code",
   "metadata": {
    "tags": [],
    "deepnote_to_be_reexecuted": false,
    "source_hash": "d201df92",
    "execution_start": 1648904901770,
    "execution_millis": 112,
    "cell_id": "00012-dade2e5d-f9d0-4016-848a-f69d09775f23",
    "deepnote_cell_type": "code",
    "deepnote_cell_height": 291.90625
   },
   "source": "\nmad_data = pd.DataFrame(mad_lst, columns=['id', 'mad','melanoma'])\n\ntrue_mask = (mad_data['melanoma'] == 1) & (mad_data['mad'] == 1)\ntrue_mask2 = (mad_data['melanoma'] == 1) & (mad_data['mad'] == 2)\n\nfalse_mask = (mad_data['melanoma'] == 0) & (mad_data['mad'] == 0)\n\nguessed = len(mad_data[true_mask]) + len(mad_data[true_mask2]) + len(mad_data[false_mask])\n\nprint(f'accuracy of variability {guessed / (M-N)}')",
   "execution_count": null,
   "outputs": [
    {
     "name": "stdout",
     "text": "accuracy of variability 0.46\n",
     "output_type": "stream"
    }
   ]
  },
  {
   "cell_type": "code",
   "metadata": {
    "tags": [],
    "deepnote_to_be_reexecuted": false,
    "source_hash": "afa2c479",
    "execution_start": 1648904901774,
    "execution_millis": 321,
    "cell_id": "00013-c5f64802-9e0f-42ee-b36c-bdc63f270c97",
    "deepnote_cell_type": "code",
    "deepnote_cell_height": 725.125,
    "deepnote_output_heights": [
     21.1875,
     467.984375
    ]
   },
   "source": "fig, ax = plt.subplots(figsize=(16, 8))\n\ncolors = [\"green\" if img_features_df['melanoma'][x] == 0.0 else 'red' for x in range(len(img_features_df['melanoma'])) ]\nx_axis = [i for i in range(M-N)]\nax.scatter(x_axis, mad_data['mad'], c=colors);\nax.plot(x_axis, [20 for _ in range(M-N)])\nax.plot(x_axis, [50 for _ in range(M-N)])",
   "execution_count": null,
   "outputs": [
    {
     "output_type": "execute_result",
     "execution_count": 7,
     "data": {
      "text/plain": "[<matplotlib.lines.Line2D at 0x7f680fda6050>]"
     },
     "metadata": {}
    },
    {
     "data": {
      "text/plain": "<Figure size 1152x576 with 1 Axes>",
      "image/png": "[encoded data removed]"
     },
     "metadata": {
      "needs_background": "light",
      "image/png": {
       "width": 926,
       "height": 466
      }
     },
     "output_type": "display_data"
    }
   ]
  },
  {
   "cell_type": "code",
   "metadata": {
    "cell_id": "3d6b20ae59d04bfe8c7bdc5eea596c3b",
    "tags": [],
    "deepnote_to_be_reexecuted": false,
    "source_hash": "b623e53d",
    "execution_start": 1648904902101,
    "execution_millis": 3,
    "deepnote_cell_type": "code",
    "deepnote_cell_height": 80.96875
   },
   "source": "",
   "execution_count": null,
   "outputs": []
  },
  {
   "cell_type": "code",
   "metadata": {
    "cell_id": "30415715d3ee40319af7f15492a83dff",
    "tags": [],
    "deepnote_to_be_reexecuted": false,
    "source_hash": "b623e53d",
    "execution_start": 1648904902112,
    "execution_millis": 4,
    "deepnote_cell_type": "code",
    "deepnote_cell_height": 80.96875
   },
   "source": "",
   "execution_count": null,
   "outputs": []
  },
  {
   "cell_type": "markdown",
   "source": "<a style='text-decoration:none;line-height:16px;display:flex;color:#5B5B62;padding:10px;justify-content:end;' href='https://deepnote.com?utm_source=created-in-deepnote-cell&projectId=932aa97b-f6d2-4889-8f04-d6166675cc2f' target=\"_blank\">\n<img alt='Created in deepnote.com' style='display:inline;max-height:16px;margin:0px;margin-right:7.5px;' src='data:image/svg+xml;base64,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' > </img>\nCreated in <span style='font-weight:600;margin-left:4px;'>Deepnote</span></a>",
   "metadata": {
    "tags": [],
    "created_in_deepnote_cell": true,
    "deepnote_cell_type": "markdown"
   }
  }
 ],
 "nbformat": 4,
 "nbformat_minor": 2,
 "metadata": {
  "orig_nbformat": 2,
  "deepnote": {
   "is_reactive": false
  },
  "deepnote_notebook_id": "4372cf8e-a7a9-44d9-a206-5a62841f5158",
  "deepnote_execution_queue": []
 }
}