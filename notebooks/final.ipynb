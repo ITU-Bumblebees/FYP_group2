{
 "cells": [
  {
   "cell_type": "markdown",
   "source": "# FYP Project 2 Group G",
   "metadata": {
    "cell_id": "99fd063a785640cda6495bf4d8d18f5d",
    "tags": [],
    "is_collapsed": false,
    "deepnote_cell_type": "text-cell-h1"
   }
  },
  {
   "cell_type": "markdown",
   "source": "#### How to run this notebook\n\n...",
   "metadata": {
    "cell_id": "de3a6abaf7b94978ad0ff2cf0a973207",
    "tags": [],
    "deepnote_cell_type": "markdown",
    "deepnote_cell_height": 88.390625
   }
  },
  {
   "cell_type": "markdown",
   "source": "### Research Question\n[the question]",
   "metadata": {
    "cell_id": "92ff80b9d8b248309ebe5f92902ebbbf",
    "tags": [],
    "deepnote_cell_type": "markdown",
    "deepnote_cell_height": 100.390625
   }
  },
  {
   "cell_type": "code",
   "metadata": {
    "tags": [],
    "cell_id": "5d4d9778-c09e-46b9-a509-07d3151a1198",
    "deepnote_to_be_reexecuted": false,
    "source_hash": "af27a570",
    "execution_start": 1649167644033,
    "execution_millis": 2192,
    "deepnote_cell_type": "code",
    "deepnote_cell_height": 423
   },
   "source": "# Imports\nimport matplotlib.pyplot as plt\nimport pandas as pd\nimport numpy as np\nimport Config\nimport os, sys\nfrom scipy.stats import pearsonr, spearmanr\nimport seaborn as sns\nimport skimage.io as sk\nfrom skimage import morphology\nfrom skimage.color import rgb2gray\nfrom statsmodels.robust import mad\nfrom PIL import Image\nimport ptitprince as pt\nfrom sklearn.model_selection import train_test_split\nfrom sklearn.neighbors import KNeighborsClassifier\nfrom sklearn.tree import DecisionTreeClassifier\nfrom sklearn.metrics import roc_auc_score\nfrom sklearn.metrics import accuracy_score\n",
   "execution_count": null,
   "outputs": []
  },
  {
   "cell_type": "markdown",
   "source": "### Dataframes",
   "metadata": {
    "cell_id": "6b45a9c4f1d24f198b2ef8eae9c48108",
    "tags": [],
    "deepnote_cell_type": "markdown",
    "deepnote_cell_height": 62
   }
  },
  {
   "cell_type": "code",
   "metadata": {
    "cell_id": "0830c5b5220c4ed39cd11e4a1f647b83",
    "tags": [],
    "deepnote_to_be_reexecuted": false,
    "source_hash": "f6e7db8c",
    "execution_start": 1649167646232,
    "execution_millis": 16,
    "deepnote_cell_type": "code",
    "deepnote_cell_height": 135
   },
   "source": "df = pd.read_csv(Config.features_path) #the main dataframe\n\nmel_df = pd.read_csv(Config.example_ground_truth_path)\ndf['melanoma'] = mel_df['melanoma']",
   "execution_count": null,
   "outputs": []
  },
  {
   "cell_type": "markdown",
   "source": "## Task 0 - exploring the data \nInvestigating the data provided by our teacher - looking for missing values in .csv files as well as getting familiar with the data using the df.describe() function.",
   "metadata": {
    "cell_id": "82c8b3929d77490ab3fec74114d5c8bb",
    "tags": [],
    "deepnote_cell_type": "markdown",
    "deepnote_cell_height": 130.796875
   }
  },
  {
   "cell_type": "code",
   "metadata": {
    "cell_id": "d1038bfd4c4149789e0ad934bb86b54d",
    "tags": [],
    "deepnote_to_be_reexecuted": false,
    "source_hash": "4f54e652",
    "execution_start": 1649167646258,
    "execution_millis": 8,
    "deepnote_cell_type": "code",
    "deepnote_cell_height": 316
   },
   "source": "#getting the shape of df\nprint(f'shape of the main df: {df.shape}')\n\n#looking for missing data\nprint(f'Are there any missing values in the dataset? {df.isna().any().any()}')\n\n#getting the diagnosis types\nprint('')\nprint(f'The diagnosis types: {mel_df.columns[1:]}')",
   "execution_count": null,
   "outputs": [
    {
     "name": "stdout",
     "text": "shape of the main df: (150, 4)\nAre there any missing values in the dataset? False\n\nThe diagnosis types: Index(['melanoma', 'seborrheic_keratosis'], dtype='object')\n",
     "output_type": "stream"
    }
   ]
  },
  {
   "cell_type": "code",
   "metadata": {
    "cell_id": "b697052685434cf5acdf0f15cfc84baa",
    "tags": [],
    "deepnote_to_be_reexecuted": false,
    "source_hash": "f88152d9",
    "execution_start": 1649167646278,
    "execution_millis": 42,
    "deepnote_cell_type": "code",
    "deepnote_cell_height": 518
   },
   "source": "df.describe()",
   "execution_count": null,
   "outputs": [
    {
     "output_type": "execute_result",
     "execution_count": 4,
     "data": {
      "application/vnd.deepnote.dataframe.v3+json": {
       "column_count": 3,
       "row_count": 8,
       "columns": [
        {
         "name": "area",
         "dtype": "float64",
         "stats": {
          "unique_count": 8,
          "nan_count": 0,
          "min": "150.0",
          "max": "27706864.0",
          "histogram": [
           {
            "bin_start": 150,
            "bin_end": 2770821.4,
            "count": 5
           },
           {
            "bin_start": 2770821.4,
            "bin_end": 5541492.8,
            "count": 1
           },
           {
            "bin_start": 5541492.8,
            "bin_end": 8312164.199999999,
            "count": 1
           },
           {
            "bin_start": 8312164.199999999,
            "bin_end": 11082835.6,
            "count": 0
           },
           {
            "bin_start": 11082835.6,
            "bin_end": 13853507,
            "count": 0
           },
           {
            "bin_start": 13853507,
            "bin_end": 16624178.399999999,
            "count": 0
           },
           {
            "bin_start": 16624178.399999999,
            "bin_end": 19394849.8,
            "count": 0
           },
           {
            "bin_start": 19394849.8,
            "bin_end": 22165521.2,
            "count": 0
           },
           {
            "bin_start": 22165521.2,
            "bin_end": 24936192.599999998,
            "count": 0
           },
           {
            "bin_start": 24936192.599999998,
            "bin_end": 27706864,
            "count": 1
           }
          ]
         }
        },
        {
         "name": "perimeter",
         "dtype": "float64",
         "stats": {
          "unique_count": 8,
          "nan_count": 0,
          "min": "150.0",
          "max": "25900.0",
          "histogram": [
           {
            "bin_start": 150,
            "bin_end": 2725,
            "count": 3
           },
           {
            "bin_start": 2725,
            "bin_end": 5300,
            "count": 2
           },
           {
            "bin_start": 5300,
            "bin_end": 7875,
            "count": 2
           },
           {
            "bin_start": 7875,
            "bin_end": 10450,
            "count": 0
           },
           {
            "bin_start": 10450,
            "bin_end": 13025,
            "count": 0
           },
           {
            "bin_start": 13025,
            "bin_end": 15600,
            "count": 0
           },
           {
            "bin_start": 15600,
            "bin_end": 18175,
            "count": 0
           },
           {
            "bin_start": 18175,
            "bin_end": 20750,
            "count": 0
           },
           {
            "bin_start": 20750,
            "bin_end": 23325,
            "count": 0
           },
           {
            "bin_start": 23325,
            "bin_end": 25900,
            "count": 1
           }
          ]
         }
        },
        {
         "name": "melanoma",
         "dtype": "float64",
         "stats": {
          "unique_count": 5,
          "nan_count": 0,
          "min": "0.0",
          "max": "150.0",
          "histogram": [
           {
            "bin_start": 0,
            "bin_end": 15,
            "count": 7
           },
           {
            "bin_start": 15,
            "bin_end": 30,
            "count": 0
           },
           {
            "bin_start": 30,
            "bin_end": 45,
            "count": 0
           },
           {
            "bin_start": 45,
            "bin_end": 60,
            "count": 0
           },
           {
            "bin_start": 60,
            "bin_end": 75,
            "count": 0
           },
           {
            "bin_start": 75,
            "bin_end": 90,
            "count": 0
           },
           {
            "bin_start": 90,
            "bin_end": 105,
            "count": 0
           },
           {
            "bin_start": 105,
            "bin_end": 120,
            "count": 0
           },
           {
            "bin_start": 120,
            "bin_end": 135,
            "count": 0
           },
           {
            "bin_start": 135,
            "bin_end": 150,
            "count": 1
           }
          ]
         }
        },
        {
         "name": "_deepnote_index_column",
         "dtype": "object"
        }
       ],
       "rows": [
        {
         "area": 150,
         "perimeter": 150,
         "melanoma": 150,
         "_deepnote_index_column": "count"
        },
        {
         "area": 3114133.6333333333,
         "perimeter": 5570.36,
         "melanoma": 0.2,
         "_deepnote_index_column": "mean"
        },
        {
         "area": 5897570.240149394,
         "perimeter": 5294.59662041273,
         "melanoma": 0.40134003725439066,
         "_deepnote_index_column": "std"
        },
        {
         "area": 32944,
         "perimeter": 642,
         "melanoma": 0,
         "_deepnote_index_column": "min"
        },
        {
         "area": 232992.25,
         "perimeter": 2014.5,
         "melanoma": 0,
         "_deepnote_index_column": "25%"
        },
        {
         "area": 622316.5,
         "perimeter": 3324.5,
         "melanoma": 0,
         "_deepnote_index_column": "50%"
        },
        {
         "area": 2054852.5,
         "perimeter": 7137.5,
         "melanoma": 0,
         "_deepnote_index_column": "75%"
        },
        {
         "area": 27706864,
         "perimeter": 25900,
         "melanoma": 1,
         "_deepnote_index_column": "max"
        }
       ]
      },
      "text/plain": "               area    perimeter   melanoma\ncount  1.500000e+02    150.00000  150.00000\nmean   3.114134e+06   5570.36000    0.20000\nstd    5.897570e+06   5294.59662    0.40134\nmin    3.294400e+04    642.00000    0.00000\n25%    2.329922e+05   2014.50000    0.00000\n50%    6.223165e+05   3324.50000    0.00000\n75%    2.054852e+06   7137.50000    0.00000\nmax    2.770686e+07  25900.00000    1.00000",
      "text/html": "<div>\n<style scoped>\n    .dataframe tbody tr th:only-of-type {\n        vertical-align: middle;\n    }\n\n    .dataframe tbody tr th {\n        vertical-align: top;\n    }\n\n    .dataframe thead th {\n        text-align: right;\n    }\n</style>\n<table border=\"1\" class=\"dataframe\">\n  <thead>\n    <tr style=\"text-align: right;\">\n      <th></th>\n      <th>area</th>\n      <th>perimeter</th>\n      <th>melanoma</th>\n    </tr>\n  </thead>\n  <tbody>\n    <tr>\n      <th>count</th>\n      <td>1.500000e+02</td>\n      <td>150.00000</td>\n      <td>150.00000</td>\n    </tr>\n    <tr>\n      <th>mean</th>\n      <td>3.114134e+06</td>\n      <td>5570.36000</td>\n      <td>0.20000</td>\n    </tr>\n    <tr>\n      <th>std</th>\n      <td>5.897570e+06</td>\n      <td>5294.59662</td>\n      <td>0.40134</td>\n    </tr>\n    <tr>\n      <th>min</th>\n      <td>3.294400e+04</td>\n      <td>642.00000</td>\n      <td>0.00000</td>\n    </tr>\n    <tr>\n      <th>25%</th>\n      <td>2.329922e+05</td>\n      <td>2014.50000</td>\n      <td>0.00000</td>\n    </tr>\n    <tr>\n      <th>50%</th>\n      <td>6.223165e+05</td>\n      <td>3324.50000</td>\n      <td>0.00000</td>\n    </tr>\n    <tr>\n      <th>75%</th>\n      <td>2.054852e+06</td>\n      <td>7137.50000</td>\n      <td>0.00000</td>\n    </tr>\n    <tr>\n      <th>max</th>\n      <td>2.770686e+07</td>\n      <td>25900.00000</td>\n      <td>1.00000</td>\n    </tr>\n  </tbody>\n</table>\n</div>"
     },
     "metadata": {}
    }
   ]
  },
  {
   "cell_type": "markdown",
   "source": "## Task 1 - measuring the features ourselves",
   "metadata": {
    "cell_id": "0d99a5fbd9f34bc8808db6bf5bbe91d0",
    "tags": [],
    "deepnote_cell_type": "markdown",
    "deepnote_cell_height": 70
   }
  },
  {
   "cell_type": "code",
   "metadata": {
    "cell_id": "da386f9e7b6e4534a88d09ca2314ce9a",
    "tags": [],
    "deepnote_to_be_reexecuted": false,
    "source_hash": "474a28a6",
    "execution_start": 1649167646365,
    "execution_millis": 1,
    "deepnote_cell_type": "code",
    "deepnote_cell_height": 81
   },
   "source": "## TODO - add plots of our guesses",
   "execution_count": null,
   "outputs": []
  },
  {
   "cell_type": "markdown",
   "source": "## Task 2 - creating our feature measurements",
   "metadata": {
    "cell_id": "ecfe3be7863c4e0394c6abbf4e48dfac",
    "tags": [],
    "deepnote_cell_type": "markdown",
    "deepnote_cell_height": 70
   }
  },
  {
   "cell_type": "markdown",
   "source": "### Picture Class\nThis class contains all the feature functions that we apply for each image as well as a function that measures the area & perimeter of an image.",
   "metadata": {
    "cell_id": "5e1e7ef8047741a5863c18dab72c197f",
    "tags": [],
    "deepnote_cell_type": "markdown",
    "deepnote_cell_height": 122.796875
   }
  },
  {
   "cell_type": "code",
   "metadata": {
    "cell_id": "97b77359735d4556bcba3c483e82ee91",
    "tags": [],
    "deepnote_to_be_reexecuted": false,
    "source_hash": "4fd2b275",
    "execution_start": 1649167700538,
    "execution_millis": 3,
    "deepnote_cell_type": "code",
    "deepnote_cell_height": 1701
   },
   "source": "class Picture:\n    def __init__(self, img, img_bw):\n        self.img = img #main image\n        self.img_bw = self._cut_image(img_bw) #the image in black & white version\n\n    #ASYMMETRY\n    def _cut_image(self, picture):\n        ''' Makes the number of pixels in width and height an even number  '''\n        width, height = picture.size\n        image = np.array(picture)\n        \n        if width %2 != 0:\n            image = np.delete(image, -1, 1)\n\n        if height %2 != 0:\n            image = np.delete(image, -1, 0)\n\n        image = Image.fromarray(image)\n\n        return image\n\n    def _asymmetry(self, rot_img):\n        '''Gets the asymmetry between the left and right part of a given binary mask '''\n        width, height = rot_img.size #mask should be quadratic and therefore have equal dimension\n        size = width * height\n\n        #check for uneven number of pixels (should not happen but just as a precaution)\n        if width %2 != 0:\n            raise TypeError('Uneven number of pixel and cannot be symmetric')\n        \n        #cut in half and fold\n        left = rot_img.crop((0, 0, (width/2), height)) #left part of picture (left, top, right, bottom)\n        right = rot_img.crop(((width/2), 0, width, height)) #right part of picture\n        right = right.transpose(Image.FLIP_LEFT_RIGHT) #flip right part to compare\n\n        #get the binary difference between left an right\n        symmetry = np.where(np.array(left) != np.array(right), 1, 0)\n\n        return np.sum(symmetry) / (size/2) #the percentage of asymmetry \n    \n    def get_asymmetry(self):\n        '''Returns the asymmetry for a given mask by folding it in half from multiple angles'''\n        return round(np.mean([self._asymmetry(self.img_bw), self._asymmetry(self.img_bw.rotate(30, expand= True)),self._asymmetry(self.img_bw.rotate(60, expand= True)),self._asymmetry(self.img_bw.rotate(90, expand= True))]),2)\n\n    #BORDER\n    def measure_area_perimeter(self): #TODO (erase) Stolen from Veronika's github\n        '''Measures the area and perimeter of a mask image '''\n        #area: the sum of all white pixels in the mask image\n        mask = np.where(np.array(self.img_bw)==255, 1, 0)\n        area = np.sum(mask)\n\n        #perimeter: first find which pixels belong to the perimeter.\n        struct_el = morphology.disk(1)\n        mask_eroded = morphology.binary_erosion(mask, struct_el)\n        image_perimeter = mask - mask_eroded\n\n        #now we have the perimeter image, the sum of all white pixels in it\n        perimeter = np.sum(image_perimeter)\n\n        return area, perimeter\n\n    def get_compactness(self):\n        ''' Computes and returns the compactness of a figure '''\n        area, perimeter = self.measure_area_perimeter()\n        return round(4*np.pi*area / perimeter ** 2, 4)\n\n\n    #COLOR\n    def get_color_variability(self):\n        '''Assigns a color variability score'''\n        if self._check_variability() < 20: \n            return 0 \n        elif self._check_variability() < 50: \n            return 1\n        else: \n            return 2\n\n    def _check_variability(self):\n        '''Returns a mean of the median absolute deviation of each color (rgb)'''\n        self.img[self.img_bw==0] = 0\n        \n        #we then calculate the mad of each dimension \n        r, g, b = self.img[:,:,0], self.img[:,:,1], self.img[:,:,2]\n        mad_r= mad(r[np.where(r != 0)])\n        mad_g= mad(g[np.where(g != 0)])\n        mad_b= mad(b[np.where(b != 0)])\n        mad_result= [mad_r,mad_g,mad_b]\n\n        #calculating the mean\n        return np.mean(mad_result)\n    ",
   "execution_count": null,
   "outputs": []
  },
  {
   "cell_type": "markdown",
   "source": "### Visualizing the feature functions\nCreating plots of each feature function in order to explore our measurements.",
   "metadata": {
    "cell_id": "f1be039798f840ca8c99b78e57046f57",
    "tags": [],
    "deepnote_cell_type": "markdown",
    "deepnote_cell_height": 100.390625
   }
  },
  {
   "cell_type": "markdown",
   "source": "#### Asymmetry plots",
   "metadata": {
    "cell_id": "3daca9280c1c4e49bba89d9ecccd92b8",
    "tags": [],
    "deepnote_cell_type": "markdown",
    "deepnote_cell_height": 54
   }
  },
  {
   "cell_type": "code",
   "metadata": {
    "cell_id": "eab71dd05ecd4302bbda620ebca6cdc2",
    "tags": [],
    "deepnote_cell_type": "code",
    "deepnote_cell_height": 66
   },
   "source": "# TODO - add plots of asymmetry",
   "execution_count": null,
   "outputs": []
  },
  {
   "cell_type": "markdown",
   "source": "#### Border plots",
   "metadata": {
    "cell_id": "c31e680d191a4b6d9b62f0a9be364a1f",
    "tags": [],
    "deepnote_cell_type": "markdown",
    "deepnote_cell_height": 54
   }
  },
  {
   "cell_type": "code",
   "metadata": {
    "cell_id": "49f83c2a80f54a2f837799e4450b3dd7",
    "tags": [],
    "deepnote_to_be_reexecuted": false,
    "source_hash": "4714f77d",
    "execution_start": 1649167702148,
    "execution_millis": 5,
    "deepnote_cell_type": "code",
    "deepnote_cell_height": 81
   },
   "source": "# TODO - add plots of border",
   "execution_count": null,
   "outputs": []
  },
  {
   "cell_type": "markdown",
   "source": "#### Color plots",
   "metadata": {
    "cell_id": "99a701a8573d46869e6eab2c484dbf77",
    "tags": [],
    "deepnote_cell_type": "markdown",
    "deepnote_cell_height": 54
   }
  },
  {
   "cell_type": "code",
   "metadata": {
    "cell_id": "939797feeecd4c2d9199209f8578771e",
    "tags": [],
    "deepnote_cell_type": "code",
    "deepnote_cell_height": 66
   },
   "source": "# TODO - add plots of color",
   "execution_count": null,
   "outputs": []
  },
  {
   "cell_type": "markdown",
   "source": "## Task 3 - predicting the diagnosis",
   "metadata": {
    "cell_id": "db0462b116374efa9eea9c782d2189f8",
    "tags": [],
    "deepnote_cell_type": "markdown",
    "deepnote_cell_height": 70
   }
  },
  {
   "cell_type": "markdown",
   "source": "#### get_row()",
   "metadata": {
    "cell_id": "47bd05c8f99f4ef59a3b35c5a491ff8b",
    "tags": [],
    "deepnote_cell_type": "markdown",
    "deepnote_cell_height": 54
   }
  },
  {
   "cell_type": "code",
   "metadata": {
    "cell_id": "4963ba44dcca4f2ca94f4cbda9007013",
    "tags": [],
    "deepnote_cell_type": "code",
    "deepnote_cell_height": 66
   },
   "source": "# TODO - add get_row",
   "execution_count": null,
   "outputs": []
  },
  {
   "cell_type": "markdown",
   "source": "#### train_evaluate_classifiers()",
   "metadata": {
    "cell_id": "4d6e729ef83144fca278f13b6107956f",
    "tags": [],
    "deepnote_cell_type": "markdown",
    "deepnote_cell_height": 54
   }
  },
  {
   "cell_type": "code",
   "metadata": {
    "cell_id": "a2dad4ce1165480d85dd95714362fadb",
    "tags": [],
    "deepnote_to_be_reexecuted": false,
    "source_hash": "f9908ebe",
    "execution_start": 1649169144366,
    "execution_millis": 1,
    "deepnote_cell_type": "code",
    "deepnote_cell_height": 81
   },
   "source": "# TODO - add train_evaluate_classifiers",
   "execution_count": null,
   "outputs": []
  },
  {
   "cell_type": "markdown",
   "source": "### Main()\nThe `main()` functon iterates over each image, creates an instance of the `Picture` class, and adds a row to a dataframe with all functions using the `get_row()` function. Ultimately, it returns the `train_evaluate_classifiers()` function with the dataframe mentioned above as the attribute.",
   "metadata": {
    "cell_id": "e362e1dc271949fba63662260fa54235",
    "tags": [],
    "deepnote_cell_type": "markdown",
    "deepnote_cell_height": 145.1875
   }
  },
  {
   "cell_type": "code",
   "metadata": {
    "cell_id": "a9233d92d18140b59abe0c01874cf534",
    "tags": [],
    "deepnote_to_be_reexecuted": false,
    "source_hash": "b623e53d",
    "execution_start": 1649167703312,
    "execution_millis": 1,
    "deepnote_cell_type": "code",
    "deepnote_cell_height": 81
   },
   "source": "#TODO - add main",
   "execution_count": null,
   "outputs": []
  },
  {
   "cell_type": "markdown",
   "source": "## Task 4 - open question",
   "metadata": {
    "cell_id": "1b53e49c855b44239e9de6d4671532e6",
    "tags": [],
    "deepnote_cell_type": "markdown",
    "deepnote_cell_height": 70
   }
  },
  {
   "cell_type": "code",
   "metadata": {
    "cell_id": "bd6273f123ac4d499ad92c9ff0f12293",
    "tags": [],
    "deepnote_to_be_reexecuted": false,
    "source_hash": "9de32b0c",
    "execution_start": 1649167754797,
    "execution_millis": 484275,
    "deepnote_cell_type": "code",
    "deepnote_cell_height": 621
   },
   "source": "#M,N is the range of images that we choosen (finally it will be 0-# of images)\nN = 0\nM = 150\n\nfeat_dict = {\n    'asymmetry': [0 for _ in range(M-N)],\n    'border': [0 for _ in range(M-N)],\n    'color': [0 for _ in range(M-N)]\n}\n\n\n#the main for loop which loads the images\nfor (index, id) in enumerate(df['id'][N:M]):\n    img = plt.imread(f'../data/example_image/{id}.jpg') #main image\n    #img_bw = plt.imread(f'../data/example_segmentation/{id}_segmentation.png') #main image grayed\n\n    file_mask = f'../data/example_segmentation/{id}_segmentation.png'\n    \n    # Read the images with these filenames\n    img_bw = Image.open(file_mask) # open mask image\n    perimeter, area = df[df['id'] == id]['perimeter'].iloc[0], df[df['id'] == id]['area'].iloc[0]\n\n\n    is_cancer = df[df['id'] == id]['melanoma'].iloc[0] #TMP\n\n    image = Picture(img, img_bw)\n\n    feat_dict[\"asymmetry\"][index] = image.get_asymmetry()\n    feat_dict[\"border\"][index] = round(image.get_compactness(), 3)\n    feat_dict[\"color\"][index] = image.get_color_variability()\n",
   "execution_count": null,
   "outputs": []
  },
  {
   "cell_type": "code",
   "metadata": {
    "cell_id": "92f6257a9f4e493abfd35862b6bf51fe",
    "tags": [],
    "deepnote_to_be_reexecuted": true,
    "source_hash": "b1dd3d9c",
    "execution_start": 1649157367390,
    "execution_millis": 292,
    "deepnote_table_state": {
     "pageSize": 10,
     "pageIndex": 14,
     "filters": [],
     "sortBy": []
    },
    "deepnote_table_loading": false,
    "deepnote_cell_type": "code",
    "deepnote_cell_height": 234.1875
   },
   "source": "#feat_df = pd.DataFrame()\n#feat_df = feat_dict.append(feat_dict, ignore_index=True)\ndf['asymmetry'] = feat_dict['asymmetry']\ndf['border'] = feat_dict['border']\ndf['color'] = feat_dict['color']\ndf",
   "execution_count": null,
   "outputs": [
    {
     "output_type": "error",
     "ename": "ValueError",
     "evalue": "Length of values (30) does not match length of index (150)",
     "traceback": [
      "\u001b[0;31m---------------------------------------------------------------------------\u001b[0m",
      "\u001b[0;31mValueError\u001b[0m                                Traceback (most recent call last)",
      "\u001b[0;32m<ipython-input-16-dee497b833f9>\u001b[0m in \u001b[0;36m<module>\u001b[0;34m\u001b[0m\n\u001b[1;32m      2\u001b[0m \u001b[0;31m#feat_df = pd.DataFrame()\u001b[0m\u001b[0;34m\u001b[0m\u001b[0;34m\u001b[0m\u001b[0;34m\u001b[0m\u001b[0m\n\u001b[1;32m      3\u001b[0m \u001b[0;31m#feat_df = feat_dict.append(feat_dict, ignore_index=True)\u001b[0m\u001b[0;34m\u001b[0m\u001b[0;34m\u001b[0m\u001b[0;34m\u001b[0m\u001b[0m\n\u001b[0;32m----> 4\u001b[0;31m \u001b[0mdf\u001b[0m\u001b[0;34m[\u001b[0m\u001b[0;34m'assymetry'\u001b[0m\u001b[0;34m]\u001b[0m \u001b[0;34m=\u001b[0m \u001b[0mfeat_dict\u001b[0m\u001b[0;34m[\u001b[0m\u001b[0;34m'assymetry'\u001b[0m\u001b[0;34m]\u001b[0m\u001b[0;34m\u001b[0m\u001b[0;34m\u001b[0m\u001b[0m\n\u001b[0m\u001b[1;32m      5\u001b[0m \u001b[0mdf\u001b[0m\u001b[0;34m[\u001b[0m\u001b[0;34m'border'\u001b[0m\u001b[0;34m]\u001b[0m \u001b[0;34m=\u001b[0m \u001b[0mfeat_dict\u001b[0m\u001b[0;34m[\u001b[0m\u001b[0;34m'border'\u001b[0m\u001b[0;34m]\u001b[0m\u001b[0;34m\u001b[0m\u001b[0;34m\u001b[0m\u001b[0m\n\u001b[1;32m      6\u001b[0m \u001b[0mdf\u001b[0m\u001b[0;34m[\u001b[0m\u001b[0;34m'color'\u001b[0m\u001b[0;34m]\u001b[0m \u001b[0;34m=\u001b[0m \u001b[0mfeat_dict\u001b[0m\u001b[0;34m[\u001b[0m\u001b[0;34m'color'\u001b[0m\u001b[0;34m]\u001b[0m\u001b[0;34m\u001b[0m\u001b[0;34m\u001b[0m\u001b[0m\n",
      "\u001b[0;32m/shared-libs/python3.7/py/lib/python3.7/site-packages/pandas/core/frame.py\u001b[0m in \u001b[0;36m__setitem__\u001b[0;34m(self, key, value)\u001b[0m\n\u001b[1;32m   3161\u001b[0m         \u001b[0;32melse\u001b[0m\u001b[0;34m:\u001b[0m\u001b[0;34m\u001b[0m\u001b[0;34m\u001b[0m\u001b[0m\n\u001b[1;32m   3162\u001b[0m             \u001b[0;31m# set column\u001b[0m\u001b[0;34m\u001b[0m\u001b[0;34m\u001b[0m\u001b[0;34m\u001b[0m\u001b[0m\n\u001b[0;32m-> 3163\u001b[0;31m             \u001b[0mself\u001b[0m\u001b[0;34m.\u001b[0m\u001b[0m_set_item\u001b[0m\u001b[0;34m(\u001b[0m\u001b[0mkey\u001b[0m\u001b[0;34m,\u001b[0m \u001b[0mvalue\u001b[0m\u001b[0;34m)\u001b[0m\u001b[0;34m\u001b[0m\u001b[0;34m\u001b[0m\u001b[0m\n\u001b[0m\u001b[1;32m   3164\u001b[0m \u001b[0;34m\u001b[0m\u001b[0m\n\u001b[1;32m   3165\u001b[0m     \u001b[0;32mdef\u001b[0m \u001b[0m_setitem_slice\u001b[0m\u001b[0;34m(\u001b[0m\u001b[0mself\u001b[0m\u001b[0;34m,\u001b[0m \u001b[0mkey\u001b[0m\u001b[0;34m:\u001b[0m \u001b[0mslice\u001b[0m\u001b[0;34m,\u001b[0m \u001b[0mvalue\u001b[0m\u001b[0;34m)\u001b[0m\u001b[0;34m:\u001b[0m\u001b[0;34m\u001b[0m\u001b[0;34m\u001b[0m\u001b[0m\n",
      "\u001b[0;32m/shared-libs/python3.7/py/lib/python3.7/site-packages/pandas/core/frame.py\u001b[0m in \u001b[0;36m_set_item\u001b[0;34m(self, key, value)\u001b[0m\n\u001b[1;32m   3240\u001b[0m         \"\"\"\n\u001b[1;32m   3241\u001b[0m         \u001b[0mself\u001b[0m\u001b[0;34m.\u001b[0m\u001b[0m_ensure_valid_index\u001b[0m\u001b[0;34m(\u001b[0m\u001b[0mvalue\u001b[0m\u001b[0;34m)\u001b[0m\u001b[0;34m\u001b[0m\u001b[0;34m\u001b[0m\u001b[0m\n\u001b[0;32m-> 3242\u001b[0;31m         \u001b[0mvalue\u001b[0m \u001b[0;34m=\u001b[0m \u001b[0mself\u001b[0m\u001b[0;34m.\u001b[0m\u001b[0m_sanitize_column\u001b[0m\u001b[0;34m(\u001b[0m\u001b[0mkey\u001b[0m\u001b[0;34m,\u001b[0m \u001b[0mvalue\u001b[0m\u001b[0;34m)\u001b[0m\u001b[0;34m\u001b[0m\u001b[0;34m\u001b[0m\u001b[0m\n\u001b[0m\u001b[1;32m   3243\u001b[0m         \u001b[0mNDFrame\u001b[0m\u001b[0;34m.\u001b[0m\u001b[0m_set_item\u001b[0m\u001b[0;34m(\u001b[0m\u001b[0mself\u001b[0m\u001b[0;34m,\u001b[0m \u001b[0mkey\u001b[0m\u001b[0;34m,\u001b[0m \u001b[0mvalue\u001b[0m\u001b[0;34m)\u001b[0m\u001b[0;34m\u001b[0m\u001b[0;34m\u001b[0m\u001b[0m\n\u001b[1;32m   3244\u001b[0m \u001b[0;34m\u001b[0m\u001b[0m\n",
      "\u001b[0;32m/shared-libs/python3.7/py/lib/python3.7/site-packages/pandas/core/frame.py\u001b[0m in \u001b[0;36m_sanitize_column\u001b[0;34m(self, key, value, broadcast)\u001b[0m\n\u001b[1;32m   3897\u001b[0m \u001b[0;34m\u001b[0m\u001b[0m\n\u001b[1;32m   3898\u001b[0m             \u001b[0;31m# turn me into an ndarray\u001b[0m\u001b[0;34m\u001b[0m\u001b[0;34m\u001b[0m\u001b[0;34m\u001b[0m\u001b[0m\n\u001b[0;32m-> 3899\u001b[0;31m             \u001b[0mvalue\u001b[0m \u001b[0;34m=\u001b[0m \u001b[0msanitize_index\u001b[0m\u001b[0;34m(\u001b[0m\u001b[0mvalue\u001b[0m\u001b[0;34m,\u001b[0m \u001b[0mself\u001b[0m\u001b[0;34m.\u001b[0m\u001b[0mindex\u001b[0m\u001b[0;34m)\u001b[0m\u001b[0;34m\u001b[0m\u001b[0;34m\u001b[0m\u001b[0m\n\u001b[0m\u001b[1;32m   3900\u001b[0m             \u001b[0;32mif\u001b[0m \u001b[0;32mnot\u001b[0m \u001b[0misinstance\u001b[0m\u001b[0;34m(\u001b[0m\u001b[0mvalue\u001b[0m\u001b[0;34m,\u001b[0m \u001b[0;34m(\u001b[0m\u001b[0mnp\u001b[0m\u001b[0;34m.\u001b[0m\u001b[0mndarray\u001b[0m\u001b[0;34m,\u001b[0m \u001b[0mIndex\u001b[0m\u001b[0;34m)\u001b[0m\u001b[0;34m)\u001b[0m\u001b[0;34m:\u001b[0m\u001b[0;34m\u001b[0m\u001b[0;34m\u001b[0m\u001b[0m\n\u001b[1;32m   3901\u001b[0m                 \u001b[0;32mif\u001b[0m \u001b[0misinstance\u001b[0m\u001b[0;34m(\u001b[0m\u001b[0mvalue\u001b[0m\u001b[0;34m,\u001b[0m \u001b[0mlist\u001b[0m\u001b[0;34m)\u001b[0m \u001b[0;32mand\u001b[0m \u001b[0mlen\u001b[0m\u001b[0;34m(\u001b[0m\u001b[0mvalue\u001b[0m\u001b[0;34m)\u001b[0m \u001b[0;34m>\u001b[0m \u001b[0;36m0\u001b[0m\u001b[0;34m:\u001b[0m\u001b[0;34m\u001b[0m\u001b[0;34m\u001b[0m\u001b[0m\n",
      "\u001b[0;32m/shared-libs/python3.7/py/lib/python3.7/site-packages/pandas/core/internals/construction.py\u001b[0m in \u001b[0;36msanitize_index\u001b[0;34m(data, index)\u001b[0m\n\u001b[1;32m    750\u001b[0m     \u001b[0;32mif\u001b[0m \u001b[0mlen\u001b[0m\u001b[0;34m(\u001b[0m\u001b[0mdata\u001b[0m\u001b[0;34m)\u001b[0m \u001b[0;34m!=\u001b[0m \u001b[0mlen\u001b[0m\u001b[0;34m(\u001b[0m\u001b[0mindex\u001b[0m\u001b[0;34m)\u001b[0m\u001b[0;34m:\u001b[0m\u001b[0;34m\u001b[0m\u001b[0;34m\u001b[0m\u001b[0m\n\u001b[1;32m    751\u001b[0m         raise ValueError(\n\u001b[0;32m--> 752\u001b[0;31m             \u001b[0;34m\"Length of values \"\u001b[0m\u001b[0;34m\u001b[0m\u001b[0;34m\u001b[0m\u001b[0m\n\u001b[0m\u001b[1;32m    753\u001b[0m             \u001b[0;34mf\"({len(data)}) \"\u001b[0m\u001b[0;34m\u001b[0m\u001b[0;34m\u001b[0m\u001b[0m\n\u001b[1;32m    754\u001b[0m             \u001b[0;34m\"does not match length of index \"\u001b[0m\u001b[0;34m\u001b[0m\u001b[0;34m\u001b[0m\u001b[0m\n",
      "\u001b[0;31mValueError\u001b[0m: Length of values (30) does not match length of index (150)"
     ]
    }
   ]
  },
  {
   "cell_type": "code",
   "metadata": {
    "cell_id": "d07809765ae641ea8b72dc389f4039c1",
    "tags": [],
    "deepnote_to_be_reexecuted": true,
    "source_hash": "1e08627f",
    "execution_start": 1649093291573,
    "execution_millis": 0,
    "deepnote_cell_type": "code",
    "deepnote_cell_height": 333
   },
   "source": "# Stolen from Veronika's github example\n\ndef measure_area_perimeter(mask):\n    # Measure area: the sum of all white pixels in the mask image\n    area = np.sum(mask)\n\n    # Measure perimeter: first find which pixels belong to the perimeter.\n    struct_el = morphology.disk(1)\n    mask_eroded = morphology.binary_erosion(mask, struct_el)\n    image_perimeter = mask - mask_eroded\n\n    # Now we have the perimeter image, the sum of all white pixels in it\n    perimeter = np.sum(image_perimeter)\n \n    return area, perimeter",
   "execution_count": null,
   "outputs": []
  },
  {
   "cell_type": "markdown",
   "source": "## PLOTS",
   "metadata": {
    "cell_id": "18d6b1194d4f4ff6b7ad941ff0f11d6d",
    "tags": [],
    "deepnote_cell_type": "markdown",
    "deepnote_cell_height": 70
   }
  },
  {
   "cell_type": "code",
   "metadata": {
    "cell_id": "5a284f8790df4b8083d85eb4494b5389",
    "tags": [],
    "deepnote_to_be_reexecuted": true,
    "source_hash": "1895512a",
    "execution_start": 1649093291574,
    "execution_millis": 227,
    "deepnote_cell_type": "code",
    "deepnote_cell_height": 435.1875,
    "deepnote_output_heights": [
     21.1875,
     250
    ]
   },
   "source": "#creating a lineplot of the distribution of the assymetry values\nfor_plot = np.unique(df[\"asymmetry\"], return_counts=True)\nsns.lineplot(x=for_plot[0], y=for_plot[1])",
   "execution_count": null,
   "outputs": [
    {
     "output_type": "execute_result",
     "execution_count": 10,
     "data": {
      "text/plain": "<AxesSubplot:>"
     },
     "metadata": {}
    },
    {
     "data": {
      "text/plain": "<Figure size 432x288 with 1 Axes>",
      "image/png": "[encoded data removed]"
     },
     "metadata": {
      "needs_background": "light",
      "image/png": {
       "width": 368,
       "height": 248
      }
     },
     "output_type": "display_data"
    }
   ]
  },
  {
   "cell_type": "code",
   "metadata": {
    "cell_id": "8ed9f513ba55459a919a796a42c2159b",
    "tags": [],
    "deepnote_to_be_reexecuted": true,
    "source_hash": "89206b23",
    "execution_start": 1649094254834,
    "execution_millis": 687,
    "deepnote_cell_type": "code",
    "deepnote_cell_height": 942,
    "deepnote_output_heights": [
     611
    ]
   },
   "source": "#create a scatterplot that shows the assymetry on the y axis \n#melanoma are colored red, benign lesions are colored green\ncolors1 = ['#8BA888','#D67573']\ncolors = [\"Bening lesions\" if df['melanoma'][x] == 0.0 else 'Melanoma' for x in range(len(df['melanoma'])) ]\n\nfig, axes = plt.subplots(2,1,figsize = (10,12))\n\nfor i, ax in enumerate(axes):\n    xs = [i for i in range(len(df[\"assymetry\"]))]\n    ys = [\"asymmetry\", \"border\"]\n    sns.scatterplot(x=xs, y= df[ys[i]], hue=colors, palette=colors1, ax=ax)\n    \n    \n",
   "execution_count": null,
   "outputs": [
    {
     "data": {
      "text/plain": "<Figure size 720x864 with 2 Axes>",
      "image/png": "[encoded data removed]"
     },
     "metadata": {
      "needs_background": "light",
      "image/png": {
       "width": 615,
       "height": 683
      }
     },
     "output_type": "display_data"
    }
   ]
  },
  {
   "cell_type": "code",
   "metadata": {
    "cell_id": "90c1af4cca984131ae471fd81ccf7fec",
    "tags": [],
    "deepnote_to_be_reexecuted": true,
    "source_hash": "723360d2",
    "execution_start": 1649080153804,
    "execution_millis": 53,
    "deepnote_cell_type": "code",
    "deepnote_cell_height": 628.1875,
    "deepnote_output_heights": [
     null,
     335
    ]
   },
   "source": "#create a rain cloud plot that plots the asymmetry distribution for the two different groups (melanoma, benign)\nsns.set(style=\"whitegrid\",font_scale=1.5)\n\ndx = list(df[\"melanoma\"]); dy = list(df[\"asymmetry\"])\nf, ax = plt.subplots(figsize = (7,5))\nsigma = .2; ort = \"h\"\n\nax = pt.RainCloud(x = dx, y = dy, width_viol = .6, ax = ax, bw = sigma, orient= ort)\nplt.title(\"Raincloud plot of the melanoma asymmetry\")",
   "execution_count": null,
   "outputs": [
    {
     "output_type": "execute_result",
     "execution_count": 49,
     "data": {
      "text/plain": "Text(0.5, 1.0, 'Raincloud plot of the melanoma assymetry')"
     },
     "metadata": {}
    },
    {
     "data": {
      "text/plain": "<Figure size 504x360 with 1 Axes>",
      "image/png": "[encoded data removed]"
     },
     "metadata": {
      "image/png": {
       "width": 440,
       "height": 333
      }
     },
     "output_type": "display_data"
    }
   ]
  },
  {
   "cell_type": "markdown",
   "source": "<a style='text-decoration:none;line-height:16px;display:flex;color:#5B5B62;padding:10px;justify-content:end;' href='https://deepnote.com?utm_source=created-in-deepnote-cell&projectId=932aa97b-f6d2-4889-8f04-d6166675cc2f' target=\"_blank\">\n<img alt='Created in deepnote.com' style='display:inline;max-height:16px;margin:0px;margin-right:7.5px;' src='data:image/svg+xml;base64,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' > </img>\nCreated in <span style='font-weight:600;margin-left:4px;'>Deepnote</span></a>",
   "metadata": {
    "tags": [],
    "created_in_deepnote_cell": true,
    "deepnote_cell_type": "markdown"
   }
  }
 ],
 "nbformat": 4,
 "nbformat_minor": 2,
 "metadata": {
  "orig_nbformat": 2,
  "deepnote": {
   "is_reactive": false
  },
  "deepnote_notebook_id": "480f9d89-0fde-4853-9b6b-44c97760ba54",
  "deepnote_execution_queue": []
 }
}