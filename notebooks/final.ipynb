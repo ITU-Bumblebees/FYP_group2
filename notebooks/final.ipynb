{
 "cells": [
  {
   "cell_type": "markdown",
   "source": "# FYP Project 2 Group G",
   "metadata": {
    "cell_id": "99fd063a785640cda6495bf4d8d18f5d",
    "tags": [],
    "is_collapsed": false,
    "deepnote_cell_type": "text-cell-h1"
   }
  },
  {
   "cell_type": "markdown",
   "source": "#### How to run this notebook\n\n...",
   "metadata": {
    "cell_id": "de3a6abaf7b94978ad0ff2cf0a973207",
    "tags": [],
    "deepnote_cell_type": "markdown",
    "deepnote_cell_height": 88.390625
   }
  },
  {
   "cell_type": "markdown",
   "source": "### Research Question\n[the question]",
   "metadata": {
    "cell_id": "92ff80b9d8b248309ebe5f92902ebbbf",
    "tags": [],
    "deepnote_cell_type": "markdown",
    "deepnote_cell_height": 100.390625
   }
  },
  {
   "cell_type": "code",
   "metadata": {
    "tags": [],
    "cell_id": "5d4d9778-c09e-46b9-a509-07d3151a1198",
    "deepnote_to_be_reexecuted": false,
    "source_hash": "af27a570",
    "execution_start": 1649289069250,
    "execution_millis": 4107,
    "deepnote_cell_type": "code",
    "deepnote_cell_height": 423
   },
   "source": "# Imports\nimport matplotlib.pyplot as plt\nimport pandas as pd\nimport numpy as np\nimport Config\nimport os, sys\nfrom scipy.stats import pearsonr, spearmanr\nimport seaborn as sns\nimport skimage.io as sk\nfrom skimage import morphology\nfrom skimage.color import rgb2gray\nfrom statsmodels.robust import mad\nfrom PIL import Image\nimport ptitprince as pt\nfrom sklearn.model_selection import train_test_split\nfrom sklearn.neighbors import KNeighborsClassifier\nfrom sklearn.tree import DecisionTreeClassifier\nfrom sklearn.metrics import roc_auc_score\nfrom sklearn.metrics import accuracy_score\n",
   "execution_count": null,
   "outputs": []
  },
  {
   "cell_type": "markdown",
   "source": "### Dataframes",
   "metadata": {
    "cell_id": "6b45a9c4f1d24f198b2ef8eae9c48108",
    "tags": [],
    "deepnote_cell_type": "markdown",
    "deepnote_cell_height": 62
   }
  },
  {
   "cell_type": "code",
   "metadata": {
    "cell_id": "0830c5b5220c4ed39cd11e4a1f647b83",
    "tags": [],
    "deepnote_to_be_reexecuted": false,
    "source_hash": "f6e7db8c",
    "execution_start": 1649289073363,
    "execution_millis": 39,
    "deepnote_cell_type": "code",
    "deepnote_cell_height": 135
   },
   "source": "df = pd.read_csv(Config.features_path) #the main dataframe\n\nmel_df = pd.read_csv(Config.example_ground_truth_path)\ndf['melanoma'] = mel_df['melanoma']",
   "execution_count": null,
   "outputs": []
  },
  {
   "cell_type": "markdown",
   "source": "## Task 0 - exploring the data \nInvestigating the data provided by our teacher - looking for missing values in .csv files as well as getting familiar with the data using the df.describe() function.",
   "metadata": {
    "cell_id": "82c8b3929d77490ab3fec74114d5c8bb",
    "tags": [],
    "deepnote_cell_type": "markdown",
    "deepnote_cell_height": 130.796875
   }
  },
  {
   "cell_type": "code",
   "metadata": {
    "cell_id": "d1038bfd4c4149789e0ad934bb86b54d",
    "tags": [],
    "deepnote_to_be_reexecuted": false,
    "source_hash": "4f54e652",
    "execution_start": 1649289073422,
    "execution_millis": 1,
    "deepnote_cell_type": "code",
    "deepnote_cell_height": 314.78125
   },
   "source": "#getting the shape of df\nprint(f'shape of the main df: {df.shape}')\n\n#looking for missing data\nprint(f'Are there any missing values in the dataset? {df.isna().any().any()}')\n\n#getting the diagnosis types\nprint('')\nprint(f'The diagnosis types: {mel_df.columns[1:]}')",
   "execution_count": null,
   "outputs": [
    {
     "name": "stdout",
     "text": "shape of the main df: (150, 4)\nAre there any missing values in the dataset? False\n\nThe diagnosis types: Index(['melanoma', 'seborrheic_keratosis'], dtype='object')\n",
     "output_type": "stream"
    }
   ]
  },
  {
   "cell_type": "code",
   "metadata": {
    "cell_id": "b697052685434cf5acdf0f15cfc84baa",
    "tags": [],
    "deepnote_to_be_reexecuted": false,
    "source_hash": "f88152d9",
    "execution_start": 1649289073491,
    "execution_millis": 264,
    "deepnote_cell_type": "code",
    "deepnote_cell_height": 518
   },
   "source": "df.describe()",
   "execution_count": null,
   "outputs": [
    {
     "output_type": "execute_result",
     "execution_count": 4,
     "data": {
      "application/vnd.deepnote.dataframe.v3+json": {
       "column_count": 3,
       "row_count": 8,
       "columns": [
        {
         "name": "area",
         "dtype": "float64",
         "stats": {
          "unique_count": 8,
          "nan_count": 0,
          "min": "150.0",
          "max": "27706864.0",
          "histogram": [
           {
            "bin_start": 150,
            "bin_end": 2770821.4,
            "count": 5
           },
           {
            "bin_start": 2770821.4,
            "bin_end": 5541492.8,
            "count": 1
           },
           {
            "bin_start": 5541492.8,
            "bin_end": 8312164.199999999,
            "count": 1
           },
           {
            "bin_start": 8312164.199999999,
            "bin_end": 11082835.6,
            "count": 0
           },
           {
            "bin_start": 11082835.6,
            "bin_end": 13853507,
            "count": 0
           },
           {
            "bin_start": 13853507,
            "bin_end": 16624178.399999999,
            "count": 0
           },
           {
            "bin_start": 16624178.399999999,
            "bin_end": 19394849.8,
            "count": 0
           },
           {
            "bin_start": 19394849.8,
            "bin_end": 22165521.2,
            "count": 0
           },
           {
            "bin_start": 22165521.2,
            "bin_end": 24936192.599999998,
            "count": 0
           },
           {
            "bin_start": 24936192.599999998,
            "bin_end": 27706864,
            "count": 1
           }
          ]
         }
        },
        {
         "name": "perimeter",
         "dtype": "float64",
         "stats": {
          "unique_count": 8,
          "nan_count": 0,
          "min": "150.0",
          "max": "25900.0",
          "histogram": [
           {
            "bin_start": 150,
            "bin_end": 2725,
            "count": 3
           },
           {
            "bin_start": 2725,
            "bin_end": 5300,
            "count": 2
           },
           {
            "bin_start": 5300,
            "bin_end": 7875,
            "count": 2
           },
           {
            "bin_start": 7875,
            "bin_end": 10450,
            "count": 0
           },
           {
            "bin_start": 10450,
            "bin_end": 13025,
            "count": 0
           },
           {
            "bin_start": 13025,
            "bin_end": 15600,
            "count": 0
           },
           {
            "bin_start": 15600,
            "bin_end": 18175,
            "count": 0
           },
           {
            "bin_start": 18175,
            "bin_end": 20750,
            "count": 0
           },
           {
            "bin_start": 20750,
            "bin_end": 23325,
            "count": 0
           },
           {
            "bin_start": 23325,
            "bin_end": 25900,
            "count": 1
           }
          ]
         }
        },
        {
         "name": "melanoma",
         "dtype": "float64",
         "stats": {
          "unique_count": 5,
          "nan_count": 0,
          "min": "0.0",
          "max": "150.0",
          "histogram": [
           {
            "bin_start": 0,
            "bin_end": 15,
            "count": 7
           },
           {
            "bin_start": 15,
            "bin_end": 30,
            "count": 0
           },
           {
            "bin_start": 30,
            "bin_end": 45,
            "count": 0
           },
           {
            "bin_start": 45,
            "bin_end": 60,
            "count": 0
           },
           {
            "bin_start": 60,
            "bin_end": 75,
            "count": 0
           },
           {
            "bin_start": 75,
            "bin_end": 90,
            "count": 0
           },
           {
            "bin_start": 90,
            "bin_end": 105,
            "count": 0
           },
           {
            "bin_start": 105,
            "bin_end": 120,
            "count": 0
           },
           {
            "bin_start": 120,
            "bin_end": 135,
            "count": 0
           },
           {
            "bin_start": 135,
            "bin_end": 150,
            "count": 1
           }
          ]
         }
        },
        {
         "name": "_deepnote_index_column",
         "dtype": "object"
        }
       ],
       "rows": [
        {
         "area": 150,
         "perimeter": 150,
         "melanoma": 150,
         "_deepnote_index_column": "count"
        },
        {
         "area": 3114133.6333333333,
         "perimeter": 5570.36,
         "melanoma": 0.2,
         "_deepnote_index_column": "mean"
        },
        {
         "area": 5897570.240149394,
         "perimeter": 5294.59662041273,
         "melanoma": 0.40134003725439066,
         "_deepnote_index_column": "std"
        },
        {
         "area": 32944,
         "perimeter": 642,
         "melanoma": 0,
         "_deepnote_index_column": "min"
        },
        {
         "area": 232992.25,
         "perimeter": 2014.5,
         "melanoma": 0,
         "_deepnote_index_column": "25%"
        },
        {
         "area": 622316.5,
         "perimeter": 3324.5,
         "melanoma": 0,
         "_deepnote_index_column": "50%"
        },
        {
         "area": 2054852.5,
         "perimeter": 7137.5,
         "melanoma": 0,
         "_deepnote_index_column": "75%"
        },
        {
         "area": 27706864,
         "perimeter": 25900,
         "melanoma": 1,
         "_deepnote_index_column": "max"
        }
       ]
      },
      "text/plain": "               area    perimeter   melanoma\ncount  1.500000e+02    150.00000  150.00000\nmean   3.114134e+06   5570.36000    0.20000\nstd    5.897570e+06   5294.59662    0.40134\nmin    3.294400e+04    642.00000    0.00000\n25%    2.329922e+05   2014.50000    0.00000\n50%    6.223165e+05   3324.50000    0.00000\n75%    2.054852e+06   7137.50000    0.00000\nmax    2.770686e+07  25900.00000    1.00000",
      "text/html": "<div>\n<style scoped>\n    .dataframe tbody tr th:only-of-type {\n        vertical-align: middle;\n    }\n\n    .dataframe tbody tr th {\n        vertical-align: top;\n    }\n\n    .dataframe thead th {\n        text-align: right;\n    }\n</style>\n<table border=\"1\" class=\"dataframe\">\n  <thead>\n    <tr style=\"text-align: right;\">\n      <th></th>\n      <th>area</th>\n      <th>perimeter</th>\n      <th>melanoma</th>\n    </tr>\n  </thead>\n  <tbody>\n    <tr>\n      <th>count</th>\n      <td>1.500000e+02</td>\n      <td>150.00000</td>\n      <td>150.00000</td>\n    </tr>\n    <tr>\n      <th>mean</th>\n      <td>3.114134e+06</td>\n      <td>5570.36000</td>\n      <td>0.20000</td>\n    </tr>\n    <tr>\n      <th>std</th>\n      <td>5.897570e+06</td>\n      <td>5294.59662</td>\n      <td>0.40134</td>\n    </tr>\n    <tr>\n      <th>min</th>\n      <td>3.294400e+04</td>\n      <td>642.00000</td>\n      <td>0.00000</td>\n    </tr>\n    <tr>\n      <th>25%</th>\n      <td>2.329922e+05</td>\n      <td>2014.50000</td>\n      <td>0.00000</td>\n    </tr>\n    <tr>\n      <th>50%</th>\n      <td>6.223165e+05</td>\n      <td>3324.50000</td>\n      <td>0.00000</td>\n    </tr>\n    <tr>\n      <th>75%</th>\n      <td>2.054852e+06</td>\n      <td>7137.50000</td>\n      <td>0.00000</td>\n    </tr>\n    <tr>\n      <th>max</th>\n      <td>2.770686e+07</td>\n      <td>25900.00000</td>\n      <td>1.00000</td>\n    </tr>\n  </tbody>\n</table>\n</div>"
     },
     "metadata": {}
    }
   ]
  },
  {
   "cell_type": "markdown",
   "source": "## Task 1 - measuring the features ourselves",
   "metadata": {
    "cell_id": "0d99a5fbd9f34bc8808db6bf5bbe91d0",
    "tags": [],
    "deepnote_cell_type": "markdown",
    "deepnote_cell_height": 70
   }
  },
  {
   "cell_type": "code",
   "metadata": {
    "cell_id": "da386f9e7b6e4534a88d09ca2314ce9a",
    "tags": [],
    "deepnote_to_be_reexecuted": false,
    "source_hash": "474a28a6",
    "execution_start": 1649289073492,
    "execution_millis": 43,
    "deepnote_cell_type": "code",
    "deepnote_cell_height": 81
   },
   "source": "## TODO - add plots of our guesses",
   "execution_count": null,
   "outputs": []
  },
  {
   "cell_type": "markdown",
   "source": "## Task 2 - creating our feature measurements",
   "metadata": {
    "cell_id": "ecfe3be7863c4e0394c6abbf4e48dfac",
    "tags": [],
    "deepnote_cell_type": "markdown",
    "deepnote_cell_height": 70
   }
  },
  {
   "cell_type": "markdown",
   "source": "### Picture Class\nThis class contains all the feature functions that we apply for each image as well as a function that measures the area & perimeter of an image.",
   "metadata": {
    "cell_id": "5e1e7ef8047741a5863c18dab72c197f",
    "tags": [],
    "deepnote_cell_type": "markdown",
    "deepnote_cell_height": 122.796875
   }
  },
  {
   "cell_type": "code",
   "metadata": {
    "cell_id": "97b77359735d4556bcba3c483e82ee91",
    "tags": [],
    "deepnote_to_be_reexecuted": false,
    "source_hash": "a3992bb6",
    "execution_start": 1649289073535,
    "execution_millis": 28,
    "deepnote_cell_type": "code",
    "deepnote_cell_height": 1719
   },
   "source": "class Picture:\n    def __init__(self, img, img_bw):\n        self.img = img #main image\n        self.img_bw = self._cut_image(img_bw) #the image in black & white version\n\n    #ASYMMETRY\n    def _cut_image(self, picture):\n        ''' Makes the number of pixels in width and height an even number  '''\n        picture = picture.crop(picture.getbbox())\n        width, height = picture.size\n        image = np.array(picture)\n        \n        if width %2 != 0:\n            image = np.delete(image, -1, 1)\n\n        if height %2 != 0:\n            image = np.delete(image, -1, 0)\n\n        image = Image.fromarray(image)\n\n        return image\n\n    def _asymmetry(self, rot_img):\n        '''Gets the asymmetry between the left and right part of a given binary mask '''\n        width, height = rot_img.size #mask should be quadratic and therefore have equal dimension\n        size = width * height\n\n        #check for uneven number of pixels (should not happen but just as a precaution)\n        if width %2 != 0:\n            raise TypeError('Uneven number of pixel and cannot be symmetric')\n        \n        #cut in half and fold\n        left = rot_img.crop((0, 0, (width/2), height)) #left part of picture (left, top, right, bottom)\n        right = rot_img.crop(((width/2), 0, width, height)) #right part of picture\n        right = right.transpose(Image.FLIP_LEFT_RIGHT) #flip right part to compare\n\n        #get the binary difference between left an right\n        symmetry = np.where(np.array(left) != np.array(right), 1, 0)\n\n        return np.sum(symmetry) / (size/2) #the percentage of asymmetry \n    \n    def get_asymmetry(self):\n        '''Returns the asymmetry for a given mask by folding it in half from multiple angles'''\n        return round(np.mean([self._asymmetry(self.img_bw), self._asymmetry(self.img_bw.rotate(30, expand= True)),self._asymmetry(self.img_bw.rotate(60, expand= True)),self._asymmetry(self.img_bw.rotate(90, expand= True))]),2)\n\n    #BORDER\n    def measure_area_perimeter(self): #TODO (erase) Stolen from Veronika's github\n        '''Measures the area and perimeter of a mask image '''\n        #area: the sum of all white pixels in the mask image\n        mask = np.where(np.array(self.img_bw)==255, 1, 0)\n        area = np.sum(mask)\n\n        #perimeter: first find which pixels belong to the perimeter.\n        struct_el = morphology.disk(1)\n        mask_eroded = morphology.binary_erosion(mask, struct_el)\n        image_perimeter = mask - mask_eroded\n\n        #now we have the perimeter image, the sum of all white pixels in it\n        perimeter = np.sum(image_perimeter)\n\n        return area, perimeter\n\n    def get_compactness(self):\n        ''' Computes and returns the compactness of a figure '''\n        area, perimeter = self.measure_area_perimeter()\n        return round(4*np.pi*area / perimeter ** 2, 4)\n\n\n    #COLOR\n    def get_color_variability(self):\n        '''Assigns a color variability score'''\n        if self._check_variability() < 20: \n            return 0 \n        elif self._check_variability() < 50: \n            return 1\n        else: \n            return 2\n\n    def _check_variability(self):\n        '''Returns a mean of the median absolute deviation of each color (rgb)'''\n        self.img[self.img_bw==0] = 0\n        \n        #we then calculate the mad of each dimension \n        r, g, b = self.img[:,:,0], self.img[:,:,1], self.img[:,:,2]\n        mad_r= mad(r[np.where(r != 0)])\n        mad_g= mad(g[np.where(g != 0)])\n        mad_b= mad(b[np.where(b != 0)])\n        mad_result= [mad_r,mad_g,mad_b]\n\n        #calculating the mean\n        return np.mean(mad_result)\n    ",
   "execution_count": null,
   "outputs": []
  },
  {
   "cell_type": "markdown",
   "source": "### Visualizing the feature functions\nCreating plots of each feature function in order to explore our measurements.",
   "metadata": {
    "cell_id": "f1be039798f840ca8c99b78e57046f57",
    "tags": [],
    "deepnote_cell_type": "markdown",
    "deepnote_cell_height": 100.390625
   }
  },
  {
   "cell_type": "markdown",
   "source": "#### Asymmetry plots",
   "metadata": {
    "cell_id": "3daca9280c1c4e49bba89d9ecccd92b8",
    "tags": [],
    "deepnote_cell_type": "markdown",
    "deepnote_cell_height": 54
   }
  },
  {
   "cell_type": "code",
   "metadata": {
    "cell_id": "eab71dd05ecd4302bbda620ebca6cdc2",
    "tags": [],
    "deepnote_to_be_reexecuted": false,
    "source_hash": "e681f0bf",
    "execution_start": 1649289073577,
    "execution_millis": 23,
    "deepnote_cell_type": "code",
    "deepnote_cell_height": 99
   },
   "source": "# INFO - if you can include everything in one subplot, go on and delete my markdown\n# TODO - add plots of asymmetry",
   "execution_count": null,
   "outputs": []
  },
  {
   "cell_type": "markdown",
   "source": "#### Border plots",
   "metadata": {
    "cell_id": "c31e680d191a4b6d9b62f0a9be364a1f",
    "tags": [],
    "deepnote_cell_type": "markdown",
    "deepnote_cell_height": 54
   }
  },
  {
   "cell_type": "code",
   "metadata": {
    "cell_id": "49f83c2a80f54a2f837799e4450b3dd7",
    "tags": [],
    "deepnote_to_be_reexecuted": false,
    "source_hash": "c97119ca",
    "execution_start": 1649289073619,
    "execution_millis": 9,
    "deepnote_cell_type": "code",
    "deepnote_cell_height": 81
   },
   "source": "# TODO - add plots of border",
   "execution_count": null,
   "outputs": []
  },
  {
   "cell_type": "markdown",
   "source": "#### Color plots",
   "metadata": {
    "cell_id": "99a701a8573d46869e6eab2c484dbf77",
    "tags": [],
    "deepnote_cell_type": "markdown",
    "deepnote_cell_height": 54
   }
  },
  {
   "cell_type": "code",
   "metadata": {
    "cell_id": "939797feeecd4c2d9199209f8578771e",
    "tags": [],
    "deepnote_to_be_reexecuted": false,
    "source_hash": "b09a3470",
    "execution_start": 1649289073649,
    "execution_millis": 1,
    "deepnote_cell_type": "code",
    "deepnote_cell_height": 81
   },
   "source": "# TODO - add plots of color",
   "execution_count": null,
   "outputs": []
  },
  {
   "cell_type": "markdown",
   "source": "## Task 3 - predicting the diagnosis",
   "metadata": {
    "cell_id": "db0462b116374efa9eea9c782d2189f8",
    "tags": [],
    "deepnote_cell_type": "markdown",
    "deepnote_cell_height": 70
   }
  },
  {
   "cell_type": "markdown",
   "source": "#### get_row()\n`get_row()` returns a dataframe with one row with data about a given picture.",
   "metadata": {
    "cell_id": "47bd05c8f99f4ef59a3b35c5a491ff8b",
    "tags": [],
    "deepnote_cell_type": "markdown",
    "deepnote_cell_height": 88.390625
   }
  },
  {
   "cell_type": "code",
   "metadata": {
    "cell_id": "4963ba44dcca4f2ca94f4cbda9007013",
    "tags": [],
    "deepnote_to_be_reexecuted": false,
    "source_hash": "e646279b",
    "execution_start": 1649289073707,
    "execution_millis": 0,
    "deepnote_cell_type": "code",
    "deepnote_cell_height": 225
   },
   "source": "def get_row(pict, pic):  \n    assym = pict.get_asymmetry()\n    comp = pict.get_compactness()\n    color = pict.get_color_variability()\n\n    melanoma = groundtruth[groundtruth['image_id'] == pic]['melanoma'].iloc[0]\n\n    return pd.DataFrame([[pic, assym, comp, color, melanoma]], \n                        columns=['ISIC', 'Asymmetry', 'Compactness', 'Color', 'Melanoma'])",
   "execution_count": null,
   "outputs": []
  },
  {
   "cell_type": "markdown",
   "source": "#### train_evaluate_classifiers()",
   "metadata": {
    "cell_id": "4d6e729ef83144fca278f13b6107956f",
    "tags": [],
    "deepnote_cell_type": "markdown",
    "deepnote_cell_height": 54
   }
  },
  {
   "cell_type": "code",
   "metadata": {
    "cell_id": "a2dad4ce1165480d85dd95714362fadb",
    "tags": [],
    "deepnote_to_be_reexecuted": false,
    "source_hash": "f9908ebe",
    "execution_start": 1649289073752,
    "execution_millis": 119929342,
    "deepnote_cell_type": "code",
    "deepnote_cell_height": 81
   },
   "source": "# TODO - add train_evaluate_classifiers",
   "execution_count": null,
   "outputs": []
  },
  {
   "cell_type": "markdown",
   "source": "### Main()\nThe `main()` functon iterates over each image, creates an instance of the `Picture` class, and adds a row to a dataframe with all functions using the `get_row()` function. Ultimately, it returns the `train_evaluate_classifiers()` function with the dataframe mentioned above as the attribute.",
   "metadata": {
    "cell_id": "e362e1dc271949fba63662260fa54235",
    "tags": [],
    "deepnote_cell_type": "markdown",
    "deepnote_cell_height": 145.1875
   }
  },
  {
   "cell_type": "code",
   "metadata": {
    "cell_id": "a9233d92d18140b59abe0c01874cf534",
    "tags": [],
    "deepnote_to_be_reexecuted": false,
    "source_hash": "abd36127",
    "execution_start": 1649289073753,
    "execution_millis": 121370440,
    "deepnote_cell_type": "code",
    "deepnote_cell_height": 81
   },
   "source": "#TODO - add main",
   "execution_count": null,
   "outputs": []
  },
  {
   "cell_type": "markdown",
   "source": "## Task 4 - open question",
   "metadata": {
    "cell_id": "1b53e49c855b44239e9de6d4671532e6",
    "tags": [],
    "deepnote_cell_type": "markdown",
    "deepnote_cell_height": 70
   }
  },
  {
   "cell_type": "code",
   "metadata": {
    "cell_id": "bd6273f123ac4d499ad92c9ff0f12293",
    "tags": [],
    "deepnote_to_be_reexecuted": false,
    "source_hash": "b31fd813",
    "execution_start": 1649323544843,
    "execution_millis": 0,
    "deepnote_cell_type": "code",
    "deepnote_cell_height": 99
   },
   "source": "\n",
   "execution_count": 0,
   "outputs": []
  },
  {
   "cell_type": "markdown",
   "source": "<a style='text-decoration:none;line-height:16px;display:flex;color:#5B5B62;padding:10px;justify-content:end;' href='https://deepnote.com?utm_source=created-in-deepnote-cell&projectId=932aa97b-f6d2-4889-8f04-d6166675cc2f' target=\"_blank\">\n<img alt='Created in deepnote.com' style='display:inline;max-height:16px;margin:0px;margin-right:7.5px;' src='data:image/svg+xml;base64,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' > </img>\nCreated in <span style='font-weight:600;margin-left:4px;'>Deepnote</span></a>",
   "metadata": {
    "tags": [],
    "created_in_deepnote_cell": true,
    "deepnote_cell_type": "markdown"
   }
  }
 ],
 "nbformat": 4,
 "nbformat_minor": 2,
 "metadata": {
  "orig_nbformat": 2,
  "deepnote": {
   "is_reactive": false
  },
  "deepnote_notebook_id": "480f9d89-0fde-4853-9b6b-44c97760ba54",
  "deepnote_execution_queue": []
 }
}