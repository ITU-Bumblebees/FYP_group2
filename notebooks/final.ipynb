{
 "cells": [
  {
   "cell_type": "markdown",
   "source": "# FYP Project 2 Group G",
   "metadata": {
    "cell_id": "99fd063a785640cda6495bf4d8d18f5d",
    "tags": [],
    "is_collapsed": false,
    "deepnote_cell_type": "text-cell-h1"
   }
  },
  {
   "cell_type": "markdown",
   "source": "### Research Question\n[the question]",
   "metadata": {
    "cell_id": "92ff80b9d8b248309ebe5f92902ebbbf",
    "tags": [],
    "deepnote_cell_type": "markdown",
    "deepnote_cell_height": 100.390625
   }
  },
  {
   "cell_type": "code",
   "metadata": {
    "tags": [],
    "cell_id": "5d4d9778-c09e-46b9-a509-07d3151a1198",
    "deepnote_to_be_reexecuted": false,
    "source_hash": "af27a570",
    "execution_start": 1649076925065,
    "execution_millis": 1776,
    "deepnote_cell_type": "code",
    "deepnote_cell_height": 423
   },
   "source": "# Imports\nimport matplotlib.pyplot as plt\nimport pandas as pd\nimport numpy as np\nimport Config\nimport os, sys\nfrom scipy.stats import pearsonr, spearmanr\nimport seaborn as sns\nimport skimage.io as sk\nfrom skimage import morphology\nfrom skimage.color import rgb2gray\nfrom statsmodels.robust import mad\nfrom PIL import Image\nimport ptitprince as pt\nfrom sklearn.model_selection import train_test_split\nfrom sklearn.neighbors import KNeighborsClassifier\nfrom sklearn.tree import DecisionTreeClassifier\nfrom sklearn.metrics import roc_auc_score\nfrom sklearn.metrics import accuracy_score\n",
   "execution_count": 1,
   "outputs": []
  },
  {
   "cell_type": "markdown",
   "source": "### Dataframes",
   "metadata": {
    "cell_id": "6b45a9c4f1d24f198b2ef8eae9c48108",
    "tags": [],
    "deepnote_cell_type": "markdown",
    "deepnote_cell_height": 62
   }
  },
  {
   "cell_type": "code",
   "metadata": {
    "cell_id": "0830c5b5220c4ed39cd11e4a1f647b83",
    "tags": [],
    "deepnote_to_be_reexecuted": false,
    "source_hash": "f6e7db8c",
    "execution_start": 1649077956655,
    "execution_millis": 1,
    "deepnote_cell_type": "code",
    "deepnote_cell_height": 135
   },
   "source": "df = pd.read_csv(Config.features_path) #the main dataframe\n\nmel_df = pd.read_csv(Config.example_ground_truth_path)\ndf['melanoma'] = mel_df['melanoma']",
   "execution_count": 27,
   "outputs": []
  },
  {
   "cell_type": "markdown",
   "source": "## Task 0 - exploring the data \nIn this task, we investigated the data provided by our teacher - we looked for missing values in .csv files as well as got familiar with the data using the df.describe() function.",
   "metadata": {
    "cell_id": "82c8b3929d77490ab3fec74114d5c8bb",
    "tags": [],
    "deepnote_cell_type": "markdown",
    "deepnote_cell_height": 130.796875
   }
  },
  {
   "cell_type": "code",
   "metadata": {
    "cell_id": "d1038bfd4c4149789e0ad934bb86b54d",
    "tags": [],
    "deepnote_to_be_reexecuted": false,
    "source_hash": "4f54e652",
    "execution_start": 1649076926869,
    "execution_millis": 2,
    "deepnote_cell_type": "code",
    "deepnote_cell_height": 314.78125
   },
   "source": "#getting the shape of df\nprint(f'shape of the main df: {df.shape}')\n\n#looking for missing data\nprint(f'Are there any missing values in the dataset? {df.isna().any().any()}')\n\n#getting the diagnosis types\nprint('')\nprint(f'The diagnosis types: {mel_df.columns[1:]}')",
   "execution_count": 3,
   "outputs": [
    {
     "name": "stdout",
     "text": "shape of the main df: (150, 4)\nAre there any missing values in the dataset? False\n\nThe diagnosis types: Index(['melanoma', 'seborrheic_keratosis'], dtype='object')\n",
     "output_type": "stream"
    }
   ]
  },
  {
   "cell_type": "code",
   "metadata": {
    "cell_id": "b697052685434cf5acdf0f15cfc84baa",
    "tags": [],
    "deepnote_to_be_reexecuted": false,
    "source_hash": "f88152d9",
    "execution_start": 1649076926891,
    "execution_millis": 140,
    "deepnote_cell_type": "code",
    "deepnote_cell_height": 516
   },
   "source": "df.describe()",
   "execution_count": 4,
   "outputs": [
    {
     "output_type": "execute_result",
     "execution_count": 4,
     "data": {
      "application/vnd.deepnote.dataframe.v3+json": {
       "column_count": 3,
       "row_count": 8,
       "columns": [
        {
         "name": "area",
         "dtype": "float64",
         "stats": {
          "unique_count": 8,
          "nan_count": 0,
          "min": "150.0",
          "max": "27706864.0",
          "histogram": [
           {
            "bin_start": 150,
            "bin_end": 2770821.4,
            "count": 5
           },
           {
            "bin_start": 2770821.4,
            "bin_end": 5541492.8,
            "count": 1
           },
           {
            "bin_start": 5541492.8,
            "bin_end": 8312164.199999999,
            "count": 1
           },
           {
            "bin_start": 8312164.199999999,
            "bin_end": 11082835.6,
            "count": 0
           },
           {
            "bin_start": 11082835.6,
            "bin_end": 13853507,
            "count": 0
           },
           {
            "bin_start": 13853507,
            "bin_end": 16624178.399999999,
            "count": 0
           },
           {
            "bin_start": 16624178.399999999,
            "bin_end": 19394849.8,
            "count": 0
           },
           {
            "bin_start": 19394849.8,
            "bin_end": 22165521.2,
            "count": 0
           },
           {
            "bin_start": 22165521.2,
            "bin_end": 24936192.599999998,
            "count": 0
           },
           {
            "bin_start": 24936192.599999998,
            "bin_end": 27706864,
            "count": 1
           }
          ]
         }
        },
        {
         "name": "perimeter",
         "dtype": "float64",
         "stats": {
          "unique_count": 8,
          "nan_count": 0,
          "min": "150.0",
          "max": "25900.0",
          "histogram": [
           {
            "bin_start": 150,
            "bin_end": 2725,
            "count": 3
           },
           {
            "bin_start": 2725,
            "bin_end": 5300,
            "count": 2
           },
           {
            "bin_start": 5300,
            "bin_end": 7875,
            "count": 2
           },
           {
            "bin_start": 7875,
            "bin_end": 10450,
            "count": 0
           },
           {
            "bin_start": 10450,
            "bin_end": 13025,
            "count": 0
           },
           {
            "bin_start": 13025,
            "bin_end": 15600,
            "count": 0
           },
           {
            "bin_start": 15600,
            "bin_end": 18175,
            "count": 0
           },
           {
            "bin_start": 18175,
            "bin_end": 20750,
            "count": 0
           },
           {
            "bin_start": 20750,
            "bin_end": 23325,
            "count": 0
           },
           {
            "bin_start": 23325,
            "bin_end": 25900,
            "count": 1
           }
          ]
         }
        },
        {
         "name": "melanoma",
         "dtype": "float64",
         "stats": {
          "unique_count": 5,
          "nan_count": 0,
          "min": "0.0",
          "max": "150.0",
          "histogram": [
           {
            "bin_start": 0,
            "bin_end": 15,
            "count": 7
           },
           {
            "bin_start": 15,
            "bin_end": 30,
            "count": 0
           },
           {
            "bin_start": 30,
            "bin_end": 45,
            "count": 0
           },
           {
            "bin_start": 45,
            "bin_end": 60,
            "count": 0
           },
           {
            "bin_start": 60,
            "bin_end": 75,
            "count": 0
           },
           {
            "bin_start": 75,
            "bin_end": 90,
            "count": 0
           },
           {
            "bin_start": 90,
            "bin_end": 105,
            "count": 0
           },
           {
            "bin_start": 105,
            "bin_end": 120,
            "count": 0
           },
           {
            "bin_start": 120,
            "bin_end": 135,
            "count": 0
           },
           {
            "bin_start": 135,
            "bin_end": 150,
            "count": 1
           }
          ]
         }
        },
        {
         "name": "_deepnote_index_column",
         "dtype": "object"
        }
       ],
       "rows": [
        {
         "area": 150,
         "perimeter": 150,
         "melanoma": 150,
         "_deepnote_index_column": "count"
        },
        {
         "area": 3114133.6333333333,
         "perimeter": 5570.36,
         "melanoma": 0.2,
         "_deepnote_index_column": "mean"
        },
        {
         "area": 5897570.240149394,
         "perimeter": 5294.59662041273,
         "melanoma": 0.40134003725439066,
         "_deepnote_index_column": "std"
        },
        {
         "area": 32944,
         "perimeter": 642,
         "melanoma": 0,
         "_deepnote_index_column": "min"
        },
        {
         "area": 232992.25,
         "perimeter": 2014.5,
         "melanoma": 0,
         "_deepnote_index_column": "25%"
        },
        {
         "area": 622316.5,
         "perimeter": 3324.5,
         "melanoma": 0,
         "_deepnote_index_column": "50%"
        },
        {
         "area": 2054852.5,
         "perimeter": 7137.5,
         "melanoma": 0,
         "_deepnote_index_column": "75%"
        },
        {
         "area": 27706864,
         "perimeter": 25900,
         "melanoma": 1,
         "_deepnote_index_column": "max"
        }
       ]
      },
      "text/plain": "               area    perimeter   melanoma\ncount  1.500000e+02    150.00000  150.00000\nmean   3.114134e+06   5570.36000    0.20000\nstd    5.897570e+06   5294.59662    0.40134\nmin    3.294400e+04    642.00000    0.00000\n25%    2.329922e+05   2014.50000    0.00000\n50%    6.223165e+05   3324.50000    0.00000\n75%    2.054852e+06   7137.50000    0.00000\nmax    2.770686e+07  25900.00000    1.00000",
      "text/html": "<div>\n<style scoped>\n    .dataframe tbody tr th:only-of-type {\n        vertical-align: middle;\n    }\n\n    .dataframe tbody tr th {\n        vertical-align: top;\n    }\n\n    .dataframe thead th {\n        text-align: right;\n    }\n</style>\n<table border=\"1\" class=\"dataframe\">\n  <thead>\n    <tr style=\"text-align: right;\">\n      <th></th>\n      <th>area</th>\n      <th>perimeter</th>\n      <th>melanoma</th>\n    </tr>\n  </thead>\n  <tbody>\n    <tr>\n      <th>count</th>\n      <td>1.500000e+02</td>\n      <td>150.00000</td>\n      <td>150.00000</td>\n    </tr>\n    <tr>\n      <th>mean</th>\n      <td>3.114134e+06</td>\n      <td>5570.36000</td>\n      <td>0.20000</td>\n    </tr>\n    <tr>\n      <th>std</th>\n      <td>5.897570e+06</td>\n      <td>5294.59662</td>\n      <td>0.40134</td>\n    </tr>\n    <tr>\n      <th>min</th>\n      <td>3.294400e+04</td>\n      <td>642.00000</td>\n      <td>0.00000</td>\n    </tr>\n    <tr>\n      <th>25%</th>\n      <td>2.329922e+05</td>\n      <td>2014.50000</td>\n      <td>0.00000</td>\n    </tr>\n    <tr>\n      <th>50%</th>\n      <td>6.223165e+05</td>\n      <td>3324.50000</td>\n      <td>0.00000</td>\n    </tr>\n    <tr>\n      <th>75%</th>\n      <td>2.054852e+06</td>\n      <td>7137.50000</td>\n      <td>0.00000</td>\n    </tr>\n    <tr>\n      <th>max</th>\n      <td>2.770686e+07</td>\n      <td>25900.00000</td>\n      <td>1.00000</td>\n    </tr>\n  </tbody>\n</table>\n</div>"
     },
     "metadata": {}
    }
   ]
  },
  {
   "cell_type": "markdown",
   "source": "## Task 2 - creating our feature measurements",
   "metadata": {
    "cell_id": "ecfe3be7863c4e0394c6abbf4e48dfac",
    "tags": [],
    "deepnote_cell_type": "markdown",
    "deepnote_cell_height": 70
   }
  },
  {
   "cell_type": "markdown",
   "source": "### Picture Class\nThis class contains all the feature functions that we apply for each image as well as a function that measures the area & parameter of an image.",
   "metadata": {
    "cell_id": "5e1e7ef8047741a5863c18dab72c197f",
    "tags": [],
    "deepnote_cell_type": "markdown",
    "deepnote_cell_height": 122.796875
   }
  },
  {
   "cell_type": "code",
   "source": "class Picture:\n    def __init__(self, img, img_bw):\n        self.img = img\n        self.img_bw = img_bw\n\n    #ASSYMETRY\n    def _assymetry(self, rot_img):\n        ''' get the assymetry between the left and right part of a given binary mask '''\n        width, height = rot_img.size #mask should be quadratic and therefore have equal dimension\n        size = width * height\n\n        #check for uneven number of pixels (should not happen but just as a precaution)\n        if width %2 != 0:\n            raise TypeError(\"Uneven number of pixel and cannot be symmetric\")\n        \n        #cut in half and fold\n        left = rot_img.crop((0, 0, (width/2), height)) #left part of picture (left, top, right, bottom)\n        right = rot_img.crop(((width/2), 0, width, height)) #right part of picture\n        right = right.transpose(Image.FLIP_LEFT_RIGHT) #flip right part to compare\n\n        #get the binary difference between left an right\n        symmetry = np.where(np.array(left) != np.array(right), 1, 0)\n\n        return np.sum(symmetry) / (size/2) #the percentage of assymetry \n    \n    def get_assymetry(self):\n        ''' get the assymetry for a given mask by folding it in half from multiple angles'''\n        return round(np.mean([self._assymetry(self.img_bw), self._assymetry(self.img_bw.rotate(30, expand= True)),self._assymetry(self.img_bw.rotate(60, expand= True)),self._assymetry(self.img_bw.rotate(90, expand= True))]),2)\n\n    #BORDER\n    def compactness(self, perimeter, area):\n        ''' Computes and returns the compactness of a figure '''\n        return round(4*np.pi*area / perimeter ** 2, 4)\n\n\n    #COLOR\n    def score_variability(self):\n        '''\n            Assigns a color variability score\n        '''\n        if self._check_variability() < 20: \n            return 0 \n        elif self._check_variability() < 50: \n            return 1\n        else: \n            return 2\n\n    def _check_variability(self):\n        '''\n            Returns a mean of the median absolute deviation of each color (rgb)\n        '''\n        self.img[self.img_bw==0] = 0\n        \n        #we then calculate the mad of each dimension \n        r, g, b = self.img[:,:,0], self.img[:,:,1], self.img[:,:,2]\n        mad_r= mad(r[np.where(r != 0)])\n        mad_g= mad(g[np.where(g != 0)])\n        mad_b= mad(b[np.where(b != 0)])\n        mad_result= [mad_r,mad_g,mad_b]\n\n        #calculating the mean\n        return np.mean(mad_result)\n\n\n     \n    ",
   "metadata": {
    "cell_id": "97b77359735d4556bcba3c483e82ee91",
    "tags": [],
    "deepnote_to_be_reexecuted": false,
    "source_hash": "2b83acf2",
    "execution_start": 1649077970199,
    "execution_millis": 0,
    "deepnote_cell_type": "code",
    "deepnote_cell_height": 1251
   },
   "outputs": [],
   "execution_count": 28
  },
  {
   "cell_type": "code",
   "metadata": {
    "cell_id": "17c95640ac6744ab87aa4cf2c79d302a",
    "tags": [],
    "deepnote_to_be_reexecuted": false,
    "source_hash": "a8e4b4",
    "execution_start": 1649077971809,
    "execution_millis": 0,
    "deepnote_cell_type": "code",
    "deepnote_cell_height": 297
   },
   "source": "def cut_image(image):\n    width, height = image.size\n    image = np.array(image)\n    \n    if width %2 != 0:\n        image = np.delete(image, -1, 1)\n\n    if height %2 != 0:\n        image = np.delete(image, -1, 0)\n\n    image = Image.fromarray(image)\n\n    return image",
   "execution_count": 29,
   "outputs": []
  },
  {
   "cell_type": "markdown",
   "source": "### Looping through images",
   "metadata": {
    "cell_id": "f1be039798f840ca8c99b78e57046f57",
    "tags": [],
    "deepnote_cell_type": "markdown",
    "deepnote_cell_height": 62
   }
  },
  {
   "cell_type": "code",
   "source": "",
   "metadata": {
    "cell_id": "49f83c2a80f54a2f837799e4450b3dd7",
    "tags": [],
    "deepnote_to_be_reexecuted": false,
    "source_hash": "b623e53d",
    "execution_start": 1649078533733,
    "execution_millis": 1,
    "deepnote_cell_type": "code",
    "deepnote_cell_height": 81
   },
   "outputs": [],
   "execution_count": 37
  },
  {
   "cell_type": "code",
   "source": "#M,N is the range of images that we choosen (finally it will be 0-# of images)\nN = 0\nM = 150\n\nfeat_dict = {\n    'assymetry': [0 for _ in range(M-N)],\n    'border': [0 for _ in range(M-N)],\n    'color': [0 for _ in range(M-N)]\n}\n\n\n#the main for loop which loads the images\nfor (index, id) in enumerate(df['id'][N:M]):\n    img = plt.imread(f'../data/example_image/{id}.jpg') #main image\n    #img_bw = plt.imread(f'../data/example_segmentation/{id}_segmentation.png') #main image grayed\n\n    file_mask = f'../data/example_segmentation/{id}_segmentation.png'\n    \n    # Read the images with these filenames\n    img_bw = Image.open(file_mask) # open mask image\n    img_bw = cut_image(img_bw)\n    perimeter, area = df[df['id'] == id]['perimeter'].iloc[0], df[df['id'] == id]['area'].iloc[0]\n\n\n    is_cancer = df[df['id'] == id]['melanoma'].iloc[0] #TMP\n\n    image = Picture(img, img_bw)\n\n    feat_dict[\"assymetry\"][index] = image.get_assymetry()\n    feat_dict[\"border\"][index] = round(image.compactness(perimeter, area), 3)\n    feat_dict[\"color\"][index] = image.score_variability()\n",
   "metadata": {
    "cell_id": "bd6273f123ac4d499ad92c9ff0f12293",
    "tags": [],
    "deepnote_to_be_reexecuted": false,
    "source_hash": "e2f1b004",
    "execution_start": 1649079391815,
    "execution_millis": 657442,
    "deepnote_cell_type": "code",
    "deepnote_cell_height": 639
   },
   "outputs": [],
   "execution_count": 44
  },
  {
   "cell_type": "code",
   "source": "#feat_df = pd.DataFrame()\n#feat_df = feat_dict.append(feat_dict, ignore_index=True)\ndf['assymetry'] = feat_dict['assymetry']\ndf['border'] = feat_dict['border']\ndf['color'] = feat_dict['color']\ndf",
   "metadata": {
    "cell_id": "92f6257a9f4e493abfd35862b6bf51fe",
    "tags": [],
    "deepnote_to_be_reexecuted": false,
    "source_hash": "ba596783",
    "execution_start": 1649080053984,
    "execution_millis": 87,
    "deepnote_table_state": {
     "pageSize": 10,
     "pageIndex": 14,
     "filters": [],
     "sortBy": []
    },
    "deepnote_table_loading": false,
    "deepnote_cell_type": "code",
    "deepnote_cell_height": 688
   },
   "outputs": [
    {
     "output_type": "execute_result",
     "execution_count": 51,
     "data": {
      "application/vnd.deepnote.dataframe.v3+json": {
       "column_count": 7,
       "row_count": 150,
       "columns": [
        {
         "name": "id",
         "dtype": "object",
         "stats": {
          "unique_count": 150,
          "nan_count": 0,
          "categories": [
           {
            "name": "ISIC_0001769",
            "count": 1
           },
           {
            "name": "ISIC_0001852",
            "count": 1
           },
           {
            "name": "148 others",
            "count": 148
           }
          ]
         }
        },
        {
         "name": "area",
         "dtype": "float64",
         "stats": {
          "unique_count": 150,
          "nan_count": 0,
          "min": "32944.0",
          "max": "27706864.0",
          "histogram": [
           {
            "bin_start": 32944,
            "bin_end": 2800336,
            "count": 117
           },
           {
            "bin_start": 2800336,
            "bin_end": 5567728,
            "count": 9
           },
           {
            "bin_start": 5567728,
            "bin_end": 8335120,
            "count": 5
           },
           {
            "bin_start": 8335120,
            "bin_end": 11102512,
            "count": 5
           },
           {
            "bin_start": 11102512,
            "bin_end": 13869904,
            "count": 2
           },
           {
            "bin_start": 13869904,
            "bin_end": 16637296,
            "count": 2
           },
           {
            "bin_start": 16637296,
            "bin_end": 19404688,
            "count": 3
           },
           {
            "bin_start": 19404688,
            "bin_end": 22172080,
            "count": 1
           },
           {
            "bin_start": 22172080,
            "bin_end": 24939472,
            "count": 4
           },
           {
            "bin_start": 24939472,
            "bin_end": 27706864,
            "count": 2
           }
          ]
         }
        },
        {
         "name": "perimeter",
         "dtype": "float64",
         "stats": {
          "unique_count": 149,
          "nan_count": 0,
          "min": "642.0",
          "max": "25900.0",
          "histogram": [
           {
            "bin_start": 642,
            "bin_end": 3167.8,
            "count": 73
           },
           {
            "bin_start": 3167.8,
            "bin_end": 5693.6,
            "count": 31
           },
           {
            "bin_start": 5693.6,
            "bin_end": 8219.400000000001,
            "count": 15
           },
           {
            "bin_start": 8219.400000000001,
            "bin_end": 10745.2,
            "count": 6
           },
           {
            "bin_start": 10745.2,
            "bin_end": 13271,
            "count": 6
           },
           {
            "bin_start": 13271,
            "bin_end": 15796.800000000001,
            "count": 8
           },
           {
            "bin_start": 15796.800000000001,
            "bin_end": 18322.600000000002,
            "count": 3
           },
           {
            "bin_start": 18322.600000000002,
            "bin_end": 20848.4,
            "count": 6
           },
           {
            "bin_start": 20848.4,
            "bin_end": 23374.2,
            "count": 1
           },
           {
            "bin_start": 23374.2,
            "bin_end": 25900,
            "count": 1
           }
          ]
         }
        },
        {
         "name": "melanoma",
         "dtype": "float64",
         "stats": {
          "unique_count": 2,
          "nan_count": 0,
          "min": "0.0",
          "max": "1.0",
          "histogram": [
           {
            "bin_start": 0,
            "bin_end": 0.1,
            "count": 120
           },
           {
            "bin_start": 0.1,
            "bin_end": 0.2,
            "count": 0
           },
           {
            "bin_start": 0.2,
            "bin_end": 0.30000000000000004,
            "count": 0
           },
           {
            "bin_start": 0.30000000000000004,
            "bin_end": 0.4,
            "count": 0
           },
           {
            "bin_start": 0.4,
            "bin_end": 0.5,
            "count": 0
           },
           {
            "bin_start": 0.5,
            "bin_end": 0.6000000000000001,
            "count": 0
           },
           {
            "bin_start": 0.6000000000000001,
            "bin_end": 0.7000000000000001,
            "count": 0
           },
           {
            "bin_start": 0.7000000000000001,
            "bin_end": 0.8,
            "count": 0
           },
           {
            "bin_start": 0.8,
            "bin_end": 0.9,
            "count": 0
           },
           {
            "bin_start": 0.9,
            "bin_end": 1,
            "count": 30
           }
          ]
         }
        },
        {
         "name": "assymetry",
         "dtype": "float64",
         "stats": {
          "unique_count": 24,
          "nan_count": 0,
          "min": "0.0",
          "max": "0.38",
          "histogram": [
           {
            "bin_start": 0,
            "bin_end": 0.038,
            "count": 64
           },
           {
            "bin_start": 0.038,
            "bin_end": 0.076,
            "count": 44
           },
           {
            "bin_start": 0.076,
            "bin_end": 0.11399999999999999,
            "count": 18
           },
           {
            "bin_start": 0.11399999999999999,
            "bin_end": 0.152,
            "count": 11
           },
           {
            "bin_start": 0.152,
            "bin_end": 0.19,
            "count": 6
           },
           {
            "bin_start": 0.19,
            "bin_end": 0.22799999999999998,
            "count": 4
           },
           {
            "bin_start": 0.22799999999999998,
            "bin_end": 0.266,
            "count": 1
           },
           {
            "bin_start": 0.266,
            "bin_end": 0.304,
            "count": 0
           },
           {
            "bin_start": 0.304,
            "bin_end": 0.34199999999999997,
            "count": 1
           },
           {
            "bin_start": 0.34199999999999997,
            "bin_end": 0.38,
            "count": 1
           }
          ]
         }
        },
        {
         "name": "border",
         "dtype": "float64",
         "stats": {
          "unique_count": 131,
          "nan_count": 0,
          "min": "0.327",
          "max": "1.304",
          "histogram": [
           {
            "bin_start": 0.327,
            "bin_end": 0.4247,
            "count": 7
           },
           {
            "bin_start": 0.4247,
            "bin_end": 0.5224,
            "count": 26
           },
           {
            "bin_start": 0.5224,
            "bin_end": 0.6201000000000001,
            "count": 43
           },
           {
            "bin_start": 0.6201000000000001,
            "bin_end": 0.7178,
            "count": 17
           },
           {
            "bin_start": 0.7178,
            "bin_end": 0.8155000000000001,
            "count": 2
           },
           {
            "bin_start": 0.8155000000000001,
            "bin_end": 0.9132,
            "count": 6
           },
           {
            "bin_start": 0.9132,
            "bin_end": 1.0109000000000001,
            "count": 7
           },
           {
            "bin_start": 1.0109000000000001,
            "bin_end": 1.1086,
            "count": 15
           },
           {
            "bin_start": 1.1086,
            "bin_end": 1.2063000000000001,
            "count": 23
           },
           {
            "bin_start": 1.2063000000000001,
            "bin_end": 1.304,
            "count": 4
           }
          ]
         }
        },
        {
         "name": "color",
         "dtype": "int64",
         "stats": {
          "unique_count": 3,
          "nan_count": 0,
          "min": "0",
          "max": "2",
          "histogram": [
           {
            "bin_start": 0,
            "bin_end": 0.2,
            "count": 112
           },
           {
            "bin_start": 0.2,
            "bin_end": 0.4,
            "count": 0
           },
           {
            "bin_start": 0.4,
            "bin_end": 0.6000000000000001,
            "count": 0
           },
           {
            "bin_start": 0.6000000000000001,
            "bin_end": 0.8,
            "count": 0
           },
           {
            "bin_start": 0.8,
            "bin_end": 1,
            "count": 0
           },
           {
            "bin_start": 1,
            "bin_end": 1.2000000000000002,
            "count": 34
           },
           {
            "bin_start": 1.2000000000000002,
            "bin_end": 1.4000000000000001,
            "count": 0
           },
           {
            "bin_start": 1.4000000000000001,
            "bin_end": 1.6,
            "count": 0
           },
           {
            "bin_start": 1.6,
            "bin_end": 1.8,
            "count": 0
           },
           {
            "bin_start": 1.8,
            "bin_end": 2,
            "count": 4
           }
          ]
         }
        },
        {
         "name": "_deepnote_index_column",
         "dtype": "int64"
        }
       ],
       "rows": [
        {
         "id": "ISIC_0015243",
         "area": 19736156,
         "perimeter": 18599,
         "melanoma": 1,
         "assymetry": 0.16,
         "border": 0.717,
         "color": 1,
         "_deepnote_index_column": 140
        },
        {
         "id": "ISIC_0015256",
         "area": 25221610,
         "perimeter": 18790,
         "melanoma": 1,
         "assymetry": 0.14,
         "border": 0.898,
         "color": 1,
         "_deepnote_index_column": 141
        },
        {
         "id": "ISIC_0015313",
         "area": 18584836,
         "perimeter": 18567,
         "melanoma": 0,
         "assymetry": 0.16,
         "border": 0.678,
         "color": 2,
         "_deepnote_index_column": 142
        },
        {
         "id": "ISIC_0015372",
         "area": 23573976,
         "perimeter": 15072,
         "melanoma": 0,
         "assymetry": 0.21,
         "border": 1.304,
         "color": 2,
         "_deepnote_index_column": 143
        },
        {
         "id": "ISIC_0015401",
         "area": 6776275,
         "perimeter": 12643,
         "melanoma": 0,
         "assymetry": 0.19,
         "border": 0.533,
         "color": 0,
         "_deepnote_index_column": 144
        },
        {
         "id": "ISIC_0015443",
         "area": 9732988,
         "perimeter": 13775,
         "melanoma": 0,
         "assymetry": 0.06,
         "border": 0.645,
         "color": 1,
         "_deepnote_index_column": 145
        },
        {
         "id": "ISIC_0015445",
         "area": 12049938,
         "perimeter": 19517,
         "melanoma": 0,
         "assymetry": 0.38,
         "border": 0.398,
         "color": 1,
         "_deepnote_index_column": 146
        },
        {
         "id": "ISIC_0015483",
         "area": 8856478,
         "perimeter": 13813,
         "melanoma": 0,
         "assymetry": 0.09,
         "border": 0.583,
         "color": 1,
         "_deepnote_index_column": 147
        },
        {
         "id": "ISIC_0015496",
         "area": 8951522,
         "perimeter": 13742,
         "melanoma": 0,
         "assymetry": 0.12,
         "border": 0.596,
         "color": 1,
         "_deepnote_index_column": 148
        },
        {
         "id": "ISIC_0015627",
         "area": 3193093,
         "perimeter": 8751,
         "melanoma": 0,
         "assymetry": 0.07,
         "border": 0.524,
         "color": 0,
         "_deepnote_index_column": 149
        }
       ]
      },
      "text/plain": "               id        area  perimeter  melanoma  assymetry  border  color\n0    ISIC_0001769    216160.0     2013.0       0.0       0.03   0.670      0\n1    ISIC_0001852    130493.0     1372.0       0.0       0.01   0.871      0\n2    ISIC_0001871    205116.0     1720.0       0.0       0.03   0.871      0\n3    ISIC_0003462    161705.0     1344.0       0.0       0.03   1.125      0\n4    ISIC_0003539    317040.0     2063.0       0.0       0.06   0.936      0\n..            ...         ...        ...       ...        ...     ...    ...\n145  ISIC_0015443   9732988.0    13775.0       0.0       0.06   0.645      1\n146  ISIC_0015445  12049938.0    19517.0       0.0       0.38   0.398      1\n147  ISIC_0015483   8856478.0    13813.0       0.0       0.09   0.583      1\n148  ISIC_0015496   8951522.0    13742.0       0.0       0.12   0.596      1\n149  ISIC_0015627   3193093.0     8751.0       0.0       0.07   0.524      0\n\n[150 rows x 7 columns]",
      "text/html": "<div>\n<style scoped>\n    .dataframe tbody tr th:only-of-type {\n        vertical-align: middle;\n    }\n\n    .dataframe tbody tr th {\n        vertical-align: top;\n    }\n\n    .dataframe thead th {\n        text-align: right;\n    }\n</style>\n<table border=\"1\" class=\"dataframe\">\n  <thead>\n    <tr style=\"text-align: right;\">\n      <th></th>\n      <th>id</th>\n      <th>area</th>\n      <th>perimeter</th>\n      <th>melanoma</th>\n      <th>assymetry</th>\n      <th>border</th>\n      <th>color</th>\n    </tr>\n  </thead>\n  <tbody>\n    <tr>\n      <th>0</th>\n      <td>ISIC_0001769</td>\n      <td>216160.0</td>\n      <td>2013.0</td>\n      <td>0.0</td>\n      <td>0.03</td>\n      <td>0.670</td>\n      <td>0</td>\n    </tr>\n    <tr>\n      <th>1</th>\n      <td>ISIC_0001852</td>\n      <td>130493.0</td>\n      <td>1372.0</td>\n      <td>0.0</td>\n      <td>0.01</td>\n      <td>0.871</td>\n      <td>0</td>\n    </tr>\n    <tr>\n      <th>2</th>\n      <td>ISIC_0001871</td>\n      <td>205116.0</td>\n      <td>1720.0</td>\n      <td>0.0</td>\n      <td>0.03</td>\n      <td>0.871</td>\n      <td>0</td>\n    </tr>\n    <tr>\n      <th>3</th>\n      <td>ISIC_0003462</td>\n      <td>161705.0</td>\n      <td>1344.0</td>\n      <td>0.0</td>\n      <td>0.03</td>\n      <td>1.125</td>\n      <td>0</td>\n    </tr>\n    <tr>\n      <th>4</th>\n      <td>ISIC_0003539</td>\n      <td>317040.0</td>\n      <td>2063.0</td>\n      <td>0.0</td>\n      <td>0.06</td>\n      <td>0.936</td>\n      <td>0</td>\n    </tr>\n    <tr>\n      <th>...</th>\n      <td>...</td>\n      <td>...</td>\n      <td>...</td>\n      <td>...</td>\n      <td>...</td>\n      <td>...</td>\n      <td>...</td>\n    </tr>\n    <tr>\n      <th>145</th>\n      <td>ISIC_0015443</td>\n      <td>9732988.0</td>\n      <td>13775.0</td>\n      <td>0.0</td>\n      <td>0.06</td>\n      <td>0.645</td>\n      <td>1</td>\n    </tr>\n    <tr>\n      <th>146</th>\n      <td>ISIC_0015445</td>\n      <td>12049938.0</td>\n      <td>19517.0</td>\n      <td>0.0</td>\n      <td>0.38</td>\n      <td>0.398</td>\n      <td>1</td>\n    </tr>\n    <tr>\n      <th>147</th>\n      <td>ISIC_0015483</td>\n      <td>8856478.0</td>\n      <td>13813.0</td>\n      <td>0.0</td>\n      <td>0.09</td>\n      <td>0.583</td>\n      <td>1</td>\n    </tr>\n    <tr>\n      <th>148</th>\n      <td>ISIC_0015496</td>\n      <td>8951522.0</td>\n      <td>13742.0</td>\n      <td>0.0</td>\n      <td>0.12</td>\n      <td>0.596</td>\n      <td>1</td>\n    </tr>\n    <tr>\n      <th>149</th>\n      <td>ISIC_0015627</td>\n      <td>3193093.0</td>\n      <td>8751.0</td>\n      <td>0.0</td>\n      <td>0.07</td>\n      <td>0.524</td>\n      <td>0</td>\n    </tr>\n  </tbody>\n</table>\n<p>150 rows × 7 columns</p>\n</div>"
     },
     "metadata": {}
    }
   ],
   "execution_count": 46
  },
  {
   "cell_type": "code",
   "source": "# Stolen from Veronika's github example\n\ndef measure_area_perimeter(mask):\n    # Measure area: the sum of all white pixels in the mask image\n    area = np.sum(mask)\n\n    # Measure perimeter: first find which pixels belong to the perimeter.\n    struct_el = morphology.disk(1)\n    mask_eroded = morphology.binary_erosion(mask, struct_el)\n    image_perimeter = mask - mask_eroded\n\n    # Now we have the perimeter image, the sum of all white pixels in it\n    perimeter = np.sum(image_perimeter)\n \n    return area, perimeter",
   "metadata": {
    "cell_id": "d07809765ae641ea8b72dc389f4039c1",
    "tags": [],
    "deepnote_to_be_reexecuted": true,
    "source_hash": "213000ba",
    "deepnote_cell_type": "code",
    "deepnote_cell_height": 318
   },
   "outputs": [],
   "execution_count": null
  },
  {
   "cell_type": "markdown",
   "source": "## PLOTS",
   "metadata": {
    "cell_id": "18d6b1194d4f4ff6b7ad941ff0f11d6d",
    "tags": [],
    "deepnote_cell_type": "markdown",
    "deepnote_cell_height": 70
   }
  },
  {
   "cell_type": "code",
   "metadata": {
    "cell_id": "5a284f8790df4b8083d85eb4494b5389",
    "tags": [],
    "deepnote_to_be_reexecuted": false,
    "source_hash": "1d061903",
    "execution_start": 1649080128072,
    "execution_millis": 429,
    "deepnote_cell_type": "code",
    "deepnote_cell_height": 435.1875,
    "deepnote_output_heights": [
     21.1875,
     250
    ]
   },
   "source": "#creating a lineplot of the distribution of the assymetry values\nfor_plot = np.unique(df[\"assymetry\"], return_counts=True)\nsns.lineplot(x=for_plot[0], y=for_plot[1])",
   "execution_count": 47,
   "outputs": [
    {
     "output_type": "execute_result",
     "execution_count": 47,
     "data": {
      "text/plain": "<AxesSubplot:>"
     },
     "metadata": {}
    },
    {
     "data": {
      "text/plain": "<Figure size 432x288 with 1 Axes>",
      "image/png": "[encoded data removed]"
     },
     "metadata": {
      "needs_background": "light",
      "image/png": {
       "width": 368,
       "height": 248
      }
     },
     "output_type": "display_data"
    }
   ]
  },
  {
   "cell_type": "code",
   "metadata": {
    "cell_id": "8ed9f513ba55459a919a796a42c2159b",
    "tags": [],
    "deepnote_to_be_reexecuted": false,
    "source_hash": "a16b20a5",
    "execution_start": 1649081375750,
    "execution_millis": 1805,
    "deepnote_cell_type": "code",
    "deepnote_cell_height": 924,
    "deepnote_output_heights": [
     611,
     611
    ]
   },
   "source": "#create a scatterplot that shows the assymetry on the y axis \n#melanoma are colored red, benign lesions are colored green\ncolors1 = ['#8BA888','#D67573']\ncolors = [\"green\" if df['melanoma'][x] == 0.0 else 'red' for x in range(len(df['melanoma'])) ]\n\nfig, axes = plt.subplots(2,1,figsize = (10,12))\n\nfor i, ax in enumerate(axes):\n    xs = [i for i in range(len(df[\"assymetry\"]))]\n    ys = [\"assymetry\", \"border\"]\n    sns.scatterplot(x=xs, y= df[ys[i]], hue=colors, palette=colors1, ax=ax)\n\n",
   "execution_count": 67,
   "outputs": [
    {
     "data": {
      "text/plain": "<Figure size 720x864 with 2 Axes>",
      "image/png": "[encoded data removed]"
     },
     "metadata": {
      "image/png": {
       "width": 630,
       "height": 694
      }
     },
     "output_type": "display_data"
    }
   ]
  },
  {
   "cell_type": "code",
   "metadata": {
    "cell_id": "90c1af4cca984131ae471fd81ccf7fec",
    "tags": [],
    "deepnote_to_be_reexecuted": false,
    "source_hash": "13f12c98",
    "execution_start": 1649080153804,
    "execution_millis": 53,
    "deepnote_cell_type": "code",
    "deepnote_cell_height": 628,
    "deepnote_output_heights": [
     21,
     335
    ]
   },
   "source": "#create a rain cloud plot that plots the assymetry distribution for the two different groups (melanoma, benign)\nsns.set(style=\"whitegrid\",font_scale=1.5)\n\ndx = list(df[\"melanoma\"]); dy = list(df[\"assymetry\"])\nf, ax = plt.subplots(figsize = (7,5))\nsigma = .2; ort = \"h\"\n\nax = pt.RainCloud(x = dx, y = dy, width_viol = .6, ax = ax, bw = sigma, orient= ort)\nplt.title(\"Raincloud plot of the melanoma assymetry\")",
   "execution_count": 49,
   "outputs": [
    {
     "output_type": "execute_result",
     "execution_count": 49,
     "data": {
      "text/plain": "Text(0.5, 1.0, 'Raincloud plot of the melanoma assymetry')"
     },
     "metadata": {}
    },
    {
     "data": {
      "text/plain": "<Figure size 504x360 with 1 Axes>",
      "image/png": "[encoded data removed]"
     },
     "metadata": {
      "image/png": {
       "width": 440,
       "height": 333
      }
     },
     "output_type": "display_data"
    }
   ]
  },
  {
   "cell_type": "markdown",
   "source": "<a style='text-decoration:none;line-height:16px;display:flex;color:#5B5B62;padding:10px;justify-content:end;' href='https://deepnote.com?utm_source=created-in-deepnote-cell&projectId=932aa97b-f6d2-4889-8f04-d6166675cc2f' target=\"_blank\">\n<img alt='Created in deepnote.com' style='display:inline;max-height:16px;margin:0px;margin-right:7.5px;' src='data:image/svg+xml;base64,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' > </img>\nCreated in <span style='font-weight:600;margin-left:4px;'>Deepnote</span></a>",
   "metadata": {
    "tags": [],
    "created_in_deepnote_cell": true,
    "deepnote_cell_type": "markdown"
   }
  }
 ],
 "nbformat": 4,
 "nbformat_minor": 2,
 "metadata": {
  "orig_nbformat": 2,
  "deepnote": {
   "is_reactive": false
  },
  "deepnote_notebook_id": "480f9d89-0fde-4853-9b6b-44c97760ba54",
  "deepnote_execution_queue": []
 }
}