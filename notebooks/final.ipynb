{
 "cells": [
  {
   "cell_type": "markdown",
   "source": "# FYP Project 2 Group G",
   "metadata": {
    "cell_id": "99fd063a785640cda6495bf4d8d18f5d",
    "tags": [],
    "is_collapsed": false,
    "deepnote_cell_type": "text-cell-h1"
   }
  },
  {
   "cell_type": "code",
   "metadata": {
    "tags": [],
    "cell_id": "5d4d9778-c09e-46b9-a509-07d3151a1198",
    "deepnote_to_be_reexecuted": false,
    "source_hash": "3572dd83",
    "execution_start": 1648806081282,
    "execution_millis": 8,
    "deepnote_cell_type": "code",
    "deepnote_cell_height": 450.1875
   },
   "source": "# Imports\nimport matplotlib.pyplot as plt\nimport pandas as pd\nimport numpy as np\nimport Config\nimport os, sys \nfrom scipy.stats import pearsonr, spearmanr \nimport seaborn as sns\nimport skimage.io as sk\nfrom skimage.color import rgb2gray\nfrom statsmodels.robust import mad\nfrom PIL import Image \nimport ptitprince as pt \nfrom sklearn.model_selection import train_test_split\nfrom sklearn.neighbors import KNeighborsClassifier\nfrom sklearn.tree import DecisionTreeClassifier\nfrom sklearn.metrics import roc_auc_score\nfrom sklearn.metrics import accuracy_score",
   "execution_count": 5,
   "outputs": [
    {
     "output_type": "error",
     "ename": "SyntaxError",
     "evalue": "invalid syntax (<ipython-input-5-24c97328c9d1>, line 9)",
     "traceback": [
      "\u001b[0;36m  File \u001b[0;32m\"<ipython-input-5-24c97328c9d1>\"\u001b[0;36m, line \u001b[0;32m9\u001b[0m\n\u001b[0;31m    import skimage.io as sk!\u001b[0m\n\u001b[0m                           ^\u001b[0m\n\u001b[0;31mSyntaxError\u001b[0m\u001b[0;31m:\u001b[0m invalid syntax\n"
     ]
    }
   ]
  },
  {
   "cell_type": "code",
   "metadata": {
    "cell_id": "c75b33ea9fc343a8998c9999755ffd9b",
    "tags": [],
    "deepnote_to_be_reexecuted": true,
    "source_hash": "10cf07cf",
    "execution_start": 1648727259750,
    "execution_millis": 0,
    "deepnote_cell_type": "code",
    "deepnote_cell_height": 243
   },
   "source": "path_image = 'data/example_image'\npath_mask = '../data/example_segmentation'\n\n\ndf = pd.read_csv(Config.example_ground_truth_path)\n\nfeatures_df = pd.read_csv(Config.features_path)\nimage_id = list(df['image_id'])\n\n",
   "execution_count": null,
   "outputs": []
  },
  {
   "cell_type": "code",
   "metadata": {
    "cell_id": "3d17554a0e344ce08a9fc9d3971f0509",
    "tags": [],
    "deepnote_to_be_reexecuted": true,
    "source_hash": "e3d23637",
    "execution_start": 1648725382491,
    "execution_millis": 5,
    "deepnote_cell_type": "code",
    "deepnote_cell_height": 117
   },
   "source": "def get_assymetry(image):\n    ''' get the assymetry for a given mask by folding it in half from multiple angles'''\n    return round(np.mean([assymetry(image), assymetry(image.rotate(30, expand= True)),assymetry(image.rotate(60, expand= True)),assymetry(image.rotate(90, expand= True))]),2)",
   "execution_count": null,
   "outputs": []
  },
  {
   "cell_type": "code",
   "metadata": {
    "cell_id": "33b7651a4d7d4a4187faa61b3317ae8c",
    "tags": [],
    "deepnote_to_be_reexecuted": true,
    "source_hash": "cc651fdb",
    "execution_start": 1648727334084,
    "execution_millis": 1,
    "deepnote_cell_type": "code",
    "deepnote_cell_height": 405
   },
   "source": "def assymetry(image):\n    ''' get the assymetry between the left and right part of a given binary mask '''\n    width, height = image.size #mask should be quadratic and therefore have equal dimension\n    size = width * height\n\n    #check for uneven number of pixels (should not happen but just as a precaution)\n    if width %2 != 0:\n        raise TypeError(\"Uneven number of pixel and cannot be symmetric\")\n    \n    #cut in half and fold\n    left = image.crop((0, 0, (width/2), height)) #left part of picture (left, top, right, bottom)\n    right = image.crop(((width/2), 0, width, height)) #right part of picture\n    right = right.transpose(Image.FLIP_LEFT_RIGHT) #flip right part to compare\n\n    #get the binary difference between left an right\n    symmetry = np.where(np.array(left) != np.array(right), 1, 0)\n\n    return np.sum(symmetry) / (size/2) #the percentage of assymetry \n    ",
   "execution_count": null,
   "outputs": []
  },
  {
   "cell_type": "code",
   "metadata": {
    "cell_id": "17c95640ac6744ab87aa4cf2c79d302a",
    "tags": [],
    "deepnote_to_be_reexecuted": true,
    "source_hash": "a8e4b4",
    "execution_start": 1648727347466,
    "execution_millis": 7,
    "deepnote_cell_type": "code",
    "deepnote_cell_height": 297
   },
   "source": "def cut_image(image):\n    width, height = image.size\n    image = np.array(image)\n    \n    if width %2 != 0:\n        image = np.delete(image, -1, 1)\n\n    if height %2 != 0:\n        image = np.delete(image, -1, 0)\n\n    image = Image.fromarray(image)\n\n    return image",
   "execution_count": null,
   "outputs": []
  },
  {
   "cell_type": "code",
   "metadata": {
    "cell_id": "160c3bfe063b4b428de3470e9d1e014c",
    "tags": [],
    "deepnote_to_be_reexecuted": true,
    "source_hash": "1df4962d",
    "execution_start": 1648726361271,
    "execution_millis": 86018,
    "deepnote_cell_type": "code",
    "deepnote_cell_height": 549
   },
   "source": "num_images = len(image_id)\n\nassymetry_values = []\n\n#Loop through all images\nfor i in np.arange(num_images):\n    \n    # Define filenames related to this image\n    file_image = path_image + os.sep + image_id[i] + '.jpg'\n    file_mask = path_mask + os.sep + image_id[i] + '_segmentation.png'\n    \n    # Read the images with these filenames\n    image_file = Image.open(file_mask) # open mask image\n    image_file = cut_image(image_file)\n    # im = plt.imread(file_image)\n    # mask = plt.imread(file_mask)\n    # image_file = Image.open(file_mask) # open mask image (for assymetry we need image.open and not plt)\n    \n    # # Measure features (custom made function)\n    # a, p = util.measure_area_perimeter(mask)\n    \n    # # Store in the variables we created before\n    # features_area[i,0] = a\n    # features_perimeter[i,0] = p\n    \n    \"\"\"checking for assymetry\"\"\"\n    assymetry_values.append([image_id[i],get_assymetry(image_file)])",
   "execution_count": null,
   "outputs": []
  },
  {
   "cell_type": "code",
   "metadata": {
    "cell_id": "5917316a716f4b53b367ee385c7f33b2",
    "tags": [],
    "deepnote_to_be_reexecuted": true,
    "source_hash": "8d1a8dba",
    "execution_start": 1648727049001,
    "execution_millis": 0,
    "deepnote_cell_type": "code",
    "deepnote_cell_height": 117
   },
   "source": "def compactness(p, A):\n    \"\"\" Computes and returns the compactness of a figure \"\"\"\n    return   round(4*np.pi*A / p ** 2, 4)",
   "execution_count": null,
   "outputs": []
  },
  {
   "cell_type": "code",
   "metadata": {
    "cell_id": "20776e344f3140fe9f965660f51dcc9d",
    "tags": [],
    "deepnote_to_be_reexecuted": true,
    "source_hash": "9c73f330",
    "execution_start": 1648727132975,
    "execution_millis": 0,
    "deepnote_cell_type": "code",
    "deepnote_cell_height": 117
   },
   "source": "compactlst = list()\nfor p, A in zip(features_df['perimeter'], features_df['area']):\n    compactlst.append(compactness(p, A))",
   "execution_count": null,
   "outputs": []
  },
  {
   "cell_type": "code",
   "metadata": {
    "cell_id": "a2e84603cb8e4d11b700b28ba06d3914",
    "tags": [],
    "deepnote_to_be_reexecuted": true,
    "source_hash": "e02c150d",
    "execution_start": 1648727176444,
    "execution_millis": 0,
    "deepnote_cell_type": "code",
    "deepnote_cell_height": 81
   },
   "source": "df['compactness'] = compactlst",
   "execution_count": null,
   "outputs": []
  },
  {
   "cell_type": "code",
   "metadata": {
    "cell_id": "0058698b892a4dbabe48a2221368034c",
    "tags": [],
    "deepnote_to_be_reexecuted": true,
    "source_hash": "7dca0f10",
    "execution_start": 1648727181873,
    "execution_millis": 92,
    "deepnote_cell_type": "code",
    "deepnote_cell_height": 670
   },
   "source": "assymetry_df = pd.DataFrame(assymetry_values, columns=[\"name\", \"assymetry\"])\nmerged =df.merge(assymetry_df,left_on= \"image_id\", right_on = \"name\")\n\nmerged.drop([\"name\", \"seborrheic_keratosis\"], axis=1)\n",
   "execution_count": null,
   "outputs": [
    {
     "output_type": "execute_result",
     "execution_count": 40,
     "data": {
      "application/vnd.deepnote.dataframe.v3+json": {
       "column_count": 4,
       "row_count": 150,
       "columns": [
        {
         "name": "image_id",
         "dtype": "object",
         "stats": {
          "unique_count": 150,
          "nan_count": 0,
          "categories": [
           {
            "name": "ISIC_0001769",
            "count": 1
           },
           {
            "name": "ISIC_0001852",
            "count": 1
           },
           {
            "name": "148 others",
            "count": 148
           }
          ]
         }
        },
        {
         "name": "melanoma",
         "dtype": "float64",
         "stats": {
          "unique_count": 2,
          "nan_count": 0,
          "min": "0.0",
          "max": "1.0",
          "histogram": [
           {
            "bin_start": 0,
            "bin_end": 0.1,
            "count": 120
           },
           {
            "bin_start": 0.1,
            "bin_end": 0.2,
            "count": 0
           },
           {
            "bin_start": 0.2,
            "bin_end": 0.30000000000000004,
            "count": 0
           },
           {
            "bin_start": 0.30000000000000004,
            "bin_end": 0.4,
            "count": 0
           },
           {
            "bin_start": 0.4,
            "bin_end": 0.5,
            "count": 0
           },
           {
            "bin_start": 0.5,
            "bin_end": 0.6000000000000001,
            "count": 0
           },
           {
            "bin_start": 0.6000000000000001,
            "bin_end": 0.7000000000000001,
            "count": 0
           },
           {
            "bin_start": 0.7000000000000001,
            "bin_end": 0.8,
            "count": 0
           },
           {
            "bin_start": 0.8,
            "bin_end": 0.9,
            "count": 0
           },
           {
            "bin_start": 0.9,
            "bin_end": 1,
            "count": 30
           }
          ]
         }
        },
        {
         "name": "compactness",
         "dtype": "float64",
         "stats": {
          "unique_count": 146,
          "nan_count": 0,
          "min": "0.3272",
          "max": "1.3041",
          "histogram": [
           {
            "bin_start": 0.3272,
            "bin_end": 0.42489,
            "count": 7
           },
           {
            "bin_start": 0.42489,
            "bin_end": 0.52258,
            "count": 26
           },
           {
            "bin_start": 0.52258,
            "bin_end": 0.6202700000000001,
            "count": 43
           },
           {
            "bin_start": 0.6202700000000001,
            "bin_end": 0.71796,
            "count": 17
           },
           {
            "bin_start": 0.71796,
            "bin_end": 0.81565,
            "count": 2
           },
           {
            "bin_start": 0.81565,
            "bin_end": 0.91334,
            "count": 6
           },
           {
            "bin_start": 0.91334,
            "bin_end": 1.01103,
            "count": 7
           },
           {
            "bin_start": 1.01103,
            "bin_end": 1.1087200000000001,
            "count": 15
           },
           {
            "bin_start": 1.1087200000000001,
            "bin_end": 1.2064100000000002,
            "count": 23
           },
           {
            "bin_start": 1.2064100000000002,
            "bin_end": 1.3041,
            "count": 4
           }
          ]
         }
        },
        {
         "name": "assymetry",
         "dtype": "float64",
         "stats": {
          "unique_count": 24,
          "nan_count": 0,
          "min": "0.0",
          "max": "0.38",
          "histogram": [
           {
            "bin_start": 0,
            "bin_end": 0.038,
            "count": 64
           },
           {
            "bin_start": 0.038,
            "bin_end": 0.076,
            "count": 44
           },
           {
            "bin_start": 0.076,
            "bin_end": 0.11399999999999999,
            "count": 18
           },
           {
            "bin_start": 0.11399999999999999,
            "bin_end": 0.152,
            "count": 11
           },
           {
            "bin_start": 0.152,
            "bin_end": 0.19,
            "count": 6
           },
           {
            "bin_start": 0.19,
            "bin_end": 0.22799999999999998,
            "count": 4
           },
           {
            "bin_start": 0.22799999999999998,
            "bin_end": 0.266,
            "count": 1
           },
           {
            "bin_start": 0.266,
            "bin_end": 0.304,
            "count": 0
           },
           {
            "bin_start": 0.304,
            "bin_end": 0.34199999999999997,
            "count": 1
           },
           {
            "bin_start": 0.34199999999999997,
            "bin_end": 0.38,
            "count": 1
           }
          ]
         }
        },
        {
         "name": "_deepnote_index_column",
         "dtype": "int64"
        }
       ],
       "rows": [
        {
         "image_id": "ISIC_0001769",
         "melanoma": 0,
         "compactness": 0.6703,
         "assymetry": 0.03,
         "_deepnote_index_column": 0
        },
        {
         "image_id": "ISIC_0001852",
         "melanoma": 0,
         "compactness": 0.8711,
         "assymetry": 0.01,
         "_deepnote_index_column": 1
        },
        {
         "image_id": "ISIC_0001871",
         "melanoma": 0,
         "compactness": 0.8713,
         "assymetry": 0.03,
         "_deepnote_index_column": 2
        },
        {
         "image_id": "ISIC_0003462",
         "melanoma": 0,
         "compactness": 1.125,
         "assymetry": 0.03,
         "_deepnote_index_column": 3
        },
        {
         "image_id": "ISIC_0003539",
         "melanoma": 0,
         "compactness": 0.9361,
         "assymetry": 0.06,
         "_deepnote_index_column": 4
        },
        {
         "image_id": "ISIC_0003582",
         "melanoma": 0,
         "compactness": 1.0618,
         "assymetry": 0.1,
         "_deepnote_index_column": 5
        },
        {
         "image_id": "ISIC_0003657",
         "melanoma": 0,
         "compactness": 0.7796,
         "assymetry": 0.06,
         "_deepnote_index_column": 6
        },
        {
         "image_id": "ISIC_0003805",
         "melanoma": 0,
         "compactness": 0.8562,
         "assymetry": 0.03,
         "_deepnote_index_column": 7
        },
        {
         "image_id": "ISIC_0004337",
         "melanoma": 0,
         "compactness": 1.1416,
         "assymetry": 0.04,
         "_deepnote_index_column": 8
        },
        {
         "image_id": "ISIC_0006651",
         "melanoma": 0,
         "compactness": 1.196,
         "assymetry": 0.07,
         "_deepnote_index_column": 9
        }
       ]
      },
      "text/plain": "         image_id  melanoma  compactness  assymetry\n0    ISIC_0001769       0.0       0.6703       0.03\n1    ISIC_0001852       0.0       0.8711       0.01\n2    ISIC_0001871       0.0       0.8713       0.03\n3    ISIC_0003462       0.0       1.1250       0.03\n4    ISIC_0003539       0.0       0.9361       0.06\n..            ...       ...          ...        ...\n145  ISIC_0015443       0.0       0.6446       0.06\n146  ISIC_0015445       0.0       0.3975       0.38\n147  ISIC_0015483       0.0       0.5833       0.09\n148  ISIC_0015496       0.0       0.5957       0.12\n149  ISIC_0015627       0.0       0.5240       0.07\n\n[150 rows x 4 columns]",
      "text/html": "<div>\n<style scoped>\n    .dataframe tbody tr th:only-of-type {\n        vertical-align: middle;\n    }\n\n    .dataframe tbody tr th {\n        vertical-align: top;\n    }\n\n    .dataframe thead th {\n        text-align: right;\n    }\n</style>\n<table border=\"1\" class=\"dataframe\">\n  <thead>\n    <tr style=\"text-align: right;\">\n      <th></th>\n      <th>image_id</th>\n      <th>melanoma</th>\n      <th>compactness</th>\n      <th>assymetry</th>\n    </tr>\n  </thead>\n  <tbody>\n    <tr>\n      <th>0</th>\n      <td>ISIC_0001769</td>\n      <td>0.0</td>\n      <td>0.6703</td>\n      <td>0.03</td>\n    </tr>\n    <tr>\n      <th>1</th>\n      <td>ISIC_0001852</td>\n      <td>0.0</td>\n      <td>0.8711</td>\n      <td>0.01</td>\n    </tr>\n    <tr>\n      <th>2</th>\n      <td>ISIC_0001871</td>\n      <td>0.0</td>\n      <td>0.8713</td>\n      <td>0.03</td>\n    </tr>\n    <tr>\n      <th>3</th>\n      <td>ISIC_0003462</td>\n      <td>0.0</td>\n      <td>1.1250</td>\n      <td>0.03</td>\n    </tr>\n    <tr>\n      <th>4</th>\n      <td>ISIC_0003539</td>\n      <td>0.0</td>\n      <td>0.9361</td>\n      <td>0.06</td>\n    </tr>\n    <tr>\n      <th>...</th>\n      <td>...</td>\n      <td>...</td>\n      <td>...</td>\n      <td>...</td>\n    </tr>\n    <tr>\n      <th>145</th>\n      <td>ISIC_0015443</td>\n      <td>0.0</td>\n      <td>0.6446</td>\n      <td>0.06</td>\n    </tr>\n    <tr>\n      <th>146</th>\n      <td>ISIC_0015445</td>\n      <td>0.0</td>\n      <td>0.3975</td>\n      <td>0.38</td>\n    </tr>\n    <tr>\n      <th>147</th>\n      <td>ISIC_0015483</td>\n      <td>0.0</td>\n      <td>0.5833</td>\n      <td>0.09</td>\n    </tr>\n    <tr>\n      <th>148</th>\n      <td>ISIC_0015496</td>\n      <td>0.0</td>\n      <td>0.5957</td>\n      <td>0.12</td>\n    </tr>\n    <tr>\n      <th>149</th>\n      <td>ISIC_0015627</td>\n      <td>0.0</td>\n      <td>0.5240</td>\n      <td>0.07</td>\n    </tr>\n  </tbody>\n</table>\n<p>150 rows × 4 columns</p>\n</div>"
     },
     "metadata": {}
    }
   ]
  },
  {
   "cell_type": "markdown",
   "source": "## PLOTS",
   "metadata": {
    "cell_id": "18d6b1194d4f4ff6b7ad941ff0f11d6d",
    "tags": [],
    "deepnote_cell_type": "markdown",
    "deepnote_cell_height": 70
   }
  },
  {
   "cell_type": "code",
   "metadata": {
    "cell_id": "5a284f8790df4b8083d85eb4494b5389",
    "tags": [],
    "deepnote_to_be_reexecuted": true,
    "source_hash": "8f231f35",
    "deepnote_cell_type": "code",
    "deepnote_cell_height": 117
   },
   "source": "#creating a lineplot of the distribution of the assymetry values\nfor_plot = np.unique(merged[\"assymetry\"], return_counts=True)\nsns.lineplot(x=for_plot[0], y=for_plot[1])",
   "execution_count": null,
   "outputs": []
  },
  {
   "cell_type": "code",
   "metadata": {
    "cell_id": "8ed9f513ba55459a919a796a42c2159b",
    "tags": [],
    "deepnote_to_be_reexecuted": true,
    "source_hash": "baf4f04d",
    "deepnote_cell_type": "code",
    "deepnote_cell_height": 171
   },
   "source": "#create a scatterplot that shows the assymetry on the y axis \n#melanoma are colored red, benign lesions are colored green\ncolors1 = ['#8BA888','#D67573']\ncolors = [\"green\" if merged['melanoma'][x] == 0.0 else 'red' for x in range(len(merged['melanoma'])) ]\n\nsns.scatterplot(x = [i for i in range(len(merged[\"assymetry\"]))],y = merged[\"assymetry\"], hue= colors, palette=colors1)",
   "execution_count": null,
   "outputs": []
  },
  {
   "cell_type": "code",
   "metadata": {
    "cell_id": "90c1af4cca984131ae471fd81ccf7fec",
    "tags": [],
    "deepnote_to_be_reexecuted": true,
    "source_hash": "5723d37d",
    "deepnote_cell_type": "code",
    "deepnote_cell_height": 225
   },
   "source": "#create a rain cloud plot that plots the assymetry distribution for the two different groups (melanoma, benign)\nsns.set(style=\"whitegrid\",font_scale=1.5)\n\ndx = list(merged[\"melanoma\"]); dy = list(merged[\"assymetry\"])\nf, ax = plt.subplots(figsize = (7,5))\nsigma = .2; ort = \"h\"\n\nax = pt.RainCloud(x = dx, y = dy, width_viol = .6, ax = ax, bw = sigma, orient= ort)\nplt.title(\"Raincloud plot of the melanoma assymetry\")",
   "execution_count": null,
   "outputs": []
  },
  {
   "cell_type": "markdown",
   "source": "<a style='text-decoration:none;line-height:16px;display:flex;color:#5B5B62;padding:10px;justify-content:end;' href='https://deepnote.com?utm_source=created-in-deepnote-cell&projectId=932aa97b-f6d2-4889-8f04-d6166675cc2f' target=\"_blank\">\n<img alt='Created in deepnote.com' style='display:inline;max-height:16px;margin:0px;margin-right:7.5px;' src='data:image/svg+xml;base64,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' > </img>\nCreated in <span style='font-weight:600;margin-left:4px;'>Deepnote</span></a>",
   "metadata": {
    "tags": [],
    "created_in_deepnote_cell": true,
    "deepnote_cell_type": "markdown"
   }
  }
 ],
 "nbformat": 4,
 "nbformat_minor": 2,
 "metadata": {
  "orig_nbformat": 2,
  "deepnote": {
   "is_reactive": false
  },
  "deepnote_notebook_id": "480f9d89-0fde-4853-9b6b-44c97760ba54",
  "deepnote_execution_queue": []
 }
}