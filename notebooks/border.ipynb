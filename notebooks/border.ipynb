{
 "cells": [
  {
   "cell_type": "markdown",
   "source": "Plan: \\\ncreate projection of the pixels onto x axis and y axis \\\ncompare the two histograms",
   "metadata": {
    "cell_id": "2c0232beea114d179e875c78d54201cf",
    "tags": [],
    "deepnote_cell_type": "markdown",
    "deepnote_cell_height": 97.1875
   }
  },
  {
   "cell_type": "code",
   "metadata": {
    "cell_id": "8b14d8669dc34a74b8e212845e0985d2",
    "tags": [],
    "deepnote_to_be_reexecuted": false,
    "source_hash": "3ff4d290",
    "execution_start": 1648553587063,
    "execution_millis": 3197,
    "deepnote_cell_type": "code",
    "deepnote_cell_height": 171.453125
   },
   "source": "!pip install cv2",
   "execution_count": null,
   "outputs": [
    {
     "name": "stdout",
     "text": "\u001b[31mERROR: Could not find a version that satisfies the requirement cv2 (from versions: none)\u001b[0m\n\u001b[31mERROR: No matching distribution found for cv2\u001b[0m\n\u001b[33mWARNING: You are using pip version 20.1.1; however, version 22.0.4 is available.\nYou should consider upgrading via the '/root/venv/bin/python -m pip install --upgrade pip' command.\u001b[0m\n",
     "output_type": "stream"
    }
   ]
  },
  {
   "cell_type": "code",
   "metadata": {
    "tags": [],
    "cell_id": "0a458110-bb32-4a80-84a5-06df3cac88c3",
    "deepnote_to_be_reexecuted": false,
    "source_hash": "b1ace9db",
    "execution_start": 1648553712887,
    "execution_millis": 2274,
    "deepnote_cell_type": "code",
    "deepnote_cell_height": 171
   },
   "source": "import Config\nimport numpy as np\nimport pandas as pd\n#import cv2\nimport matplotlib.pyplot as plt\n#import skimage as sk",
   "execution_count": null,
   "outputs": []
  },
  {
   "cell_type": "code",
   "metadata": {
    "cell_id": "255845792489499d8902c88d335360ae",
    "tags": [],
    "deepnote_to_be_reexecuted": false,
    "source_hash": "3e47202d",
    "execution_start": 1648553902119,
    "execution_millis": 400,
    "deepnote_cell_type": "code",
    "deepnote_cell_height": 298.1875,
    "deepnote_output_heights": [
     21.1875
    ]
   },
   "source": "picture_path = \"../data/example_segmentation/ISIC_0001852_segmentation.png\"\npicture = plt.imread(picture_path)\nhorizontalProj = np.sum(picture, axis= 1)\nverticalProj = np.sum(picture, axis=0)\n\ncomparison = 0\n\nfor i in range(len(horizontalProj)):\n    comparison += (int(horizontalProj[i])- int(verticalProj[i]))^2\n\ncomparison",
   "execution_count": null,
   "outputs": [
    {
     "output_type": "execute_result",
     "execution_count": 50,
     "data": {
      "text/plain": "2412"
     },
     "metadata": {}
    }
   ]
  },
  {
   "cell_type": "code",
   "metadata": {
    "cell_id": "ed4215f57ac045e6a3e1d5206c329181",
    "tags": [],
    "deepnote_to_be_reexecuted": false,
    "source_hash": "3bee0675",
    "execution_start": 1648554614075,
    "execution_millis": 3,
    "deepnote_cell_type": "code",
    "deepnote_cell_height": 81
   },
   "source": "featuresdf = pd.read_csv(Config.features_path)",
   "execution_count": null,
   "outputs": []
  },
  {
   "cell_type": "code",
   "metadata": {
    "cell_id": "6f193d6d698f4898832cbbc4653e6367",
    "tags": [],
    "deepnote_to_be_reexecuted": false,
    "source_hash": "7a194736",
    "execution_start": 1648554067101,
    "execution_millis": 17,
    "deepnote_cell_type": "code",
    "deepnote_cell_height": 81
   },
   "source": "truthdf = pd.read_csv(Config.example_ground_truth_path)",
   "execution_count": null,
   "outputs": []
  },
  {
   "cell_type": "code",
   "metadata": {
    "cell_id": "9654ebf103244b9fb7646136f5c46da8",
    "tags": [],
    "deepnote_cell_type": "code",
    "deepnote_cell_height": 66
   },
   "source": "colors = ['green' if i == 0 else 'red' for i in truthdf['melanoma']]",
   "execution_count": null,
   "outputs": []
  },
  {
   "cell_type": "code",
   "metadata": {
    "cell_id": "2fb4d2dae59e4a72b77b04ba351caec8",
    "tags": [],
    "deepnote_to_be_reexecuted": false,
    "source_hash": "1c7c21f4",
    "execution_start": 1648553802285,
    "execution_millis": 0,
    "deepnote_cell_type": "code",
    "deepnote_cell_height": 117
   },
   "source": "def compactness(p, A):\n    \"\"\" Computes and returns the compactness of a figure \"\"\"\n    return   4*np.pi*A / p ** 2",
   "execution_count": null,
   "outputs": []
  },
  {
   "cell_type": "code",
   "metadata": {
    "cell_id": "fc550ecc527f482ea775f54faaafae85",
    "tags": [],
    "deepnote_to_be_reexecuted": false,
    "source_hash": "fa9b8ae0",
    "execution_start": 1648553803119,
    "execution_millis": 0,
    "deepnote_cell_type": "code",
    "deepnote_cell_height": 117
   },
   "source": "compactlst = list()\nfor p, A in zip(featuresdf['perimeter'], featuresdf['area']):\n    compactlst.append(compactness(p, A))",
   "execution_count": null,
   "outputs": []
  },
  {
   "cell_type": "code",
   "metadata": {
    "cell_id": "4542acf3838f41b6b490c963a704e69b",
    "tags": [],
    "deepnote_to_be_reexecuted": false,
    "source_hash": "5eadd2c5",
    "execution_start": 1648554619793,
    "execution_millis": 3,
    "deepnote_cell_type": "code",
    "deepnote_cell_height": 81,
    "deepnote_output_heights": [
     611
    ]
   },
   "source": "featuresdf['compactness'] = compactlst",
   "execution_count": null,
   "outputs": []
  },
  {
   "cell_type": "code",
   "metadata": {
    "cell_id": "466b27318dea45fc8e3ada4559044de5",
    "tags": [],
    "deepnote_to_be_reexecuted": false,
    "source_hash": "b4ed5546",
    "execution_start": 1648554620231,
    "execution_millis": 404,
    "deepnote_cell_type": "code",
    "deepnote_cell_height": 393,
    "deepnote_output_heights": [
     21.1875
    ]
   },
   "source": "featuresdf.head()",
   "execution_count": null,
   "outputs": [
    {
     "output_type": "execute_result",
     "execution_count": 79,
     "data": {
      "application/vnd.deepnote.dataframe.v3+json": {
       "column_count": 4,
       "row_count": 5,
       "columns": [
        {
         "name": "id",
         "dtype": "object",
         "stats": {
          "unique_count": 5,
          "nan_count": 0,
          "categories": [
           {
            "name": "ISIC_0001769",
            "count": 1
           },
           {
            "name": "ISIC_0001852",
            "count": 1
           },
           {
            "name": "3 others",
            "count": 3
           }
          ]
         }
        },
        {
         "name": "area",
         "dtype": "float64",
         "stats": {
          "unique_count": 5,
          "nan_count": 0,
          "min": "130493.0",
          "max": "317040.0",
          "histogram": [
           {
            "bin_start": 130493,
            "bin_end": 149147.7,
            "count": 1
           },
           {
            "bin_start": 149147.7,
            "bin_end": 167802.4,
            "count": 1
           },
           {
            "bin_start": 167802.4,
            "bin_end": 186457.1,
            "count": 0
           },
           {
            "bin_start": 186457.1,
            "bin_end": 205111.8,
            "count": 0
           },
           {
            "bin_start": 205111.8,
            "bin_end": 223766.5,
            "count": 2
           },
           {
            "bin_start": 223766.5,
            "bin_end": 242421.2,
            "count": 0
           },
           {
            "bin_start": 242421.2,
            "bin_end": 261075.90000000002,
            "count": 0
           },
           {
            "bin_start": 261075.90000000002,
            "bin_end": 279730.6,
            "count": 0
           },
           {
            "bin_start": 279730.6,
            "bin_end": 298385.30000000005,
            "count": 0
           },
           {
            "bin_start": 298385.30000000005,
            "bin_end": 317040,
            "count": 1
           }
          ]
         }
        },
        {
         "name": "perimeter",
         "dtype": "float64",
         "stats": {
          "unique_count": 5,
          "nan_count": 0,
          "min": "1344.0",
          "max": "2063.0",
          "histogram": [
           {
            "bin_start": 1344,
            "bin_end": 1415.9,
            "count": 2
           },
           {
            "bin_start": 1415.9,
            "bin_end": 1487.8,
            "count": 0
           },
           {
            "bin_start": 1487.8,
            "bin_end": 1559.7,
            "count": 0
           },
           {
            "bin_start": 1559.7,
            "bin_end": 1631.6,
            "count": 0
           },
           {
            "bin_start": 1631.6,
            "bin_end": 1703.5,
            "count": 0
           },
           {
            "bin_start": 1703.5,
            "bin_end": 1775.4,
            "count": 1
           },
           {
            "bin_start": 1775.4,
            "bin_end": 1847.3000000000002,
            "count": 0
           },
           {
            "bin_start": 1847.3000000000002,
            "bin_end": 1919.2,
            "count": 0
           },
           {
            "bin_start": 1919.2,
            "bin_end": 1991.1,
            "count": 0
           },
           {
            "bin_start": 1991.1,
            "bin_end": 2063,
            "count": 2
           }
          ]
         }
        },
        {
         "name": "compactness",
         "dtype": "float64",
         "stats": {
          "unique_count": 5,
          "nan_count": 0,
          "min": "0.6703438755885746",
          "max": "1.1249540285943203",
          "histogram": [
           {
            "bin_start": 0.6703438755885746,
            "bin_end": 0.7158048908891491,
            "count": 1
           },
           {
            "bin_start": 0.7158048908891491,
            "bin_end": 0.7612659061897237,
            "count": 0
           },
           {
            "bin_start": 0.7612659061897237,
            "bin_end": 0.8067269214902983,
            "count": 0
           },
           {
            "bin_start": 0.8067269214902983,
            "bin_end": 0.8521879367908729,
            "count": 0
           },
           {
            "bin_start": 0.8521879367908729,
            "bin_end": 0.8976489520914475,
            "count": 2
           },
           {
            "bin_start": 0.8976489520914475,
            "bin_end": 0.943109967392022,
            "count": 1
           },
           {
            "bin_start": 0.943109967392022,
            "bin_end": 0.9885709826925966,
            "count": 0
           },
           {
            "bin_start": 0.9885709826925966,
            "bin_end": 1.0340319979931711,
            "count": 0
           },
           {
            "bin_start": 1.0340319979931711,
            "bin_end": 1.0794930132937457,
            "count": 0
           },
           {
            "bin_start": 1.0794930132937457,
            "bin_end": 1.1249540285943203,
            "count": 1
           }
          ]
         }
        },
        {
         "name": "_deepnote_index_column",
         "dtype": "int64"
        }
       ],
       "rows": [
        {
         "id": "ISIC_0001769",
         "area": 216160,
         "perimeter": 2013,
         "compactness": 0.6703438755885746,
         "_deepnote_index_column": 0
        },
        {
         "id": "ISIC_0001852",
         "area": 130493,
         "perimeter": 1372,
         "compactness": 0.87114180771807,
         "_deepnote_index_column": 1
        },
        {
         "id": "ISIC_0001871",
         "area": 205116,
         "perimeter": 1720,
         "compactness": 0.87126949531331,
         "_deepnote_index_column": 2
        },
        {
         "id": "ISIC_0003462",
         "area": 161705,
         "perimeter": 1344,
         "compactness": 1.1249540285943203,
         "_deepnote_index_column": 3
        },
        {
         "id": "ISIC_0003539",
         "area": 317040,
         "perimeter": 2063,
         "compactness": 0.9361069452283209,
         "_deepnote_index_column": 4
        }
       ]
      },
      "text/plain": "             id      area  perimeter  compactness\n0  ISIC_0001769  216160.0     2013.0     0.670344\n1  ISIC_0001852  130493.0     1372.0     0.871142\n2  ISIC_0001871  205116.0     1720.0     0.871269\n3  ISIC_0003462  161705.0     1344.0     1.124954\n4  ISIC_0003539  317040.0     2063.0     0.936107",
      "text/html": "<div>\n<style scoped>\n    .dataframe tbody tr th:only-of-type {\n        vertical-align: middle;\n    }\n\n    .dataframe tbody tr th {\n        vertical-align: top;\n    }\n\n    .dataframe thead th {\n        text-align: right;\n    }\n</style>\n<table border=\"1\" class=\"dataframe\">\n  <thead>\n    <tr style=\"text-align: right;\">\n      <th></th>\n      <th>id</th>\n      <th>area</th>\n      <th>perimeter</th>\n      <th>compactness</th>\n    </tr>\n  </thead>\n  <tbody>\n    <tr>\n      <th>0</th>\n      <td>ISIC_0001769</td>\n      <td>216160.0</td>\n      <td>2013.0</td>\n      <td>0.670344</td>\n    </tr>\n    <tr>\n      <th>1</th>\n      <td>ISIC_0001852</td>\n      <td>130493.0</td>\n      <td>1372.0</td>\n      <td>0.871142</td>\n    </tr>\n    <tr>\n      <th>2</th>\n      <td>ISIC_0001871</td>\n      <td>205116.0</td>\n      <td>1720.0</td>\n      <td>0.871269</td>\n    </tr>\n    <tr>\n      <th>3</th>\n      <td>ISIC_0003462</td>\n      <td>161705.0</td>\n      <td>1344.0</td>\n      <td>1.124954</td>\n    </tr>\n    <tr>\n      <th>4</th>\n      <td>ISIC_0003539</td>\n      <td>317040.0</td>\n      <td>2063.0</td>\n      <td>0.936107</td>\n    </tr>\n  </tbody>\n</table>\n</div>"
     },
     "metadata": {}
    }
   ]
  },
  {
   "cell_type": "code",
   "metadata": {
    "cell_id": "122a68b0daaa4dd1a5c1cb68075ebff9",
    "tags": [],
    "deepnote_to_be_reexecuted": false,
    "source_hash": "fab1982f",
    "execution_start": 1648554623480,
    "execution_millis": 338,
    "deepnote_cell_type": "code",
    "deepnote_cell_height": 334.59375,
    "deepnote_output_heights": [
     111.59375,
     236
    ]
   },
   "source": "fig, axs = plt.subplots(1, 2, figsize=(12,4))\n\nfeaturelst = ['perimeter', 'area']\nfor i, ax in enumerate(axs):\n    feature = featurelst[i]\n    ax.scatter(np.log(featuresdf[feature]+1), featuresdf['compactness'], c=colors)\n\nplt.show()",
   "execution_count": null,
   "outputs": [
    {
     "data": {
      "text/plain": "<Figure size 864x288 with 2 Axes>",
      "image/png": "[encoded data removed]"
     },
     "metadata": {
      "needs_background": "light",
      "image/png": {
       "width": 706,
       "height": 248
      }
     },
     "output_type": "display_data"
    }
   ]
  },
  {
   "cell_type": "code",
   "metadata": {
    "cell_id": "34c3100fdbb14295b93ad90d1d923f68",
    "tags": [],
    "deepnote_cell_type": "code",
    "deepnote_cell_height": 66
   },
   "source": "",
   "execution_count": null,
   "outputs": []
  },
  {
   "cell_type": "markdown",
   "source": "<a style='text-decoration:none;line-height:16px;display:flex;color:#5B5B62;padding:10px;justify-content:end;' href='https://deepnote.com?utm_source=created-in-deepnote-cell&projectId=932aa97b-f6d2-4889-8f04-d6166675cc2f' target=\"_blank\">\n<img alt='Created in deepnote.com' style='display:inline;max-height:16px;margin:0px;margin-right:7.5px;' src='data:image/svg+xml;base64,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' > </img>\nCreated in <span style='font-weight:600;margin-left:4px;'>Deepnote</span></a>",
   "metadata": {
    "tags": [],
    "created_in_deepnote_cell": true,
    "deepnote_cell_type": "markdown"
   }
  }
 ],
 "nbformat": 4,
 "nbformat_minor": 2,
 "metadata": {
  "orig_nbformat": 2,
  "deepnote": {
   "is_reactive": false
  },
  "deepnote_notebook_id": "ef1220b9-b3cb-4cec-929d-52c7802a6bc8",
  "deepnote_execution_queue": []
 }
}