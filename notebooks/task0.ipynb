{
 "cells": [
  {
   "cell_type": "markdown",
   "source": "# Group 2 ",
   "metadata": {
    "cell_id": "fa433b2ca7954809badd4230d94db87e",
    "tags": [],
    "is_collapsed": false,
    "deepnote_cell_type": "text-cell-h1"
   }
  },
  {
   "cell_type": "markdown",
   "source": "https://discord.gg/hKzpAuRQ",
   "metadata": {
    "cell_id": "6ae54b930fce4af1a65f54487847b380",
    "tags": [],
    "deepnote_cell_type": "markdown",
    "deepnote_cell_height": 52.390625
   }
  },
  {
   "cell_type": "markdown",
   "source": "## Task 0: explore the data",
   "metadata": {
    "cell_id": "efdbd472187d4bfb84384d600628ef8d",
    "tags": [],
    "is_collapsed": false,
    "deepnote_cell_type": "text-cell-h2"
   }
  },
  {
   "cell_type": "code",
   "metadata": {
    "cell_id": "866518f5eeee4fcca007c96362320c2a",
    "tags": [],
    "deepnote_to_be_reexecuted": false,
    "source_hash": "d316b7c5",
    "execution_start": 1648716100000,
    "execution_millis": 963,
    "deepnote_cell_type": "code",
    "deepnote_cell_height": 153
   },
   "source": "import matplotlib.pyplot as plt\nimport pandas as pd\nimport numpy as np\nimport Config\nimport os, sys",
   "execution_count": null,
   "outputs": []
  },
  {
   "cell_type": "markdown",
   "source": "### Looking for missing data in .csv files",
   "metadata": {
    "cell_id": "98568a647b04461b9af6f0089d6a02f2",
    "tags": [],
    "deepnote_cell_type": "markdown",
    "deepnote_cell_height": 62
   }
  },
  {
   "cell_type": "code",
   "metadata": {
    "cell_id": "b74cd4c1b5cf431d84f78028f82488ab",
    "tags": [],
    "deepnote_to_be_reexecuted": false,
    "source_hash": "10b51597",
    "execution_start": 1648716100967,
    "execution_millis": 13,
    "deepnote_cell_type": "code",
    "deepnote_cell_height": 239.71875
   },
   "source": "features_df = pd.read_csv(Config.features_path)\n\n#get the shape of features_df\nprint(f'shape of the features df: {features_df.shape}')\n\n#look for missing data\nprint(f'Are there any missing values in the dataset? {features_df.isna().any().any()}')",
   "execution_count": null,
   "outputs": [
    {
     "name": "stdout",
     "text": "shape of the features df: (150, 3)\nAre there any missing values in the dataset? False\n",
     "output_type": "stream"
    }
   ]
  },
  {
   "cell_type": "code",
   "metadata": {
    "cell_id": "b0b4d83a94ae434a9b3cf8a7706dbaaa",
    "tags": [],
    "deepnote_to_be_reexecuted": false,
    "source_hash": "8f1f22d4",
    "execution_start": 1648716100983,
    "execution_millis": 12,
    "deepnote_cell_type": "code",
    "deepnote_cell_height": 313.59375
   },
   "source": "diagnosis_df = pd.read_csv(Config.example_ground_truth_path)\n\n#get the shape of features_df\nprint(f'shape of the diagnosis df: {diagnosis_df.shape}')\n\n#get the shape of features_df\nprint(f'The diagnosis types: {diagnosis_df.columns[1:]}')\n\n#look for missing data\nprint(f'Are there any missing values in the dataset? {diagnosis_df.isna().any().any()}')",
   "execution_count": null,
   "outputs": [
    {
     "name": "stdout",
     "text": "shape of the diagnosis df: (150, 3)\nThe diagnosis types: Index(['melanoma', 'seborrheic_keratosis'], dtype='object')\nAre there any missing values in the dataset? False\n",
     "output_type": "stream"
    }
   ]
  },
  {
   "cell_type": "code",
   "metadata": {
    "cell_id": "9ddbd75ad367411eb37e25119c31017f",
    "tags": [],
    "deepnote_to_be_reexecuted": false,
    "source_hash": "af47f8d3",
    "execution_start": 1648716101000,
    "execution_millis": 4,
    "deepnote_cell_type": "code",
    "deepnote_cell_height": 204
   },
   "source": "print(f\"There are {int(diagnosis_df['melanoma'].sum())} melanona cases\")\nprint(f\"There are {int(diagnosis_df['seborrheic_keratosis'].sum())} seborrhoic keratosis cases\")\n\n\n",
   "execution_count": null,
   "outputs": [
    {
     "name": "stdout",
     "text": "There are 30 melanona cases\nThere are 42 seborrhoic keratosis cases\n",
     "output_type": "stream"
    }
   ]
  },
  {
   "cell_type": "code",
   "metadata": {
    "cell_id": "60ee57e1f39447c1a04ff9360e2e78bc",
    "tags": [],
    "deepnote_to_be_reexecuted": false,
    "source_hash": "d169ead7",
    "execution_start": 1648716101033,
    "execution_millis": 4,
    "deepnote_cell_type": "code",
    "deepnote_cell_height": 255.859375
   },
   "source": "# Python method listdir() returns a list containing the names of the entries in the directory given by path. The list is in arbitrary order. It does not include the special entries '.' and '..' even if they are present in the directory. \n\npic_names = np.array(os.listdir('../data/example_image'))\npic_segm = np.array(os.listdir('../data/example_segmentation'))\n\npics_names= [y.replace('.jpg', '') for y in pic_names]\npics_segment= [y.replace('_segmentation.png', '') for y in pic_segm]\n\nprint(len(pics_names), len(pic_segm))",
   "execution_count": null,
   "outputs": [
    {
     "name": "stdout",
     "text": "151 150\n",
     "output_type": "stream"
    }
   ]
  },
  {
   "cell_type": "code",
   "metadata": {
    "cell_id": "f164ecf942734e83b73e4dd47c082dce",
    "tags": [],
    "deepnote_to_be_reexecuted": false,
    "source_hash": "2965d5ca",
    "execution_start": 1648716101034,
    "execution_millis": 3,
    "deepnote_cell_type": "code",
    "deepnote_cell_height": 154.1875,
    "deepnote_output_heights": [
     21.1875
    ]
   },
   "source": "#Setxor1d returns the values that are exclusively in one array\npics= np.setxor1d(pics_names,pics_segment)\npics",
   "execution_count": null,
   "outputs": [
    {
     "output_type": "execute_result",
     "execution_count": 6,
     "data": {
      "text/plain": "array(['.DS_Store'], dtype='<U12')"
     },
     "metadata": {}
    }
   ]
  },
  {
   "cell_type": "markdown",
   "source": "### Checking certain numerical measures in the data frames",
   "metadata": {
    "cell_id": "7cae3e9b5c5e4340b12d0615be509c76",
    "tags": [],
    "deepnote_cell_type": "markdown",
    "deepnote_cell_height": 62
   }
  },
  {
   "cell_type": "code",
   "metadata": {
    "cell_id": "5e8352722a1f45818fd37d356a375ad3",
    "tags": [],
    "deepnote_to_be_reexecuted": false,
    "source_hash": "c7f2396a",
    "execution_start": 1648716101035,
    "execution_millis": 2,
    "deepnote_cell_type": "code",
    "deepnote_cell_height": 118.1875,
    "deepnote_output_heights": [
     21.1875
    ]
   },
   "source": "features_df.size",
   "execution_count": null,
   "outputs": [
    {
     "output_type": "execute_result",
     "execution_count": 7,
     "data": {
      "text/plain": "450"
     },
     "metadata": {}
    }
   ]
  },
  {
   "cell_type": "code",
   "metadata": {
    "cell_id": "2346bb619a6d4c84b5012fb7b5ed3054",
    "tags": [],
    "deepnote_to_be_reexecuted": false,
    "source_hash": "8948c6d9",
    "execution_start": 1648716101062,
    "execution_millis": 26,
    "deepnote_cell_type": "code",
    "deepnote_cell_height": 536
   },
   "source": "#Becoming familiar with the features dataset\nfeatures_df.describe()",
   "execution_count": null,
   "outputs": [
    {
     "output_type": "execute_result",
     "execution_count": 8,
     "data": {
      "application/vnd.deepnote.dataframe.v3+json": {
       "column_count": 2,
       "row_count": 8,
       "columns": [
        {
         "name": "area",
         "dtype": "float64",
         "stats": {
          "unique_count": 8,
          "nan_count": 0,
          "min": "150.0",
          "max": "27706864.0",
          "histogram": [
           {
            "bin_start": 150,
            "bin_end": 2770821.4,
            "count": 5
           },
           {
            "bin_start": 2770821.4,
            "bin_end": 5541492.8,
            "count": 1
           },
           {
            "bin_start": 5541492.8,
            "bin_end": 8312164.199999999,
            "count": 1
           },
           {
            "bin_start": 8312164.199999999,
            "bin_end": 11082835.6,
            "count": 0
           },
           {
            "bin_start": 11082835.6,
            "bin_end": 13853507,
            "count": 0
           },
           {
            "bin_start": 13853507,
            "bin_end": 16624178.399999999,
            "count": 0
           },
           {
            "bin_start": 16624178.399999999,
            "bin_end": 19394849.8,
            "count": 0
           },
           {
            "bin_start": 19394849.8,
            "bin_end": 22165521.2,
            "count": 0
           },
           {
            "bin_start": 22165521.2,
            "bin_end": 24936192.599999998,
            "count": 0
           },
           {
            "bin_start": 24936192.599999998,
            "bin_end": 27706864,
            "count": 1
           }
          ]
         }
        },
        {
         "name": "perimeter",
         "dtype": "float64",
         "stats": {
          "unique_count": 8,
          "nan_count": 0,
          "min": "150.0",
          "max": "25900.0",
          "histogram": [
           {
            "bin_start": 150,
            "bin_end": 2725,
            "count": 3
           },
           {
            "bin_start": 2725,
            "bin_end": 5300,
            "count": 2
           },
           {
            "bin_start": 5300,
            "bin_end": 7875,
            "count": 2
           },
           {
            "bin_start": 7875,
            "bin_end": 10450,
            "count": 0
           },
           {
            "bin_start": 10450,
            "bin_end": 13025,
            "count": 0
           },
           {
            "bin_start": 13025,
            "bin_end": 15600,
            "count": 0
           },
           {
            "bin_start": 15600,
            "bin_end": 18175,
            "count": 0
           },
           {
            "bin_start": 18175,
            "bin_end": 20750,
            "count": 0
           },
           {
            "bin_start": 20750,
            "bin_end": 23325,
            "count": 0
           },
           {
            "bin_start": 23325,
            "bin_end": 25900,
            "count": 1
           }
          ]
         }
        },
        {
         "name": "_deepnote_index_column",
         "dtype": "object"
        }
       ],
       "rows": [
        {
         "area": 150,
         "perimeter": 150,
         "_deepnote_index_column": "count"
        },
        {
         "area": 3114133.6333333333,
         "perimeter": 5570.36,
         "_deepnote_index_column": "mean"
        },
        {
         "area": 5897570.240149394,
         "perimeter": 5294.59662041273,
         "_deepnote_index_column": "std"
        },
        {
         "area": 32944,
         "perimeter": 642,
         "_deepnote_index_column": "min"
        },
        {
         "area": 232992.25,
         "perimeter": 2014.5,
         "_deepnote_index_column": "25%"
        },
        {
         "area": 622316.5,
         "perimeter": 3324.5,
         "_deepnote_index_column": "50%"
        },
        {
         "area": 2054852.5,
         "perimeter": 7137.5,
         "_deepnote_index_column": "75%"
        },
        {
         "area": 27706864,
         "perimeter": 25900,
         "_deepnote_index_column": "max"
        }
       ]
      },
      "text/plain": "               area    perimeter\ncount  1.500000e+02    150.00000\nmean   3.114134e+06   5570.36000\nstd    5.897570e+06   5294.59662\nmin    3.294400e+04    642.00000\n25%    2.329922e+05   2014.50000\n50%    6.223165e+05   3324.50000\n75%    2.054852e+06   7137.50000\nmax    2.770686e+07  25900.00000",
      "text/html": "<div>\n<style scoped>\n    .dataframe tbody tr th:only-of-type {\n        vertical-align: middle;\n    }\n\n    .dataframe tbody tr th {\n        vertical-align: top;\n    }\n\n    .dataframe thead th {\n        text-align: right;\n    }\n</style>\n<table border=\"1\" class=\"dataframe\">\n  <thead>\n    <tr style=\"text-align: right;\">\n      <th></th>\n      <th>area</th>\n      <th>perimeter</th>\n    </tr>\n  </thead>\n  <tbody>\n    <tr>\n      <th>count</th>\n      <td>1.500000e+02</td>\n      <td>150.00000</td>\n    </tr>\n    <tr>\n      <th>mean</th>\n      <td>3.114134e+06</td>\n      <td>5570.36000</td>\n    </tr>\n    <tr>\n      <th>std</th>\n      <td>5.897570e+06</td>\n      <td>5294.59662</td>\n    </tr>\n    <tr>\n      <th>min</th>\n      <td>3.294400e+04</td>\n      <td>642.00000</td>\n    </tr>\n    <tr>\n      <th>25%</th>\n      <td>2.329922e+05</td>\n      <td>2014.50000</td>\n    </tr>\n    <tr>\n      <th>50%</th>\n      <td>6.223165e+05</td>\n      <td>3324.50000</td>\n    </tr>\n    <tr>\n      <th>75%</th>\n      <td>2.054852e+06</td>\n      <td>7137.50000</td>\n    </tr>\n    <tr>\n      <th>max</th>\n      <td>2.770686e+07</td>\n      <td>25900.00000</td>\n    </tr>\n  </tbody>\n</table>\n</div>"
     },
     "metadata": {}
    }
   ]
  },
  {
   "cell_type": "code",
   "metadata": {
    "cell_id": "94ae348339794aeda6cc327cf124d234",
    "tags": [],
    "deepnote_to_be_reexecuted": false,
    "source_hash": "b623e53d",
    "execution_start": 1648716101085,
    "execution_millis": 1,
    "deepnote_cell_type": "code",
    "deepnote_cell_height": 81
   },
   "source": "",
   "execution_count": null,
   "outputs": []
  },
  {
   "cell_type": "markdown",
   "source": "## ",
   "metadata": {
    "cell_id": "9f14b5482bfe40958e2be7549776ec4a",
    "tags": [],
    "is_collapsed": false,
    "deepnote_cell_type": "text-cell-h2"
   }
  },
  {
   "cell_type": "markdown",
   "source": "",
   "metadata": {
    "cell_id": "8399fb1fac60454cbda683f0727fc71b",
    "tags": [],
    "deepnote_cell_type": "markdown",
    "deepnote_cell_height": 46
   }
  },
  {
   "cell_type": "markdown",
   "source": "<a style='text-decoration:none;line-height:16px;display:flex;color:#5B5B62;padding:10px;justify-content:end;' href='https://deepnote.com?utm_source=created-in-deepnote-cell&projectId=932aa97b-f6d2-4889-8f04-d6166675cc2f' target=\"_blank\">\n<img alt='Created in deepnote.com' style='display:inline;max-height:16px;margin:0px;margin-right:7.5px;' src='data:image/svg+xml;base64,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' > </img>\nCreated in <span style='font-weight:600;margin-left:4px;'>Deepnote</span></a>",
   "metadata": {
    "tags": [],
    "created_in_deepnote_cell": true,
    "deepnote_cell_type": "markdown"
   }
  }
 ],
 "nbformat": 4,
 "nbformat_minor": 2,
 "metadata": {
  "orig_nbformat": 2,
  "deepnote": {
   "is_reactive": false
  },
  "deepnote_notebook_id": "00f5eedf-4f84-4ff7-9242-d5dc96d64ddb",
  "deepnote_execution_queue": []
 }
}