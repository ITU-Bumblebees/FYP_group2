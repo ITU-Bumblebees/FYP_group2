{
 "cells": [
  {
   "cell_type": "code",
   "execution_count": 1,
   "metadata": {
    "cell_id": "f371e8b9-43d2-40e5-8473-1d3fb793816a",
    "deepnote_cell_height": 225,
    "deepnote_cell_type": "code",
    "deepnote_to_be_reexecuted": false,
    "execution_millis": 42,
    "execution_start": 1649321323413,
    "source_hash": "41aec9e7",
    "tags": []
   },
   "outputs": [],
   "source": [
    "#load in the data\n",
    "#split data into training and validation data\n",
    "#use training data to run different evaluation\n",
    "#evaluate performance on validation data\n",
    "#different classifiers could be: knearestneighbors (with different neighbors, decisiontreeclasifier)\n",
    "#analyse results by comparing classifiers on different metrics, inspecting images that are classifies incorrectly etc\n",
    "#select best classifier (by which rules should we select)\n",
    "#create python script that takes an image, measures the features, classifies the image\n",
    "#and gives its probability of being a melanoma (range from 0 to 1)"
   ]
  },
  {
   "cell_type": "markdown",
   "metadata": {
    "cell_id": "e9e617954d454ebbb91e29c37fe84f17",
    "deepnote_cell_height": 222,
    "deepnote_cell_type": "markdown",
    "tags": []
   },
   "source": [
    "## Features\n",
    "\n",
    "* Perimeter\n",
    "* Area\n",
    "* Compactness\n",
    "* Asymmetry\n",
    "* !color"
   ]
  },
  {
   "cell_type": "code",
   "execution_count": 2,
   "metadata": {
    "cell_id": "1fbb2120443e41a7886d5f07c06ad5f4",
    "deepnote_cell_height": 315,
    "deepnote_cell_type": "code",
    "deepnote_to_be_reexecuted": false,
    "execution_millis": 3410,
    "execution_start": 1649321323455,
    "source_hash": "fbbc904b",
    "tags": []
   },
   "outputs": [],
   "source": [
    "import matplotlib.pyplot as plt\n",
    "import numpy as np\n",
    "import pandas as pd\n",
    "import Config\n",
    "from PIL import Image \n",
    "import os, Config\n",
    "from skimage import morphology\n",
    "from statsmodels.robust import mad\n",
    "import seaborn as sns\n",
    "from sklearn.model_selection import train_test_split\n",
    "from sklearn.neighbors import KNeighborsClassifier\n",
    "from sklearn.tree import DecisionTreeClassifier\n",
    "from sklearn.naive_bayes import GaussianNB\n",
    "from sklearn.metrics import roc_auc_score, accuracy_score"
   ]
  },
  {
   "cell_type": "code",
   "execution_count": 3,
   "metadata": {
    "cell_id": "5b5fe856f14e4f4c98da8ce907751b58",
    "deepnote_cell_height": 153,
    "deepnote_cell_type": "code",
    "deepnote_to_be_reexecuted": false,
    "execution_millis": 10,
    "execution_start": 1649321326877,
    "source_hash": "2f7406a1",
    "tags": []
   },
   "outputs": [],
   "source": [
    "def load_picture(iid):\n",
    "    path_mask = '../data/example_segmentation'\n",
    "    file_mask = path_mask + os.sep + image_id[iid] + '_segmentation.png'\n",
    "    picture = Image.open(file_mask)\n",
    "    return picture"
   ]
  },
  {
   "cell_type": "code",
   "execution_count": 4,
   "metadata": {
    "cell_id": "c089d943d601481b867586cb7df50aa5",
    "deepnote_cell_height": 1755,
    "deepnote_cell_type": "code",
    "deepnote_to_be_reexecuted": false,
    "execution_millis": 0,
    "execution_start": 1649322617469,
    "source_hash": "116bbae7",
    "tags": []
   },
   "outputs": [],
   "source": [
    "class Picture:\n",
    "    def __init__(self, img, img_bw):\n",
    "        self.img = img\n",
    "        self.img_bw = self.cut_image(img_bw)\n",
    "\n",
    "    #ASYMMETRY\n",
    "    def cut_image(self, picture):\n",
    "        picture = picture.crop(picture.getbbox())\n",
    "        \n",
    "        width, height = picture.size\n",
    "        image = np.array(picture)\n",
    "        \n",
    "        if width %2 != 0:\n",
    "            image = np.delete(image, -1, 1)\n",
    "\n",
    "        if height %2 != 0:\n",
    "            image = np.delete(image, -1, 0)\n",
    "\n",
    "        image = Image.fromarray(image)\n",
    "\n",
    "        return image\n",
    "\n",
    "    def _asymmetry(self, rot_img):\n",
    "        ''' get the asymmetry between the left and right part of a given binary mask '''\n",
    "        width, height = rot_img.size #mask should be quadratic and therefore have equal dimension\n",
    "        size = width * height\n",
    "\n",
    "        #check for uneven number of pixels (should not happen but just as a precaution)\n",
    "        if width %2 != 0:\n",
    "            raise TypeError(\"Uneven number of pixel and cannot be symmetric\")\n",
    "        \n",
    "        #cut in half and fold\n",
    "        left = rot_img.crop((0, 0, (width/2), height)) #left part of picture (left, top, right, bottom)\n",
    "        right = rot_img.crop(((width/2), 0, width, height)) #right part of picture\n",
    "        right = right.transpose(Image.FLIP_LEFT_RIGHT) #flip right part to compare\n",
    "\n",
    "        #get the binary difference between left an right\n",
    "        symmetry = np.where(np.array(left) != np.array(right), 1, 0)\n",
    "\n",
    "        return np.sum(symmetry) / (size/2) #the percentage of asymmetry \n",
    "    \n",
    "    def get_asymmetry(self):\n",
    "        ''' get the asymmetry for a given mask by folding it in half from multiple angles'''\n",
    "        return round(np.mean([self._asymmetry(self.img_bw), self._asymmetry(self.img_bw.rotate(30, expand= True)),self._asymmetry(self.img_bw.rotate(60, expand= True)),self._asymmetry(self.img_bw.rotate(90, expand= True))]),2)\n",
    "\n",
    "    #BORDER\n",
    "    def measure_area_perimeter(self): #Stolen from Veronika's github\n",
    "    # Measure area: the sum of all white pixels in the mask image\n",
    "        mask = np.where(np.array(self.img_bw)==255, 1, 0)\n",
    "        area = np.sum(mask)\n",
    "\n",
    "        # Measure perimeter: first find which pixels belong to the perimeter.\n",
    "        struct_el = morphology.disk(1)\n",
    "        mask_eroded = morphology.binary_erosion(mask, struct_el)\n",
    "        image_perimeter = mask - mask_eroded\n",
    "\n",
    "        # Now we have the perimeter image, the sum of all white pixels in it\n",
    "        perimeter = np.sum(image_perimeter)\n",
    "\n",
    "        return area, perimeter\n",
    "\n",
    "    def get_compactness(self):\n",
    "        ''' Computes and returns the compactness of a figure '''\n",
    "        area, perimeter = self.measure_area_perimeter()\n",
    "        return round(4*np.pi*area / perimeter ** 2, 4)\n",
    "\n",
    "\n",
    "    #COLOR\n",
    "    def get_color_variability(self):\n",
    "        '''\n",
    "            Assigns a color variability score\n",
    "        '''\n",
    "        if self._check_variability() < 20: \n",
    "            return 0 \n",
    "        elif self._check_variability() < 50: \n",
    "            return 1\n",
    "        else: \n",
    "            return 2\n",
    "\n",
    "    def _check_variability(self):\n",
    "        '''\n",
    "            Returns a mean of the median absolute deviation of each color (rgb)\n",
    "        '''\n",
    "        self.img[self.img_bw==0] = 0\n",
    "        \n",
    "        #we then calculate the mad of each dimension \n",
    "        r, g, b = self.img[:,:,0], self.img[:,:,1], self.img[:,:,2]\n",
    "        mad_r= mad(r[np.where(r != 0)])\n",
    "        mad_g= mad(g[np.where(g != 0)])\n",
    "        mad_b= mad(b[np.where(b != 0)])\n",
    "        mad_result= [mad_r,mad_g,mad_b]\n",
    "\n",
    "        #calculating the mean\n",
    "        return np.mean(mad_result)"
   ]
  },
  {
   "cell_type": "code",
   "execution_count": 5,
   "metadata": {
    "cell_id": "fa907fd376584ff1918a2d41aca4906a",
    "deepnote_cell_height": 243,
    "deepnote_cell_type": "code",
    "deepnote_to_be_reexecuted": false,
    "execution_millis": 0,
    "execution_start": 1649322618015,
    "source_hash": "c484665a",
    "tags": []
   },
   "outputs": [],
   "source": [
    "def get_row(pict, pic):  \n",
    "    assym = pict.get_asymmetry()\n",
    "    comp = pict.get_compactness()\n",
    "    color = pict.get_color_variability()\n",
    "\n",
    "    melanoma = groundtruth[groundtruth['image_id'] == pic]['melanoma'].iloc[0]\n",
    "\n",
    "    return pd.DataFrame([[pic, assym, comp, color, melanoma]], \n",
    "                        columns=['ISIC', 'Asymmetry', 'Compactness', 'Color', 'Melanoma'])\n"
   ]
  },
  {
   "cell_type": "code",
   "execution_count": 10,
   "metadata": {
    "cell_id": "e22034dc29504dfa9e026ac22c9b5167",
    "deepnote_cell_height": 1971,
    "deepnote_cell_type": "code",
    "deepnote_to_be_reexecuted": false,
    "execution_millis": 2,
    "execution_start": 1649322938471,
    "source_hash": "b048606",
    "tags": []
   },
   "outputs": [],
   "source": [
    "def train_evaluate_classifiers(df, n: int):\n",
    "    testies = df\n",
    "\n",
    "    X = testies[[\"Asymmetry\", \"Compactness\",\"Color\"]]\n",
    "    y = testies[\"Melanoma\"]\n",
    "\n",
    "\n",
    "    all_acc = {knn1 : [], knn3: [], tree: [], gauss: []}\n",
    "    all_roc = {knn1: [], knn3: [], tree: [], gauss: []}\n",
    "\n",
    "    for _ in range(n):\n",
    "        #split data set into a train, test and valification set\n",
    "        X_dev, X_test, y_dev, y_test = train_test_split(\n",
    "            X, y, test_size= 0.3, stratify=y, random_state=0)\n",
    "\n",
    "        #X_dev, X_test, y_dev, y_test = train_test_split(\n",
    "        #X, y, stratify=y, random_state=0)\n",
    "\n",
    "        X_train, X_val, y_train, y_val = train_test_split(\n",
    "            X_dev, y_dev, test_size= 0.5, stratify=y_dev)\n",
    "\n",
    "        #X_train, X_val, y_train, y_val = train_test_split(\n",
    "        #    X_dev, y_dev, stratify=y_dev)\n",
    "\n",
    "        #train a classifier\n",
    "        knn1 = KNeighborsClassifier(n_neighbors=1)\n",
    "        knn1trained = knn1.fit(X_train, y_train)\n",
    "\n",
    "        knn3 = KNeighborsClassifier(n_neighbors=3)\n",
    "        knn3trained = knn3.fit(X_train, y_train)\n",
    "\n",
    "        loglen = int(np.log(len(df['Melanoma'])))\n",
    "        knnlog = KNeighborsClassifier(n_neighbors=loglen)\n",
    "        knnlogtrained = knnlog.fit(X_train, y_train)\n",
    "\n",
    "        tree = DecisionTreeClassifier()\n",
    "        treetrained = tree.fit(X_train, y_train)\n",
    "\n",
    "        gauss = GaussianNB()\n",
    "        gausstrained = gauss.fit(X_test, y_test)\n",
    "\n",
    "        #evaluate the classifiers\n",
    "        y_val_knn1 = knn1trained.predict(X_val)\n",
    "        y_val_knn3 = knn3trained.predict(X_val)\n",
    "        y_val_knnlog = knnlogtrained.predict(X_val)\n",
    "        y_val_tree = treetrained.predict(X_val)\n",
    "        y_val_gauss = gausstrained.predict(X_val)\n",
    "\n",
    "        #for classifier in (knn1, knn3, tree, gauus):\n",
    "        #    acc = \n",
    "\n",
    "\n",
    "\n",
    "        '''\n",
    "        for i in range(1,7):\n",
    "            knn = KNeighborsClassifier(n_neighbors= i)\n",
    "            knntrained = knn.fit(X_train, y_train)\n",
    "            if i == 4:\n",
    "                k4 = knntrained\n",
    "            y_val_knn = knntrained.predict(X_val)\n",
    "            acc = accuracy_score(y_val, y_val_knn)\n",
    "            roc = roc_auc_score(y_val, y_val_knn)\n",
    "            all_acc.append(acc)\n",
    "            all_roc.append(roc)\n",
    "\n",
    "        sns.set()\n",
    "        fig, ax = plt.subplots(figsize = (10,5))\n",
    "\n",
    "        ax1 = ax.plot(range(1,7), all_acc, label=\"accuracy score\", color = \"#f0a073\")\n",
    "        twin = ax.twinx()\n",
    "        ax2 = twin.plot(range(1,7), all_roc, label = \"roc auc score\", color = \"#9a9d70\")\n",
    "\n",
    "\n",
    "        axes = ax1+ax2\n",
    "        labs = [l.get_label() for l in axes]\n",
    "        ax.legend(axes, labs, loc=0)\n",
    "\n",
    "        ax.set_ylabel(\"Accuracy score\")\n",
    "        twin.set_ylabel(\"ROC AUC score\")\n",
    "        ax.set_xlabel(\"Number of Neighbors in KNN model\")\n",
    "\n",
    "\n",
    "        print(\"Accuracy (using numpy)\")\n",
    "        print(f\"knn 1: {np.sum(y_val_knn1 == y_val)/ np.size(y_val)*100}\")\n",
    "        print(f\"knn 3: {np.sum(y_val_knn3 == y_val)/ np.size(y_val)*100}\")\n",
    "        print(f\"knn log: {np.sum(y_val_knnlog == y_val)/ np.size(y_val)*100}\")\n",
    "        print(f\"tree: {np.sum(y_val_tree == y_val)/ np.size(y_val)*100}\")\n",
    "        print(f\"gauss: {np.sum(y_val_gauss == y_val)/ np.size(y_val)*100}\")\n",
    "        '''\n",
    "\n",
    "        print(\"Accuracy score\")\n",
    "        print(f\"knn 1: {accuracy_score(y_val,y_val_knn1)}\")\n",
    "        print(f\"knn 3: {accuracy_score(y_val,y_val_knn3)}\")\n",
    "        print(f\"knn log: {accuracy_score(y_val,y_val_knnlog)}\")\n",
    "        print(f\"tree: {accuracy_score(y_val,y_val_tree)}\")\n",
    "        print(f\"gauss: {accuracy_score(y_val,y_val_gauss)}\")\n",
    "\n",
    "        print(\"roc auc score\")\n",
    "        print(f\"knn1: {roc_auc_score(y_val, y_val_knn1)}\")\n",
    "        print(f\"knn3: {roc_auc_score(y_val, y_val_knn3)}\")\n",
    "        print(f\"knnlog: {roc_auc_score(y_val, y_val_knnlog)}\")\n",
    "        print(f\"tree: {roc_auc_score(y_val, y_val_tree)}\")\n",
    "        print(f\"gauss: {roc_auc_score(y_val, y_val_gauss)}\")\n",
    "\n",
    "    \n"
   ]
  },
  {
   "cell_type": "markdown",
   "metadata": {
    "cell_id": "9d276ffec5544cfab41e50b4a3bf9229",
    "deepnote_cell_height": 190,
    "deepnote_cell_type": "markdown",
    "tags": []
   },
   "source": [
    "    > Load the CSV with ISIC names and \"ground truth\"\n",
    "    > Start adding features to the data frame\n",
    "    > Split the data frame into testing and training - start training\n",
    "    > Train a classifier\n",
    "        - Nearest neighbour with k neighbours\n",
    "        - Decision tree\n",
    "        - Bayes classifier\n",
    "    "
   ]
  },
  {
   "cell_type": "code",
   "execution_count": 11,
   "metadata": {
    "cell_id": "5da5e2be02da4bbebd48babf78ef7164",
    "deepnote_cell_height": 81,
    "deepnote_cell_type": "code",
    "deepnote_to_be_reexecuted": false,
    "execution_millis": 7,
    "execution_start": 1649322621702,
    "source_hash": "2e77069b",
    "tags": []
   },
   "outputs": [],
   "source": [
    "groundtruth = pd.read_csv(Config.example_ground_truth_path)"
   ]
  },
  {
   "cell_type": "code",
   "execution_count": 12,
   "metadata": {
    "cell_id": "1f404f7d29b84c45882186c4e5b6a90e",
    "deepnote_cell_height": 441,
    "deepnote_cell_type": "code",
    "deepnote_output_heights": [
     78
    ],
    "deepnote_to_be_reexecuted": false,
    "execution_millis": 5,
    "execution_start": 1649322941821,
    "source_hash": "b3b78d31",
    "tags": []
   },
   "outputs": [],
   "source": [
    "def main():\n",
    "    image_names = [ID for ID in groundtruth['image_id']]\n",
    "    '''  features_df = pd.DataFrame(columns=['ISIC', 'Asymmetry', 'Compactness', 'Color', 'Melanoma'])#, index=range(50))\n",
    "    for pic in image_names:\n",
    "        img_bw = Image.open(Config.mask_path + os.sep + pic + '_segmentation.png') # open mask image\n",
    "\n",
    "        img = plt.imread(Config.images_path + os.sep + pic + '.jpg') # open image\n",
    "        pict = Picture(img = img, img_bw = img_bw)\n",
    "        tempdf = get_row(pict, pic)\n",
    "        features_df = pd.concat([features_df, tempdf], axis=0, ignore_index=True)'''\n",
    "    features_df = pd.read_csv ('file_features.csv')\n",
    "\n",
    "    all_acc = {knn1 : [], knn3: [], tree: [], gauss: []}\n",
    "    all_roc = {knn1: [], knn3: [], tree: [], gauss: []}\n",
    "\n",
    "\n",
    "    train_evaluate_classifiers(features_df, n=10)\n",
    "\n",
    "\n",
    "\n"
   ]
  },
  {
   "cell_type": "code",
   "execution_count": 13,
   "metadata": {
    "cell_id": "685af212a27845c3ba2bc0b02ed1999b",
    "deepnote_cell_height": 3929,
    "deepnote_cell_type": "code",
    "deepnote_output_heights": [
     null,
     324,
     324,
     324,
     324,
     324,
     324,
     324,
     326,
     324,
     326
    ],
    "deepnote_to_be_reexecuted": false,
    "execution_millis": 878,
    "execution_start": 1649322942484,
    "source_hash": "286a4539",
    "tags": []
   },
   "outputs": [
    {
     "ename": "NameError",
     "evalue": "name 'knn1' is not defined",
     "output_type": "error",
     "traceback": [
      "\u001b[0;31m---------------------------------------------------------------------------\u001b[0m",
      "\u001b[0;31mNameError\u001b[0m                                 Traceback (most recent call last)",
      "\u001b[0;32m/var/folders/z8/wd7qc7cs1wd8pr3h4y_6lxxw0000gn/T/ipykernel_13021/451043146.py\u001b[0m in \u001b[0;36m<module>\u001b[0;34m\u001b[0m\n\u001b[0;32m----> 1\u001b[0;31m \u001b[0mmain\u001b[0m\u001b[0;34m(\u001b[0m\u001b[0;34m)\u001b[0m\u001b[0;34m\u001b[0m\u001b[0;34m\u001b[0m\u001b[0m\n\u001b[0m",
      "\u001b[0;32m/var/folders/z8/wd7qc7cs1wd8pr3h4y_6lxxw0000gn/T/ipykernel_13021/1855694446.py\u001b[0m in \u001b[0;36mmain\u001b[0;34m()\u001b[0m\n\u001b[1;32m     11\u001b[0m     \u001b[0mfeatures_df\u001b[0m \u001b[0;34m=\u001b[0m \u001b[0mpd\u001b[0m\u001b[0;34m.\u001b[0m\u001b[0mread_csv\u001b[0m \u001b[0;34m(\u001b[0m\u001b[0;34m'file_features.csv'\u001b[0m\u001b[0;34m)\u001b[0m\u001b[0;34m\u001b[0m\u001b[0;34m\u001b[0m\u001b[0m\n\u001b[1;32m     12\u001b[0m \u001b[0;34m\u001b[0m\u001b[0m\n\u001b[0;32m---> 13\u001b[0;31m     \u001b[0mall_acc\u001b[0m \u001b[0;34m=\u001b[0m \u001b[0;34m{\u001b[0m\u001b[0mknn1\u001b[0m \u001b[0;34m:\u001b[0m \u001b[0;34m[\u001b[0m\u001b[0;34m]\u001b[0m\u001b[0;34m,\u001b[0m \u001b[0mknn3\u001b[0m\u001b[0;34m:\u001b[0m \u001b[0;34m[\u001b[0m\u001b[0;34m]\u001b[0m\u001b[0;34m,\u001b[0m \u001b[0mtree\u001b[0m\u001b[0;34m:\u001b[0m \u001b[0;34m[\u001b[0m\u001b[0;34m]\u001b[0m\u001b[0;34m,\u001b[0m \u001b[0mgauss\u001b[0m\u001b[0;34m:\u001b[0m \u001b[0;34m[\u001b[0m\u001b[0;34m]\u001b[0m\u001b[0;34m}\u001b[0m\u001b[0;34m\u001b[0m\u001b[0;34m\u001b[0m\u001b[0m\n\u001b[0m\u001b[1;32m     14\u001b[0m     \u001b[0mall_roc\u001b[0m \u001b[0;34m=\u001b[0m \u001b[0;34m{\u001b[0m\u001b[0mknn1\u001b[0m\u001b[0;34m:\u001b[0m \u001b[0;34m[\u001b[0m\u001b[0;34m]\u001b[0m\u001b[0;34m,\u001b[0m \u001b[0mknn3\u001b[0m\u001b[0;34m:\u001b[0m \u001b[0;34m[\u001b[0m\u001b[0;34m]\u001b[0m\u001b[0;34m,\u001b[0m \u001b[0mtree\u001b[0m\u001b[0;34m:\u001b[0m \u001b[0;34m[\u001b[0m\u001b[0;34m]\u001b[0m\u001b[0;34m,\u001b[0m \u001b[0mgauss\u001b[0m\u001b[0;34m:\u001b[0m \u001b[0;34m[\u001b[0m\u001b[0;34m]\u001b[0m\u001b[0;34m}\u001b[0m\u001b[0;34m\u001b[0m\u001b[0;34m\u001b[0m\u001b[0m\n\u001b[1;32m     15\u001b[0m \u001b[0;34m\u001b[0m\u001b[0m\n",
      "\u001b[0;31mNameError\u001b[0m: name 'knn1' is not defined"
     ]
    }
   ],
   "source": [
    "main()"
   ]
  },
  {
   "cell_type": "code",
   "execution_count": null,
   "metadata": {
    "cell_id": "256e9dd7085647039affdb8a53a1ee65",
    "deepnote_cell_height": 857,
    "deepnote_cell_type": "code",
    "deepnote_output_heights": [
     572
    ],
    "deepnote_to_be_reexecuted": false,
    "execution_millis": 175582,
    "execution_start": 1649322704930,
    "source_hash": "33bde595",
    "tags": []
   },
   "outputs": [],
   "source": [
    "image_names = [ID for ID in groundtruth['image_id']]\n",
    "features_df = pd.DataFrame()\n",
    "for pic in image_names:\n",
    "    img_bw = Image.open(Config.mask_path + os.sep + pic + '_segmentation.png') # open mask image\n",
    "    img = plt.imread(Config.images_path + os.sep + pic + '.jpg') # open image\n",
    "    pict = Picture(img = img, img_bw = img_bw)\n",
    "    tempdf = get_row(pict, pic)\n",
    "    features_df = pd.concat([features_df, tempdf], axis=0, ignore_index=True)"
   ]
  },
  {
   "cell_type": "code",
   "execution_count": null,
   "metadata": {
    "cell_id": "506dd829ad1d433ba355bac0299eba0b",
    "deepnote_cell_height": 152,
    "deepnote_cell_type": "code",
    "deepnote_to_be_reexecuted": false,
    "execution_millis": 25,
    "execution_start": 1649321777615,
    "source_hash": "49b00fee",
    "tags": []
   },
   "outputs": [],
   "source": [
    "train_evaluate_classifiers(features_df)"
   ]
  },
  {
   "cell_type": "code",
   "execution_count": null,
   "metadata": {
    "cell_id": "cb70bdc9eafb4d89beff1d28f00a4e00",
    "deepnote_cell_height": 81,
    "deepnote_cell_type": "code",
    "deepnote_output_heights": [
     21
    ],
    "deepnote_to_be_reexecuted": false,
    "execution_millis": 161374672,
    "execution_start": 1649321777642,
    "source_hash": "8ae26883",
    "tags": []
   },
   "outputs": [],
   "source": [
    "# tfeatures_df.empty"
   ]
  },
  {
   "cell_type": "code",
   "execution_count": null,
   "metadata": {
    "cell_id": "5985fbb5dd6f42ce92990d7801c36b75",
    "deepnote_cell_height": 306,
    "deepnote_cell_type": "code",
    "deepnote_to_be_reexecuted": false,
    "execution_millis": 1589,
    "execution_start": 1649321777686,
    "source_hash": "6345cd6c",
    "tags": []
   },
   "outputs": [],
   "source": [
    "pic = 'ISIC_0001852'\n",
    "img = plt.imread(Config.images_path + os.sep + pic + '.jpg')\n",
    "img_bw = Image.open(Config.mask_path + os.sep + pic + '_segmentation.png')\n",
    "pict = Picture(img, img_bw)\n",
    "\n",
    "tempdf = get_row(pict, pic)\n",
    "\n",
    "prediction = knntrained.predict(tempdf[['Asymmetry', 'Compactness', 'Color']])\n",
    "\n",
    "print(prediction)"
   ]
  },
  {
   "cell_type": "code",
   "execution_count": null,
   "metadata": {
    "cell_id": "675a1a07f35c4d0c983468ad169c12da",
    "deepnote_cell_height": 118,
    "deepnote_cell_type": "code",
    "deepnote_output_heights": [
     21
    ],
    "deepnote_to_be_reexecuted": true,
    "execution_millis": 13,
    "execution_start": 1649152680340,
    "source_hash": "65c23baa",
    "tags": []
   },
   "outputs": [],
   "source": [
    "KNeighborsClassifier"
   ]
  },
  {
   "cell_type": "code",
   "execution_count": null,
   "metadata": {
    "cell_id": "2c145c36d6604156b06d24ec1a0f9b7a",
    "deepnote_cell_height": 423,
    "deepnote_cell_type": "code",
    "deepnote_to_be_reexecuted": true,
    "execution_millis": 64,
    "execution_start": 1649088694133,
    "source_hash": "4782470f",
    "tags": []
   },
   "outputs": [],
   "source": [
    "df = pd.DataFrame(columns=['ISIC', 'Asymmetry', 'Compactness', 'Color', 'Melanoma'], index=['im'])\n",
    "df2 = pd.DataFrame(\n",
    "        [[1, 2, 3, 4, 5]], \n",
    "        columns=['ISIC', 'Asymmetry', 'Compactness', 'Color', 'Melanoma'], index=['ig'])\n",
    "\n",
    "df.append(df2)\n",
    "\n",
    "df"
   ]
  },
  {
   "cell_type": "code",
   "execution_count": null,
   "metadata": {
    "cell_id": "3c77ebdb2e294c0f9af934f914afeb5e",
    "deepnote_cell_height": 362,
    "deepnote_cell_type": "code",
    "deepnote_table_loading": false,
    "deepnote_table_state": {
     "filters": [],
     "pageIndex": 0,
     "pageSize": 25,
     "sortBy": []
    },
    "deepnote_to_be_reexecuted": true,
    "execution_millis": 56,
    "execution_start": 1649088733732,
    "source_hash": "3b6dd96c",
    "tags": []
   },
   "outputs": [],
   "source": [
    "df = pd.DataFrame([[1, 2], [3, 4]], columns=list('AB'), index=['x', 'y'])\n",
    "\n",
    "df2 = pd.DataFrame([[5, 6], [7, 8]], columns=list('AB'), index=['x', 'y'])\n",
    "df.append(df2)\n",
    "\n",
    "df"
   ]
  },
  {
   "cell_type": "code",
   "execution_count": null,
   "metadata": {
    "cell_id": "7a19bee603f44bc2a512272225d929cc",
    "deepnote_cell_height": 81,
    "deepnote_cell_type": "code",
    "deepnote_to_be_reexecuted": true,
    "source_hash": "b623e53d",
    "tags": []
   },
   "outputs": [],
   "source": []
  },
  {
   "cell_type": "markdown",
   "metadata": {
    "created_in_deepnote_cell": true,
    "deepnote_cell_type": "markdown",
    "tags": []
   },
   "source": [
    "<a style='text-decoration:none;line-height:16px;display:flex;color:#5B5B62;padding:10px;justify-content:end;' href='https://deepnote.com?utm_source=created-in-deepnote-cell&projectId=932aa97b-f6d2-4889-8f04-d6166675cc2f' target=\"_blank\">\n",
    "<img alt='Created in deepnote.com' style='display:inline;max-height:16px;margin:0px;margin-right:7.5px;' src='data:image/svg+xml;base64,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' > </img>\n",
    "Created in <span style='font-weight:600;margin-left:4px;'>Deepnote</span></a>"
   ]
  },
  {
   "cell_type": "code",
   "execution_count": null,
   "metadata": {},
   "outputs": [],
   "source": []
  }
 ],
 "metadata": {
  "deepnote": {
   "is_reactive": false
  },
  "deepnote_execution_queue": [],
  "deepnote_notebook_id": "96a06088-7956-4476-b86c-c3ba1b9f6d28",
  "kernelspec": {
   "display_name": "Python 3 (ipykernel)",
   "language": "python",
   "name": "python3"
  },
  "language_info": {
   "codemirror_mode": {
    "name": "ipython",
    "version": 3
   },
   "file_extension": ".py",
   "mimetype": "text/x-python",
   "name": "python",
   "nbconvert_exporter": "python",
   "pygments_lexer": "ipython3",
   "version": "3.9.7"
  }
 },
 "nbformat": 4,
 "nbformat_minor": 2
}
