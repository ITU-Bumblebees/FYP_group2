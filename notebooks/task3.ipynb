{
 "cells": [
  {
   "cell_type": "code",
   "metadata": {
    "tags": [],
    "cell_id": "f371e8b9-43d2-40e5-8473-1d3fb793816a",
    "deepnote_to_be_reexecuted": false,
    "source_hash": "41aec9e7",
    "execution_start": 1649159026340,
    "execution_millis": 6199416,
    "deepnote_cell_type": "code",
    "deepnote_cell_height": 225
   },
   "source": "#load in the data\n#split data into training and validation data\n#use training data to run different evaluation\n#evaluate performance on validation data\n#different classifiers could be: knearestneighbors (with different neighbors, decisiontreeclasifier)\n#analyse results by comparing classifiers on different metrics, inspecting images that are classifies incorrectly etc\n#select best classifier (by which rules should we select)\n#create python script that takes an image, measures the features, classifies the image\n#and gives its probability of being a melanoma (range from 0 to 1)",
   "execution_count": null,
   "outputs": []
  },
  {
   "cell_type": "markdown",
   "source": "## Features\n\n* Perimeter\n* Area\n* Compactness\n* Asymmetry\n* !color",
   "metadata": {
    "cell_id": "e9e617954d454ebbb91e29c37fe84f17",
    "tags": [],
    "deepnote_cell_type": "markdown",
    "deepnote_cell_height": 224
   }
  },
  {
   "cell_type": "code",
   "metadata": {
    "cell_id": "1fbb2120443e41a7886d5f07c06ad5f4",
    "tags": [],
    "deepnote_to_be_reexecuted": false,
    "source_hash": "fbbc904b",
    "execution_start": 1649159026341,
    "execution_millis": 2108,
    "deepnote_cell_type": "code",
    "deepnote_cell_height": 315
   },
   "source": "import matplotlib.pyplot as plt\nimport numpy as np\nimport pandas as pd\nimport Config\nfrom PIL import Image \nimport os, Config\nfrom skimage import morphology\nfrom statsmodels.robust import mad\nimport seaborn as sns\nfrom sklearn.model_selection import train_test_split\nfrom sklearn.neighbors import KNeighborsClassifier\nfrom sklearn.tree import DecisionTreeClassifier\nfrom sklearn.naive_bayes import GaussianNB\nfrom sklearn.metrics import roc_auc_score, accuracy_score",
   "execution_count": null,
   "outputs": []
  },
  {
   "cell_type": "code",
   "metadata": {
    "cell_id": "5b5fe856f14e4f4c98da8ce907751b58",
    "tags": [],
    "deepnote_to_be_reexecuted": false,
    "source_hash": "2f7406a1",
    "execution_start": 1649159028457,
    "execution_millis": 1,
    "deepnote_cell_type": "code",
    "deepnote_cell_height": 153
   },
   "source": "def load_picture(iid):\n    path_mask = '../data/example_segmentation'\n    file_mask = path_mask + os.sep + image_id[iid] + '_segmentation.png'\n    picture = Image.open(file_mask)\n    return picture",
   "execution_count": null,
   "outputs": []
  },
  {
   "cell_type": "code",
   "metadata": {
    "cell_id": "c089d943d601481b867586cb7df50aa5",
    "tags": [],
    "deepnote_to_be_reexecuted": false,
    "source_hash": "9a8385c1",
    "execution_start": 1649159028462,
    "execution_millis": 15,
    "deepnote_cell_type": "code",
    "deepnote_cell_height": 1719
   },
   "source": "class Picture:\n    def __init__(self, img, img_bw):\n        self.img = img\n        self.img_bw = self.cut_image(img_bw)\n\n    #ASYMMETRY\n    def cut_image(self, picture):\n        width, height = picture.size\n        image = np.array(picture)\n        \n        if width %2 != 0:\n            image = np.delete(image, -1, 1)\n\n        if height %2 != 0:\n            image = np.delete(image, -1, 0)\n\n        image = Image.fromarray(image)\n\n        return image\n\n    def _asymmetry(self, rot_img):\n        ''' get the asymmetry between the left and right part of a given binary mask '''\n        width, height = rot_img.size #mask should be quadratic and therefore have equal dimension\n        size = width * height\n\n        #check for uneven number of pixels (should not happen but just as a precaution)\n        if width %2 != 0:\n            raise TypeError(\"Uneven number of pixel and cannot be symmetric\")\n        \n        #cut in half and fold\n        left = rot_img.crop((0, 0, (width/2), height)) #left part of picture (left, top, right, bottom)\n        right = rot_img.crop(((width/2), 0, width, height)) #right part of picture\n        right = right.transpose(Image.FLIP_LEFT_RIGHT) #flip right part to compare\n\n        #get the binary difference between left an right\n        symmetry = np.where(np.array(left) != np.array(right), 1, 0)\n\n        return np.sum(symmetry) / (size/2) #the percentage of asymmetry \n    \n    def get_asymmetry(self):\n        ''' get the asymmetry for a given mask by folding it in half from multiple angles'''\n        return round(np.mean([self._asymmetry(self.img_bw), self._asymmetry(self.img_bw.rotate(30, expand= True)),self._asymmetry(self.img_bw.rotate(60, expand= True)),self._asymmetry(self.img_bw.rotate(90, expand= True))]),2)\n\n    #BORDER\n    def measure_area_perimeter(self): #Stolen from Veronika's github\n    # Measure area: the sum of all white pixels in the mask image\n        mask = np.where(np.array(self.img_bw)==255, 1, 0)\n        area = np.sum(mask)\n\n        # Measure perimeter: first find which pixels belong to the perimeter.\n        struct_el = morphology.disk(1)\n        mask_eroded = morphology.binary_erosion(mask, struct_el)\n        image_perimeter = mask - mask_eroded\n\n        # Now we have the perimeter image, the sum of all white pixels in it\n        perimeter = np.sum(image_perimeter)\n\n        return area, perimeter\n\n    def get_compactness(self):\n        ''' Computes and returns the compactness of a figure '''\n        area, perimeter = self.measure_area_perimeter()\n        return round(4*np.pi*area / perimeter ** 2, 4)\n\n\n    #COLOR\n    def get_color_variability(self):\n        '''\n            Assigns a color variability score\n        '''\n        if self._check_variability() < 20: \n            return 0 \n        elif self._check_variability() < 50: \n            return 1\n        else: \n            return 2\n\n    def _check_variability(self):\n        '''\n            Returns a mean of the median absolute deviation of each color (rgb)\n        '''\n        self.img[self.img_bw==0] = 0\n        \n        #we then calculate the mad of each dimension \n        r, g, b = self.img[:,:,0], self.img[:,:,1], self.img[:,:,2]\n        mad_r= mad(r[np.where(r != 0)])\n        mad_g= mad(g[np.where(g != 0)])\n        mad_b= mad(b[np.where(b != 0)])\n        mad_result= [mad_r,mad_g,mad_b]\n\n        #calculating the mean\n        return np.mean(mad_result)",
   "execution_count": null,
   "outputs": []
  },
  {
   "cell_type": "code",
   "metadata": {
    "cell_id": "fa907fd376584ff1918a2d41aca4906a",
    "tags": [],
    "deepnote_to_be_reexecuted": false,
    "source_hash": "39a67ec6",
    "execution_start": 1649159028500,
    "execution_millis": 0,
    "deepnote_cell_type": "code",
    "deepnote_cell_height": 243
   },
   "source": "def get_row(pict, pic):  \n    assym = pict.get_asymmetry()\n    comp = pict.get_compactness()\n    color = pict.get_color_variability()\n\n    melanoma = groundtruth[groundtruth['image_id'] == pic]['melanoma'].iloc[0]\n#    return assym, comp, color, melanoma\n    return pd.DataFrame([[pic, assym, comp, color, melanoma]], \n                        columns=['ISIC', 'Asymmetry', 'Compactness', 'Color', 'Melanoma'])\n",
   "execution_count": null,
   "outputs": []
  },
  {
   "cell_type": "code",
   "metadata": {
    "cell_id": "e22034dc29504dfa9e026ac22c9b5167",
    "tags": [],
    "deepnote_to_be_reexecuted": false,
    "source_hash": "d1c31851",
    "execution_start": 1649159028500,
    "execution_millis": 1,
    "deepnote_cell_type": "code",
    "deepnote_cell_height": 1845
   },
   "source": "def train_evaluate_classifiers(df):\n    testies = df\n\n    X = testies[[\"Asymmetry\", \"Compactness\",\"Color\"]]\n    y = testies[\"Melanoma\"]\n\n    #split data set into a train, test and valification set\n    #X_dev, X_test, y_dev, y_test = train_test_split(\n    #    X, y, test_size= 0.3, stratify=y, random_state=0)\n\n    X_dev, X_test, y_dev, y_test = train_test_split(\n    X, y, stratify=y, random_state=0)\n\n    #X_train, X_val, y_train, y_val = train_test_split(\n    #    X_dev, y_dev, test_size= 0.5, stratify=y_dev)\n\n    X_train, X_val, y_train, y_val = train_test_split(\n        X_dev, y_dev, stratify=y_dev)\n\n    #train a classifier\n    # knn1 = KNeighborsClassifier(n_neighbors=1)\n    # knn1trained = knn1.fit(X_train, y_train)\n\n    # knn3 = KNeighborsClassifier(n_neighbors=3)\n    # knn3trained = knn3.fit(X_train, y_train)\n\n    # loglen = int(np.log(len(df['Melanoma'])))\n    # knnlog = KNeighborsClassifier(n_neighbors=loglen)\n    # knnlogtrained = knnlog.fit(X_train, y_train)\n\n    # tree = DecisionTreeClassifier()\n    # treetrained = tree.fit(X_train, y_train)\n    \n    # gauss = GaussianNB()\n    # gausstrained = gauss.fit(X_test, y_test)\n\n    # #evaluate the classifiers\n    # y_val_knn1 = knn1trained.predict(X_val)\n    # y_val_knn3 = knn3trained.predict(X_val)\n    # y_val_knnlog = knnlogtrained.predict(X_val)\n    # y_val_tree = treetrained.predict(X_val)\n    # y_val_gauss = gausstrained.predict(X_val)\n\n    all_acc = []\n    all_roc = []\n\n    for i in range(1,7):\n        knn = KNeighborsClassifier(n_neighbors= i)\n        knntrained = knn.fit(X_train, y_train)\n        if i == 4:\n            k4 = knntrained\n        y_val_knn = knntrained.predict(X_val)\n        acc = accuracy_score(y_val, y_val_knn)\n        roc = roc_auc_score(y_val, y_val_knn)\n        all_acc.append(acc)\n        all_roc.append(roc)\n\n\n    sns.set()\n    fig, ax = plt.subplots(figsize = (10,5))\n    \n    ax1 = ax.plot(range(1,7), all_acc, label=\"accuracy score\", color = \"#f0a073\")\n    twin = ax.twinx()\n    ax2 = twin.plot(range(1,7), all_roc, label = \"roc auc score\", color = \"#9a9d70\")\n    \n\n    axes = ax1+ax2\n    labs = [l.get_label() for l in axes]\n    ax.legend(axes, labs, loc=0)\n\n    ax.set_ylabel(\"Accuracy score\")\n    twin.set_ylabel(\"ROC AUC score\")\n    ax.set_xlabel(\"Number of Neighbors in KNN model\")\n\n    return k4\n    \n    # print(\"Accuracy (using numpy)\")\n    # print(f\"knn 1: {np.sum(y_val_knn1 == y_val)/ np.size(y_val)*100}\")\n    # print(f\"knn 3: {np.sum(y_val_knn3 == y_val)/ np.size(y_val)*100}\")\n    # print(f\"knn log: {np.sum(y_val_knnlog == y_val)/ np.size(y_val)*100}\")\n    # print(f\"tree: {np.sum(y_val_tree == y_val)/ np.size(y_val)*100}\")\n    # print(f\"gauss: {np.sum(y_val_gauss == y_val)/ np.size(y_val)*100}\")\n\n    # print(\"Accuracy score\")\n    # print(f\"knn 1: {accuracy_score(y_val,y_val_knn1)}\")\n    # print(f\"knn 3: {accuracy_score(y_val,y_val_knn3)}\")\n    # print(f\"knn log: {accuracy_score(y_val,y_val_knnlog)}\")\n    # print(f\"tree: {accuracy_score(y_val,y_val_tree)}\")\n    # print(f\"gauss: {accuracy_score(y_val,y_val_gauss)}\")\n\n    # print(\"roc auc score\")\n    # print(f\"knn1: {roc_auc_score(y_val, y_val_knn1)}\")\n    # print(f\"knn3: {roc_auc_score(y_val, y_val_knn3)}\")\n    # print(f\"knnlog: {roc_auc_score(y_val, y_val_knnlog)}\")\n    # print(f\"tree: {roc_auc_score(y_val, y_val_tree)}\")\n    # print(f\"gauss: {roc_auc_score(y_val, y_val_gauss)}\")\n\n    \n",
   "execution_count": null,
   "outputs": []
  },
  {
   "cell_type": "markdown",
   "source": "    > Load the CSV with ISIC names and \"ground truth\"\n    > Start adding features to the data frame\n    > Split the data frame into testing and training - start training\n    > Train a classifier\n        - Nearest neighbour with k neighbours\n        - Decision tree\n        - Bayes classifier\n    ",
   "metadata": {
    "cell_id": "9d276ffec5544cfab41e50b4a3bf9229",
    "tags": [],
    "deepnote_cell_type": "markdown",
    "deepnote_cell_height": 195.59375
   }
  },
  {
   "cell_type": "code",
   "metadata": {
    "cell_id": "5da5e2be02da4bbebd48babf78ef7164",
    "tags": [],
    "deepnote_to_be_reexecuted": false,
    "source_hash": "2e77069b",
    "execution_start": 1649159028502,
    "execution_millis": 4,
    "deepnote_cell_type": "code",
    "deepnote_cell_height": 81
   },
   "source": "groundtruth = pd.read_csv(Config.example_ground_truth_path)",
   "execution_count": null,
   "outputs": []
  },
  {
   "cell_type": "code",
   "metadata": {
    "cell_id": "1f404f7d29b84c45882186c4e5b6a90e",
    "tags": [],
    "deepnote_to_be_reexecuted": false,
    "source_hash": "d0548ec6",
    "execution_start": 1649159925410,
    "execution_millis": 2,
    "deepnote_cell_type": "code",
    "deepnote_cell_height": 369
   },
   "source": "def main(features_df=None):\n\n    image_names = [ID for ID in groundtruth['image_id']]\n    if not features_df.empty: # If there is an error here, remove '.empty' it only needs to be there if you pass a dataframe\n        features_df = pd.DataFrame(columns=['ISIC', 'Asymmetry', 'Compactness', 'Color', 'Melanoma'])#, index=range(50))\n        for pic in image_names:\n            img_bw = Image.open(Config.mask_path + os.sep + pic + '_segmentation.png') # open mask image\n\n            img = plt.imread(Config.images_path + os.sep + pic + '.jpg') # open image\n            pict = Picture(img = img, img_bw = img_bw)\n            tempdf = get_row(pict, pic)\n            features_df = pd.concat([features_df, tempdf], axis=0, ignore_index=True)\n\n    return train_evaluate_classifiers(features_df), features_df\n\n\n",
   "execution_count": null,
   "outputs": []
  },
  {
   "cell_type": "code",
   "metadata": {
    "cell_id": "256e9dd7085647039affdb8a53a1ee65",
    "tags": [],
    "deepnote_to_be_reexecuted": false,
    "source_hash": "3afe2b1a",
    "execution_start": 1649159925821,
    "execution_millis": 477103,
    "deepnote_cell_type": "code",
    "deepnote_cell_height": 421,
    "deepnote_output_heights": [
     324
    ]
   },
   "source": "knntrained, tfeatures_df = main(tfeatures_df)",
   "execution_count": null,
   "outputs": [
    {
     "data": {
      "text/plain": "<Figure size 720x360 with 2 Axes>",
      "image/png": "[encoded data removed]"
     },
     "metadata": {
      "image/png": {
       "width": 681,
       "height": 322
      }
     },
     "output_type": "display_data"
    }
   ]
  },
  {
   "cell_type": "code",
   "metadata": {
    "cell_id": "cb70bdc9eafb4d89beff1d28f00a4e00",
    "tags": [],
    "deepnote_to_be_reexecuted": false,
    "source_hash": "5789ec68",
    "execution_start": 1649160402965,
    "execution_millis": 2,
    "deepnote_cell_type": "code",
    "deepnote_cell_height": 118.1875,
    "deepnote_output_heights": [
     21.1875
    ]
   },
   "source": "tfeatures_df.empty",
   "execution_count": null,
   "outputs": [
    {
     "output_type": "execute_result",
     "execution_count": 27,
     "data": {
      "text/plain": "False"
     },
     "metadata": {}
    }
   ]
  },
  {
   "cell_type": "code",
   "metadata": {
    "cell_id": "5985fbb5dd6f42ce92990d7801c36b75",
    "tags": [],
    "deepnote_to_be_reexecuted": false,
    "source_hash": "6345cd6c",
    "execution_start": 1649159578256,
    "execution_millis": 1131,
    "deepnote_cell_type": "code",
    "deepnote_cell_height": 274
   },
   "source": "pic = 'ISIC_0001852'\nimg = plt.imread(Config.images_path + os.sep + pic + '.jpg')\nimg_bw = Image.open(Config.mask_path + os.sep + pic + '_segmentation.png')\npict = Picture(img, img_bw)\n\ntempdf = get_row(pict, pic)\n\nprediction = knntrained.predict(tempdf[['Asymmetry', 'Compactness', 'Color']])\n\nprint(prediction)",
   "execution_count": null,
   "outputs": [
    {
     "name": "stdout",
     "text": "[0.]\n",
     "output_type": "stream"
    }
   ]
  },
  {
   "cell_type": "code",
   "metadata": {
    "cell_id": "675a1a07f35c4d0c983468ad169c12da",
    "tags": [],
    "deepnote_to_be_reexecuted": true,
    "source_hash": "65c23baa",
    "execution_start": 1649152680340,
    "execution_millis": 13,
    "deepnote_cell_type": "code",
    "deepnote_cell_height": 118.1875,
    "deepnote_output_heights": [
     21.1875
    ]
   },
   "source": "KNeighborsClassifier",
   "execution_count": null,
   "outputs": [
    {
     "output_type": "execute_result",
     "execution_count": 24,
     "data": {
      "text/plain": "sklearn.neighbors._classification.KNeighborsClassifier"
     },
     "metadata": {}
    }
   ]
  },
  {
   "cell_type": "code",
   "metadata": {
    "cell_id": "2c145c36d6604156b06d24ec1a0f9b7a",
    "tags": [],
    "deepnote_to_be_reexecuted": true,
    "source_hash": "4782470f",
    "execution_start": 1649088694133,
    "execution_millis": 64,
    "deepnote_cell_type": "code",
    "deepnote_cell_height": 423
   },
   "source": "df = pd.DataFrame(columns=['ISIC', 'Asymmetry', 'Compactness', 'Color', 'Melanoma'], index=['im'])\ndf2 = pd.DataFrame(\n        [[1, 2, 3, 4, 5]], \n        columns=['ISIC', 'Asymmetry', 'Compactness', 'Color', 'Melanoma'], index=['ig'])\n\ndf.append(df2)\n\ndf",
   "execution_count": null,
   "outputs": [
    {
     "name": "stdout",
     "text": "   ISIC Assymetry Compactness Color Melanoma\nim  NaN       NaN         NaN   NaN      NaN\n",
     "output_type": "stream"
    },
    {
     "output_type": "execute_result",
     "execution_count": 48,
     "data": {
      "application/vnd.deepnote.dataframe.v3+json": {
       "column_count": 5,
       "row_count": 1,
       "columns": [
        {
         "name": "ISIC",
         "dtype": "object",
         "stats": {
          "unique_count": 0,
          "nan_count": 1,
          "categories": [
           {
            "name": "Missing",
            "count": 1
           }
          ]
         }
        },
        {
         "name": "Assymetry",
         "dtype": "object",
         "stats": {
          "unique_count": 0,
          "nan_count": 1,
          "categories": [
           {
            "name": "Missing",
            "count": 1
           }
          ]
         }
        },
        {
         "name": "Compactness",
         "dtype": "object",
         "stats": {
          "unique_count": 0,
          "nan_count": 1,
          "categories": [
           {
            "name": "Missing",
            "count": 1
           }
          ]
         }
        },
        {
         "name": "Color",
         "dtype": "object",
         "stats": {
          "unique_count": 0,
          "nan_count": 1,
          "categories": [
           {
            "name": "Missing",
            "count": 1
           }
          ]
         }
        },
        {
         "name": "Melanoma",
         "dtype": "object",
         "stats": {
          "unique_count": 0,
          "nan_count": 1,
          "categories": [
           {
            "name": "Missing",
            "count": 1
           }
          ]
         }
        },
        {
         "name": "_deepnote_index_column",
         "dtype": "object"
        }
       ],
       "rows": [
        {
         "ISIC": "nan",
         "Assymetry": "nan",
         "Compactness": "nan",
         "Color": "nan",
         "Melanoma": "nan",
         "_deepnote_index_column": "im"
        }
       ]
      },
      "text/plain": "   ISIC Assymetry Compactness Color Melanoma\nim  NaN       NaN         NaN   NaN      NaN",
      "text/html": "<div>\n<style scoped>\n    .dataframe tbody tr th:only-of-type {\n        vertical-align: middle;\n    }\n\n    .dataframe tbody tr th {\n        vertical-align: top;\n    }\n\n    .dataframe thead th {\n        text-align: right;\n    }\n</style>\n<table border=\"1\" class=\"dataframe\">\n  <thead>\n    <tr style=\"text-align: right;\">\n      <th></th>\n      <th>ISIC</th>\n      <th>Assymetry</th>\n      <th>Compactness</th>\n      <th>Color</th>\n      <th>Melanoma</th>\n    </tr>\n  </thead>\n  <tbody>\n    <tr>\n      <th>im</th>\n      <td>NaN</td>\n      <td>NaN</td>\n      <td>NaN</td>\n      <td>NaN</td>\n      <td>NaN</td>\n    </tr>\n  </tbody>\n</table>\n</div>"
     },
     "metadata": {}
    }
   ]
  },
  {
   "cell_type": "code",
   "metadata": {
    "cell_id": "3c77ebdb2e294c0f9af934f914afeb5e",
    "tags": [],
    "deepnote_to_be_reexecuted": true,
    "source_hash": "3b6dd96c",
    "execution_start": 1649088733732,
    "execution_millis": 56,
    "deepnote_table_state": {
     "pageSize": 25,
     "pageIndex": 0,
     "filters": [],
     "sortBy": []
    },
    "deepnote_table_loading": false,
    "deepnote_cell_type": "code",
    "deepnote_cell_height": 362
   },
   "source": "df = pd.DataFrame([[1, 2], [3, 4]], columns=list('AB'), index=['x', 'y'])\n\ndf2 = pd.DataFrame([[5, 6], [7, 8]], columns=list('AB'), index=['x', 'y'])\ndf.append(df2)\n\ndf",
   "execution_count": null,
   "outputs": [
    {
     "output_type": "execute_result",
     "execution_count": 52,
     "data": {
      "application/vnd.deepnote.dataframe.v3+json": {
       "column_count": 2,
       "row_count": 2,
       "columns": [
        {
         "name": "A",
         "dtype": "int64",
         "stats": {
          "unique_count": 2,
          "nan_count": 0,
          "min": "1",
          "max": "3",
          "histogram": [
           {
            "bin_start": 1,
            "bin_end": 1.2,
            "count": 1
           },
           {
            "bin_start": 1.2,
            "bin_end": 1.4,
            "count": 0
           },
           {
            "bin_start": 1.4,
            "bin_end": 1.6,
            "count": 0
           },
           {
            "bin_start": 1.6,
            "bin_end": 1.8,
            "count": 0
           },
           {
            "bin_start": 1.8,
            "bin_end": 2,
            "count": 0
           },
           {
            "bin_start": 2,
            "bin_end": 2.2,
            "count": 0
           },
           {
            "bin_start": 2.2,
            "bin_end": 2.4000000000000004,
            "count": 0
           },
           {
            "bin_start": 2.4000000000000004,
            "bin_end": 2.6,
            "count": 0
           },
           {
            "bin_start": 2.6,
            "bin_end": 2.8,
            "count": 0
           },
           {
            "bin_start": 2.8,
            "bin_end": 3,
            "count": 1
           }
          ]
         }
        },
        {
         "name": "B",
         "dtype": "int64",
         "stats": {
          "unique_count": 2,
          "nan_count": 0,
          "min": "2",
          "max": "4",
          "histogram": [
           {
            "bin_start": 2,
            "bin_end": 2.2,
            "count": 1
           },
           {
            "bin_start": 2.2,
            "bin_end": 2.4,
            "count": 0
           },
           {
            "bin_start": 2.4,
            "bin_end": 2.6,
            "count": 0
           },
           {
            "bin_start": 2.6,
            "bin_end": 2.8,
            "count": 0
           },
           {
            "bin_start": 2.8,
            "bin_end": 3,
            "count": 0
           },
           {
            "bin_start": 3,
            "bin_end": 3.2,
            "count": 0
           },
           {
            "bin_start": 3.2,
            "bin_end": 3.4000000000000004,
            "count": 0
           },
           {
            "bin_start": 3.4000000000000004,
            "bin_end": 3.6,
            "count": 0
           },
           {
            "bin_start": 3.6,
            "bin_end": 3.8,
            "count": 0
           },
           {
            "bin_start": 3.8,
            "bin_end": 4,
            "count": 1
           }
          ]
         }
        },
        {
         "name": "_deepnote_index_column",
         "dtype": "object"
        }
       ],
       "rows": [
        {
         "A": 1,
         "B": 2,
         "_deepnote_index_column": "x"
        },
        {
         "A": 3,
         "B": 4,
         "_deepnote_index_column": "y"
        }
       ]
      },
      "text/plain": "   A  B\nx  1  2\ny  3  4",
      "text/html": "<div>\n<style scoped>\n    .dataframe tbody tr th:only-of-type {\n        vertical-align: middle;\n    }\n\n    .dataframe tbody tr th {\n        vertical-align: top;\n    }\n\n    .dataframe thead th {\n        text-align: right;\n    }\n</style>\n<table border=\"1\" class=\"dataframe\">\n  <thead>\n    <tr style=\"text-align: right;\">\n      <th></th>\n      <th>A</th>\n      <th>B</th>\n    </tr>\n  </thead>\n  <tbody>\n    <tr>\n      <th>x</th>\n      <td>1</td>\n      <td>2</td>\n    </tr>\n    <tr>\n      <th>y</th>\n      <td>3</td>\n      <td>4</td>\n    </tr>\n  </tbody>\n</table>\n</div>"
     },
     "metadata": {}
    }
   ]
  },
  {
   "cell_type": "code",
   "metadata": {
    "cell_id": "7a19bee603f44bc2a512272225d929cc",
    "tags": [],
    "deepnote_to_be_reexecuted": true,
    "source_hash": "b623e53d",
    "deepnote_cell_type": "code",
    "deepnote_cell_height": 81
   },
   "source": "",
   "execution_count": null,
   "outputs": []
  },
  {
   "cell_type": "markdown",
   "source": "<a style='text-decoration:none;line-height:16px;display:flex;color:#5B5B62;padding:10px;justify-content:end;' href='https://deepnote.com?utm_source=created-in-deepnote-cell&projectId=932aa97b-f6d2-4889-8f04-d6166675cc2f' target=\"_blank\">\n<img alt='Created in deepnote.com' style='display:inline;max-height:16px;margin:0px;margin-right:7.5px;' src='data:image/svg+xml;base64,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' > </img>\nCreated in <span style='font-weight:600;margin-left:4px;'>Deepnote</span></a>",
   "metadata": {
    "tags": [],
    "created_in_deepnote_cell": true,
    "deepnote_cell_type": "markdown"
   }
  }
 ],
 "nbformat": 4,
 "nbformat_minor": 2,
 "metadata": {
  "orig_nbformat": 2,
  "deepnote": {
   "is_reactive": false
  },
  "deepnote_notebook_id": "96a06088-7956-4476-b86c-c3ba1b9f6d28",
  "deepnote_execution_queue": []
 }
}