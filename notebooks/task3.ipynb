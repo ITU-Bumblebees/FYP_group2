{
 "cells": [
  {
   "cell_type": "code",
   "metadata": {
    "tags": [],
    "cell_id": "f371e8b9-43d2-40e5-8473-1d3fb793816a",
    "deepnote_to_be_reexecuted": false,
    "source_hash": "41aec9e7",
    "execution_start": 1649086569926,
    "execution_millis": 1451188,
    "deepnote_cell_type": "code",
    "deepnote_cell_height": 225
   },
   "source": "#load in the data\n#split data into training and validation data\n#use training data to run different evaluation\n#evaluate performance on validation data\n#different classifiers could be: knearestneighbors (with different neighbors, decisiontreeclasifier)\n#analyse results by comparing classifiers on different metrics, inspecting images that are classifies incorrectly etc\n#select best classifier (by which rules should we select)\n#create python script that takes an image, measures the features, classifies the image\n#and gives its probability of being a melanoma (range from 0 to 1)",
   "execution_count": null,
   "outputs": []
  },
  {
   "cell_type": "markdown",
   "source": "## Features\n\n* Perimeter\n* Area\n* Compactness\n* Assymetry\n* !color",
   "metadata": {
    "cell_id": "e9e617954d454ebbb91e29c37fe84f17",
    "tags": [],
    "deepnote_cell_type": "markdown",
    "deepnote_cell_height": 224
   }
  },
  {
   "cell_type": "code",
   "metadata": {
    "cell_id": "1fbb2120443e41a7886d5f07c06ad5f4",
    "tags": [],
    "deepnote_to_be_reexecuted": false,
    "source_hash": "5e417195",
    "execution_start": 1649149453985,
    "execution_millis": 3672,
    "deepnote_cell_type": "code",
    "deepnote_cell_height": 315
   },
   "source": "import matplotlib.pyplot as plt\nimport numpy as np\nimport pandas as pd\nimport Config\nfrom PIL import Image \nimport os, Config\nfrom skimage import morphology\nfrom statsmodels.robust import mad\n\nfrom sklearn.model_selection import train_test_split\nfrom sklearn.neighbors import KNeighborsClassifier\nfrom sklearn.tree import DecisionTreeClassifier\nfrom sklearn.naive_bayes import GaussianNB\nfrom sklearn.metrics import roc_auc_score, accuracy_score",
   "execution_count": 2,
   "outputs": []
  },
  {
   "cell_type": "code",
   "metadata": {
    "cell_id": "5b5fe856f14e4f4c98da8ce907751b58",
    "tags": [],
    "deepnote_to_be_reexecuted": false,
    "source_hash": "2f7406a1",
    "execution_start": 1649086573296,
    "execution_millis": 14,
    "deepnote_cell_type": "code",
    "deepnote_cell_height": 153
   },
   "source": "def load_picture(iid):\n    path_mask = '../data/example_segmentation'\n    file_mask = path_mask + os.sep + image_id[iid] + '_segmentation.png'\n    picture = Image.open(file_mask)\n    return picture",
   "execution_count": null,
   "outputs": []
  },
  {
   "cell_type": "code",
   "metadata": {
    "cell_id": "c089d943d601481b867586cb7df50aa5",
    "tags": [],
    "deepnote_to_be_reexecuted": false,
    "source_hash": "7cf7bc40",
    "execution_start": 1649086573332,
    "execution_millis": 29,
    "deepnote_cell_type": "code",
    "deepnote_cell_height": 1719
   },
   "source": "class Picture:\n    def __init__(self, img, img_bw):\n        self.img = img\n        self.img_bw = self.cut_image(img_bw)\n\n    #ASSYMETRY\n    def cut_image(self, picture):\n    width, height = picture.size\n    image = np.array(picture)\n    \n    if width %2 != 0:\n        image = np.delete(image, -1, 1)\n\n    if height %2 != 0:\n        image = np.delete(image, -1, 0)\n\n    image = Image.fromarray(image)\n\n    return image\n\n    def _assymetry(self, rot_img):\n        ''' get the assymetry between the left and right part of a given binary mask '''\n        width, height = rot_img.size #mask should be quadratic and therefore have equal dimension\n        size = width * height\n\n        #check for uneven number of pixels (should not happen but just as a precaution)\n        if width %2 != 0:\n            raise TypeError(\"Uneven number of pixel and cannot be symmetric\")\n        \n        #cut in half and fold\n        left = rot_img.crop((0, 0, (width/2), height)) #left part of picture (left, top, right, bottom)\n        right = rot_img.crop(((width/2), 0, width, height)) #right part of picture\n        right = right.transpose(Image.FLIP_LEFT_RIGHT) #flip right part to compare\n\n        #get the binary difference between left an right\n        symmetry = np.where(np.array(left) != np.array(right), 1, 0)\n\n        return np.sum(symmetry) / (size/2) #the percentage of assymetry \n    \n    def get_assymetry(self):\n        ''' get the assymetry for a given mask by folding it in half from multiple angles'''\n        return round(np.mean([self._assymetry(self.img_bw), self._assymetry(self.img_bw.rotate(30, expand= True)),self._assymetry(self.img_bw.rotate(60, expand= True)),self._assymetry(self.img_bw.rotate(90, expand= True))]),2)\n\n    #BORDER\n    def measure_area_perimeter(self): #Stolen from Veronika's github\n    # Measure area: the sum of all white pixels in the mask image\n        mask = np.where(np.array(self.img_bw)==255, 1, 0)\n        area = np.sum(mask)\n\n        # Measure perimeter: first find which pixels belong to the perimeter.\n        struct_el = morphology.disk(1)\n        mask_eroded = morphology.binary_erosion(mask, struct_el)\n        image_perimeter = mask - mask_eroded\n\n        # Now we have the perimeter image, the sum of all white pixels in it\n        perimeter = np.sum(image_perimeter)\n\n        return area, perimeter\n\n    def get_compactness(self):\n        ''' Computes and returns the compactness of a figure '''\n        area, perimeter = self.measure_area_perimeter()\n        return round(4*np.pi*area / perimeter ** 2, 4)\n\n\n    #COLOR\n    def get_color_variability(self):\n        '''\n            Assigns a color variability score\n        '''\n        if self._check_variability() < 20: \n            return 0 \n        elif self._check_variability() < 50: \n            return 1\n        else: \n            return 2\n\n    def _check_variability(self):\n        '''\n            Returns a mean of the median absolute deviation of each color (rgb)\n        '''\n        self.img[self.img_bw==0] = 0\n        \n        #we then calculate the mad of each dimension \n        r, g, b = self.img[:,:,0], self.img[:,:,1], self.img[:,:,2]\n        mad_r= mad(r[np.where(r != 0)])\n        mad_g= mad(g[np.where(g != 0)])\n        mad_b= mad(b[np.where(b != 0)])\n        mad_result= [mad_r,mad_g,mad_b]\n\n        #calculating the mean\n        return np.mean(mad_result)",
   "execution_count": null,
   "outputs": []
  },
  {
   "cell_type": "code",
   "metadata": {
    "cell_id": "fa907fd376584ff1918a2d41aca4906a",
    "tags": [],
    "deepnote_to_be_reexecuted": false,
    "source_hash": "73bbfa7c",
    "execution_start": 1649088104338,
    "execution_millis": 3,
    "deepnote_cell_type": "code",
    "deepnote_cell_height": 243
   },
   "source": "def get_row(pict, pic):  \n    assym = pict.get_assymetry()\n    comp = pict.get_compactness()\n    color = pict.get_color_variability()\n\n    melanoma = groundtruth[groundtruth['image_id'] == pic]['melanoma'].iloc[0]\n    return pic, assym, comp, color, melanoma\n    return pd.DataFrame([[pic, assym, comp, color, melanoma]], \n                        columns=['ISIC', 'Assymetry', 'Compactness', 'Color', 'Melanoma'])\n",
   "execution_count": null,
   "outputs": []
  },
  {
   "cell_type": "code",
   "metadata": {
    "cell_id": "e22034dc29504dfa9e026ac22c9b5167",
    "tags": [],
    "deepnote_to_be_reexecuted": false,
    "source_hash": "c96c3b8b",
    "execution_start": 1649089346707,
    "execution_millis": 4,
    "deepnote_cell_type": "code",
    "deepnote_cell_height": 1521
   },
   "source": "def train_evaluate_classifiers(df):\n    testies = df\n\n    X = testies[[\"Assymetry\", \"Compactness\",\"Color\"]]\n    y = testies[\"Melanoma\"]\n\n    #split data set into a train, test and valification set\n    #X_dev, X_test, y_dev, y_test = train_test_split(\n    #    X, y, test_size= 0.3, stratify=y, random_state=0)\n\n    X_dev, X_test, y_dev, y_test = train_test_split(\n    X, y, stratify=y, random_state=0)\n\n    #X_train, X_val, y_train, y_val = train_test_split(\n    #    X_dev, y_dev, test_size= 0.5, stratify=y_dev)\n\n    X_train, X_val, y_train, y_val = train_test_split(\n        X_dev, y_dev, stratify=y_dev)\n\n    #train a classifier\n    # knn1 = KNeighborsClassifier(n_neighbors=1)\n    # knn1trained = knn1.fit(X_train, y_train)\n\n    # knn3 = KNeighborsClassifier(n_neighbors=3)\n    # knn3trained = knn3.fit(X_train, y_train)\n\n    # loglen = int(np.log(len(df['Melanoma'])))\n    # knnlog = KNeighborsClassifier(n_neighbors=loglen)\n    # knnlogtrained = knnlog.fit(X_train, y_train)\n\n    # tree = DecisionTreeClassifier()\n    # treetrained = tree.fit(X_train, y_train)\n    \n    # gauss = GaussianNB()\n    # gausstrained = gauss.fit(X_test, y_test)\n\n    # #evaluate the classifiers\n    # y_val_knn1 = knn1trained.predict(X_val)\n    # y_val_knn3 = knn3trained.predict(X_val)\n    # y_val_knnlog = knnlogtrained.predict(X_val)\n    # y_val_tree = treetrained.predict(X_val)\n    # y_val_gauss = gausstrained.predict(X_val)\n\n    all_acc = []\n    all_roc = []\n\n    for i in range(1,7):\n        knn = KNeighborsClassifier(n_neighbors= i)\n        knntrained = knn.fit(X_train, y_train)\n        y_val_knn = knntrained.predict(X_val)\n        acc = accuracy_score(y_val, y_val_knn)\n        roc = roc_auc_score(y_val, y_val_knn)\n        all_acc.append(acc)\n        all_roc.append(roc)\n\n\n    \n    \n    # print(\"Accuracy (using numpy)\")\n    # print(f\"knn 1: {np.sum(y_val_knn1 == y_val)/ np.size(y_val)*100}\")\n    # print(f\"knn 3: {np.sum(y_val_knn3 == y_val)/ np.size(y_val)*100}\")\n    # print(f\"knn log: {np.sum(y_val_knnlog == y_val)/ np.size(y_val)*100}\")\n    # print(f\"tree: {np.sum(y_val_tree == y_val)/ np.size(y_val)*100}\")\n    # print(f\"gauss: {np.sum(y_val_gauss == y_val)/ np.size(y_val)*100}\")\n\n    # print(\"Accuracy score\")\n    # print(f\"knn 1: {accuracy_score(y_val,y_val_knn1)}\")\n    # print(f\"knn 3: {accuracy_score(y_val,y_val_knn3)}\")\n    # print(f\"knn log: {accuracy_score(y_val,y_val_knnlog)}\")\n    # print(f\"tree: {accuracy_score(y_val,y_val_tree)}\")\n    # print(f\"gauss: {accuracy_score(y_val,y_val_gauss)}\")\n\n    # print(\"roc auc score\")\n    # print(f\"knn1: {roc_auc_score(y_val, y_val_knn1)}\")\n    # print(f\"knn3: {roc_auc_score(y_val, y_val_knn3)}\")\n    # print(f\"knnlog: {roc_auc_score(y_val, y_val_knnlog)}\")\n    # print(f\"tree: {roc_auc_score(y_val, y_val_tree)}\")\n    # print(f\"gauss: {roc_auc_score(y_val, y_val_gauss)}\")\n\n    \n",
   "execution_count": null,
   "outputs": []
  },
  {
   "cell_type": "markdown",
   "source": "    > Load the CSV with ISIC names and \"ground truth\"\n    > Start adding features to the data frame\n    > Split the data frame into testing and training - start training\n    > Train a classifier\n        - Nearest neighbour with k neighbours\n        - Decision tree\n        - Bayes classifier\n    ",
   "metadata": {
    "cell_id": "9d276ffec5544cfab41e50b4a3bf9229",
    "tags": [],
    "deepnote_cell_type": "markdown",
    "deepnote_cell_height": 195.59375
   }
  },
  {
   "cell_type": "code",
   "metadata": {
    "cell_id": "5da5e2be02da4bbebd48babf78ef7164",
    "tags": [],
    "deepnote_to_be_reexecuted": false,
    "source_hash": "2e77069b",
    "execution_start": 1649087355996,
    "execution_millis": 13,
    "deepnote_cell_type": "code",
    "deepnote_cell_height": 81
   },
   "source": "groundtruth = pd.read_csv(Config.example_ground_truth_path)",
   "execution_count": null,
   "outputs": []
  },
  {
   "cell_type": "code",
   "metadata": {
    "cell_id": "1f404f7d29b84c45882186c4e5b6a90e",
    "tags": [],
    "deepnote_to_be_reexecuted": false,
    "source_hash": "37f9eeeb",
    "execution_start": 1649089383178,
    "execution_millis": 6,
    "deepnote_cell_type": "code",
    "deepnote_cell_height": 423
   },
   "source": "def main():\n\n    image_names = [ID for ID in groundtruth['image_id']]\n\n    features_df = pd.DataFrame(columns=['ISIC', 'Assymetry', 'Compactness', 'Color', 'Melanoma'])#, index=range(50))\n    for pic in image_names:\n        img_bw = Image.open(Config.mask_path + os.sep + pic + '_segmentation.png') # open mask image\n        img_bw = cut_image(img_bw)\n\n        img = plt.imread(Config.images_path + os.sep + pic + '.jpg') # open image\n        pict = Picture(img = img, img_bw = img_bw)\n        \n        pic, assym, comp, color, melanoma = get_row(pict, pic)\n        tempdf = pd.DataFrame([[pic, assym, comp, color, melanoma]], \n                        columns=['ISIC', 'Assymetry', 'Compactness', 'Color', 'Melanoma'])\n        features_df = pd.concat([features_df, tempdf], axis=0, ignore_index=True)\n\n    train_evaluate_classifiers(features_df)\n\n    ",
   "execution_count": null,
   "outputs": []
  },
  {
   "cell_type": "code",
   "metadata": {
    "cell_id": "5985fbb5dd6f42ce92990d7801c36b75",
    "tags": [],
    "deepnote_to_be_reexecuted": false,
    "source_hash": "b623e53d",
    "execution_start": 1649089383575,
    "execution_millis": 0,
    "deepnote_cell_type": "code",
    "deepnote_cell_height": 81
   },
   "source": "",
   "execution_count": null,
   "outputs": []
  },
  {
   "cell_type": "code",
   "metadata": {
    "cell_id": "256e9dd7085647039affdb8a53a1ee65",
    "tags": [],
    "deepnote_to_be_reexecuted": false,
    "source_hash": "286a4539",
    "execution_start": 1649089384045,
    "execution_millis": 126367,
    "deepnote_cell_type": "code",
    "deepnote_cell_height": 701
   },
   "source": "main()",
   "execution_count": null,
   "outputs": [
    {
     "name": "stdout",
     "text": "21  ISIC_0008025       0.10       1.1377     0       0.0\n22  ISIC_0008524       0.03       0.8073     0       0.0\n23  ISIC_0009995       0.12       0.9966     1       0.0\n24  ISIC_0010459       0.15       1.1311     1       0.0\n25  ISIC_0012099       0.01       0.6072     0       1.0\n26  ISIC_0012109       0.01       0.5888     0       0.0\n27  ISIC_0012126       0.01       0.5941     0       0.0\n28  ISIC_0012127       0.01       1.1007     1       0.0\n29  ISIC_0012143       0.06       0.5093     0       0.0\ntempdf:             ISIC  Assymetry  Compactness  Color  Melanoma\n0  ISIC_0012151       0.09       0.5587      0       1.0\nfeatures:              ISIC  Assymetry  Compactness Color  Melanoma\n0   ISIC_0001769       0.03       0.6703     0       0.0\n1   ISIC_0001852       0.01       0.8711     0       0.0\n2   ISIC_0001871       0.03       0.8713     0       0.0\n3   ISIC_0003462       0.03       1.1250     0       0.0\n4   ISIC_0003539       0.06       0.9361     0       0.0\n5   ISIC_0003582       0.10       1.0618     0       0.0\n6   ISIC_0003657       0.06       0.7796     0       0.0\n7   ISIC_0003805       0.03       0.8562     0       0.0\n8   ISIC_0004337       0.04       1.1416     0       0.0\n9   ISIC_0006651       0.07       1.1960     1       0.0\n10  ISIC_0006671       0.03       1.1825     0       0.0\n11  ISIC_0006815       0.01       0.6144     0       0.0\n12  ISIC_0006914       0.07       1.0374     0       0.0\n13  ISIC_0007141       0.14       1.1496     0       0.0\n14  ISIC_0007156       0.06       1.1861     0       0.0\n15  ISIC_0007235       0.02       1.1775     0       0.0\n16  ISIC_0007241       0.07       1.1233     0       0.0\n17  ISIC_0007332       0.07       1.1706     0       0.0\n18  ISIC_0007344       0.11       0.9534     0       0.0\n19  ISIC_0007528       0.03       1.2390     0       0.0\n20  ISIC_0007796       0.05       1.1348     0       0.0\n21  ISIC_0008025       0.10       1.1377     0       0.0\n22  ISIC_0008524       0.03       0.8073     0       0.0\n23  ISIC_0009995       0.12       0.9966     1       0.0\n24  ISIC_0010459       0.15       1.1311     1       0.0\n25  ISIC_0012099       0.01       0.6072     0       1.0\n26  ISIC_0012109       0.01       0.5888     0       0.0\n27  ISIC_0012126       0.01       0.5941     0       0.0\n28  ISIC_0012127       0.01       1.1007     1       0.0\n29  ISIC_0012143       0.06       0.5093     0       0.0\n30  ISIC_0012151       0.09       0.5587     0       1.0\ntempdf:             ISIC  Assymetry  Compactness  Color  Melanoma\n0  ISIC_0012159       0.04       0.5033      0       0.0\nfeatures:              ISIC  Assymetry  Compactness Color  Melanoma\n0   ISIC_0001769       0.03       0.6703     0       0.0\n1   ISIC_0001852       0.01       0.8711     0       0.0\n2   ISIC_0001871       0.03       0.8713     0       0.0\n3   ISIC_0003462       0.03       1.1250     0       0.0\n4   ISIC_0003539       0.06       0.9361     0       0.0\n5   ISIC_0003582       0.10       1.0618     0       0.0\n6   ISIC_0003657       0.06       0.7796     0       0.0\n7   ISIC_0003805       0.03       0.8562     0       0.0\n8   ISIC_0004337       0.04       1.1416     0       0.0\n9   ISIC_0006651       0.07       1.1960     1       0.0\n10  ISIC_0006671       0.03       1.1825     0       0.0\n11  ISIC_0006815       0.01       0.6144     0       0.0\n12  ISIC_0006914       0.07       1.0374     0       0.0\n13  ISIC_0007141       0.14       1.1496     0       0.0\n14  ISIC_0007156       0.06       1.1861     0       0.0\n15  ISIC_0007235       0.02       1.1775     0       0.0\n16  ISIC_0007241       0.07       1.1233     0       0.0\n17  ISIC_0007332       0.07       1.1706     0       0.0\n18  ISIC_0007344       0.11       0.9534     0       0.0\n19  ISIC_0007528       0.03       1.2390     0       0.0\n20  ISIC_0007796       0.05       1.1348     0       0.0\n21  ISIC_0008025       0.10       1.1377     0       0.0\n22  ISIC_0008524       0.03       0.8073     0       0.0\n23  ISIC_0009995       0.12       0.9966     1       0.0\n24  ISIC_0010459       0.15       1.1311     1       0.0\n25  ISIC_0012099       0.01       0.6072     0       1.0\n26  ISIC_0012109       0.01       0.5888     0       0.0\n27  ISIC_0012126       0.01       0.5941     0       0.0\n28  ISIC_0012127       0.01       1.1007     1       0.0\n29  ISIC_0012143       0.06       0.5093     0       0.0\n30  ISIC_0012151       0.09       0.5587     0       1.0\n31  ISIC_0012159       0.04       0.5033     0       0.0\ntempdf:             ISIC  Assymetry  Compactness  Color  Melanoma\n0  ISIC_0012160       0.01       0.4731      0       0.0\nfeatures:              ISIC  Assymetry  Compactness Color  Melanoma\n0   ISIC_0001769       0.03       0.6703     0       0.0\n1   ISIC_0001852       0.01       0.8711     0       0.0\n2   ISIC_0001871       0.03       0.8713     0       0.0\n3   ISIC_0003462       0.03       1.1250     0       0.0\n4   ISIC_0003539       0.06       0.9361     0       0.0\n5   ISIC_0003582       0.10       1.0618     0       0.0\n6   ISIC_0003657       0.06       0.7796     0       0.0\n7   ISIC_0003805       0.03       0.8562     0       0.0\n8   ISIC_0004337       0.04       1.1416     0       0.0\n9   ISIC_0006651       0.07       1.1960     1       0.0\n10  ISIC_0006671       0.03       1.1825     0       0.0\n11  ISIC_0006815       0.01       0.6144     0       0.0\n12  ISIC_0006914       0.07       1.0374     0       0.0\n13  ISIC_0007141       0.14       1.1496     0       0.0\n14  ISIC_0007156       0.06       1.1861     0       0.0\n15  ISIC_0007235       0.02       1.1775     0       0.0\n16  ISIC_0007241       0.07       1.1233     0       0.0\n17  ISIC_0007332       0.07       1.1706     0       0.0\n18  ISIC_0007344       0.11       0.9534     0       0.0\n19  ISIC_0007528       0.03       1.2390     0       0.0\n20  ISIC_0007796       0.05       1.1348     0       0.0\n21  ISIC_0008025       0.10       1.1377     0       0.0\n22  ISIC_0008524       0.03       0.8073     0       0.0\n23  ISIC_0009995       0.12       0.9966     1       0.0\n24  ISIC_0010459       0.15       1.1311     1       0.0\n25  ISIC_0012099       0.01       0.6072     0       1.0\n26  ISIC_0012109       0.01       0.5888     0       0.0\n27  ISIC_0012126       0.01       0.5941     0       0.0\n28  ISIC_0012127       0.01       1.1007     1       0.0\n29  ISIC_0012143       0.06       0.5093     0       0.0\n30  ISIC_0012151       0.09       0.5587     0       1.0\n31  ISIC_0012159       0.04       0.5033     0       0.0\n32  ISIC_0012160       0.01       0.4731     0       0.0\ntempdf:             ISIC  Assymetry  Compactness  Color  Melanoma\n0  ISIC_0012191       0.01       1.0872      0       0.0\nfeatures:              ISIC  Assymetry  Compactness Color  Melanoma\n0   ISIC_0001769       0.03       0.6703     0       0.0\n1   ISIC_0001852       0.01       0.8711     0       0.0\n2   ISIC_0001871       0.03       0.8713     0       0.0\n3   ISIC_0003462       0.03       1.1250     0       0.0\n4   ISIC_0003539       0.06       0.9361     0       0.0\n5   ISIC_0003582       0.10       1.0618     0       0.0\n6   ISIC_0003657       0.06       0.7796     0       0.0\n7   ISIC_0003805       0.03       0.8562     0       0.0\n8   ISIC_0004337       0.04       1.1416     0       0.0\n9   ISIC_0006651       0.07       1.1960     1       0.0\n10  ISIC_0006671       0.03       1.1825     0       0.0\n11  ISIC_0006815       0.01       0.6144     0       0.0\n12  ISIC_0006914       0.07       1.0374     0       0.0\n13  ISIC_0007141       0.14       1.1496     0       0.0\n14  ISIC_0007156       0.06       1.1861     0       0.0\n15  ISIC_0007235       0.02       1.1775     0       0.0\n16  ISIC_0007241       0.07       1.1233     0       0.0\n17  ISIC_0007332       0.07       1.1706     0       0.0\n18  ISIC_0007344       0.11       0.9534     0       0.0\n19  ISIC_0007528       0.03       1.2390     0       0.0\n20  ISIC_0007796       0.05       1.1348     0       0.0\n21  ISIC_0008025       0.10       1.1377     0       0.0\n22  ISIC_0008524       0.03       0.8073     0       0.0\n23  ISIC_0009995       0.12       0.9966     1       0.0\n24  ISIC_0010459       0.15       1.1311     1       0.0\n25  ISIC_0012099       0.01       0.6072     0       1.0\n26  ISIC_0012109       0.01       0.5888     0       0.0\n27  ISIC_0012126       0.01       0.5941     0       0.0\n28  ISIC_0012127       0.01       1.1007     1       0.0\n29  ISIC_0012143       0.06       0.5093     0       0.0\n30  ISIC_0012151       0.09       0.5587     0       1.0\n31  ISIC_0012159       0.04       0.5033     0       0.0\n32  ISIC_0012160       0.01       0.4731     0       0.0\n33  ISIC_0012191       0.01       1.0872     0       0.0\ntempdf:             ISIC  Assymetry  Compactness  Color  Melanoma\n0  ISIC_0012201       0.02       0.5551      0       0.0\nfeatures:              ISIC  Assymetry  Compactness Color  Melanoma\n0   ISIC_0001769       0.03       0.6703     0       0.0\n1   ISIC_0001852       0.01       0.8711     0       0.0\n2   ISIC_0001871       0.03       0.8713     0       0.0\n3   ISIC_0003462       0.03       1.1250     0       0.0\n4   ISIC_0003539       0.06       0.9361     0       0.0\n5   ISIC_0003582       0.10       1.0618     0       0.0\n6   ISIC_0003657       0.06       0.7796     0       0.0\n7   ISIC_0003805       0.03       0.8562     0       0.0\n8   ISIC_0004337       0.04       1.1416     0       0.0\n9   ISIC_0006651       0.07       1.1960     1       0.0\n10  ISIC_0006671       0.03       1.1825     0       0.0\n11  ISIC_0006815       0.01       0.6144     0       0.0\n12  ISIC_0006914       0.07       1.0374     0       0.0\n13  ISIC_0007141       0.14       1.1496     0       0.0\n14  ISIC_0007156       0.06       1.1861     0       0.0\n15  ISIC_0007235       0.02       1.1775     0       0.0\n16  ISIC_0007241       0.07       1.1233     0       0.0\n17  ISIC_0007332       0.07       1.1706     0       0.0\n18  ISIC_0007344       0.11       0.9534     0       0.0\n19  ISIC_0007528       0.03       1.2390     0       0.0\n20  ISIC_0007796       0.05       1.1348     0       0.0\n21  ISIC_0008025       0.10       1.1377     0       0.0\n22  ISIC_0008524       0.03       0.8073     0       0.0\n23  ISIC_0009995       0.12       0.9966     1       0.0\n24  ISIC_0010459       0.15       1.1311     1       0.0\n25  ISIC_0012099       0.01       0.6072     0       1.0\n26  ISIC_0012109       0.01       0.5888     0       0.0\n27  ISIC_0012126       0.01       0.5941     0       0.0\n28  ISIC_0012127       0.01       1.1007     1       0.0\n29  ISIC_0012143       0.06       0.5093     0       0.0\n30  ISIC_0012151       0.09       0.5587     0       1.0\n31  ISIC_0012159       0.04       0.5033     0       0.0\n32  ISIC_0012160       0.01       0.4731     0       0.0\n33  ISIC_0012191       0.01       1.0872     0       0.0\n34  ISIC_0012201       0.02       0.5551     0       0.0\ntempdf:             ISIC  Assymetry  Compactness  Color  Melanoma\n0  ISIC_0012204       0.02       1.0579      0       0.0\nfeatures:              ISIC  Assymetry  Compactness Color  Melanoma\n0   ISIC_0001769       0.03       0.6703     0       0.0\n1   ISIC_0001852       0.01       0.8711     0       0.0\n2   ISIC_0001871       0.03       0.8713     0       0.0\n3   ISIC_0003462       0.03       1.1250     0       0.0\n4   ISIC_0003539       0.06       0.9361     0       0.0\n5   ISIC_0003582       0.10       1.0618     0       0.0\n6   ISIC_0003657       0.06       0.7796     0       0.0\n7   ISIC_0003805       0.03       0.8562     0       0.0\n8   ISIC_0004337       0.04       1.1416     0       0.0\n9   ISIC_0006651       0.07       1.1960     1       0.0\n10  ISIC_0006671       0.03       1.1825     0       0.0\n11  ISIC_0006815       0.01       0.6144     0       0.0\n12  ISIC_0006914       0.07       1.0374     0       0.0\n13  ISIC_0007141       0.14       1.1496     0       0.0\n14  ISIC_0007156       0.06       1.1861     0       0.0\n15  ISIC_0007235       0.02       1.1775     0       0.0\n16  ISIC_0007241       0.07       1.1233     0       0.0\n17  ISIC_0007332       0.07       1.1706     0       0.0\n18  ISIC_0007344       0.11       0.9534     0       0.0\n19  ISIC_0007528       0.03       1.2390     0       0.0\n20  ISIC_0007796       0.05       1.1348     0       0.0\n21  ISIC_0008025       0.10       1.1377     0       0.0\n22  ISIC_0008524       0.03       0.8073     0       0.0\n23  ISIC_0009995       0.12       0.9966     1       0.0\n24  ISIC_0010459       0.15       1.1311     1       0.0\n25  ISIC_0012099       0.01       0.6072     0       1.0\n26  ISIC_0012109       0.01       0.5888     0       0.0\n27  ISIC_0012126       0.01       0.5941     0       0.0\n28  ISIC_0012127       0.01       1.1007     1       0.0\n29  ISIC_0012143       0.06       0.5093     0       0.0\n30  ISIC_0012151       0.09       0.5587     0       1.0\n31  ISIC_0012159       0.04       0.5033     0       0.0\n32  ISIC_0012160       0.01       0.4731     0       0.0\n33  ISIC_0012191       0.01       1.0872     0       0.0\n34  ISIC_0012201       0.02       0.5551     0       0.0\n35  ISIC_0012204       0.02       1.0579     0       0.0\ntempdf:             ISIC  Assymetry  Compactness  Color  Melanoma\n0  ISIC_0012206       0.04       0.5403      0       0.0\nfeatures:              ISIC  Assymetry  Compactness Color  Melanoma\n0   ISIC_0001769       0.03       0.6703     0       0.0\n1   ISIC_0001852       0.01       0.8711     0       0.0\n2   ISIC_0001871       0.03       0.8713     0       0.0\n3   ISIC_0003462       0.03       1.1250     0       0.0\n4   ISIC_0003539       0.06       0.9361     0       0.0\n5   ISIC_0003582       0.10       1.0618     0       0.0\n6   ISIC_0003657       0.06       0.7796     0       0.0\n7   ISIC_0003805       0.03       0.8562     0       0.0\n8   ISIC_0004337       0.04       1.1416     0       0.0\n9   ISIC_0006651       0.07       1.1960     1       0.0\n10  ISIC_0006671       0.03       1.1825     0       0.0\n11  ISIC_0006815       0.01       0.6144     0       0.0\n12  ISIC_0006914       0.07       1.0374     0       0.0\n13  ISIC_0007141       0.14       1.1496     0       0.0\n14  ISIC_0007156       0.06       1.1861     0       0.0\n15  ISIC_0007235       0.02       1.1775     0       0.0\n16  ISIC_0007241       0.07       1.1233     0       0.0\n17  ISIC_0007332       0.07       1.1706     0       0.0\n18  ISIC_0007344       0.11       0.9534     0       0.0\n19  ISIC_0007528       0.03       1.2390     0       0.0\n20  ISIC_0007796       0.05       1.1348     0       0.0\n21  ISIC_0008025       0.10       1.1377     0       0.0\n22  ISIC_0008524       0.03       0.8073     0       0.0\n23  ISIC_0009995       0.12       0.9966     1       0.0\n24  ISIC_0010459       0.15       1.1311     1       0.0\n25  ISIC_0012099       0.01       0.6072     0       1.0\n26  ISIC_0012109       0.01       0.5888     0       0.0\n27  ISIC_0012126       0.01       0.5941     0       0.0\n28  ISIC_0012127       0.01       1.1007     1       0.0\n29  ISIC_0012143       0.06       0.5093     0       0.0\n30  ISIC_0012151       0.09       0.5587     0       1.0\n31  ISIC_0012159       0.04       0.5033     0       0.0\n32  ISIC_0012160       0.01       0.4731     0       0.0\n33  ISIC_0012191       0.01       1.0872     0       0.0\n34  ISIC_0012201       0.02       0.5551     0       0.0\n35  ISIC_0012204       0.02       1.0579     0       0.0\n36  ISIC_0012206       0.04       0.5403     0       0.0\ntempdf:             ISIC  Assymetry  Compactness  Color  Melanoma\n0  ISIC_0012210       0.09       0.4237      0       0.0\nfeatures:              ISIC  Assymetry  Compactness Color  Melanoma\n0   ISIC_0001769       0.03       0.6703     0       0.0\n1   ISIC_0001852       0.01       0.8711     0       0.0\n2   ISIC_0001871       0.03       0.8713     0       0.0\n3   ISIC_0003462       0.03       1.1250     0       0.0\n4   ISIC_0003539       0.06       0.9361     0       0.0\n5   ISIC_0003582       0.10       1.0618     0       0.0\n6   ISIC_0003657       0.06       0.7796     0       0.0\n7   ISIC_0003805       0.03       0.8562     0       0.0\n8   ISIC_0004337       0.04       1.1416     0       0.0\n9   ISIC_0006651       0.07       1.1960     1       0.0\n10  ISIC_0006671       0.03       1.1825     0       0.0\n11  ISIC_0006815       0.01       0.6144     0       0.0\n12  ISIC_0006914       0.07       1.0374     0       0.0\n13  ISIC_0007141       0.14       1.1496     0       0.0\n14  ISIC_0007156       0.06       1.1861     0       0.0\n15  ISIC_0007235       0.02       1.1775     0       0.0\n16  ISIC_0007241       0.07       1.1233     0       0.0\n17  ISIC_0007332       0.07       1.1706     0       0.0\n18  ISIC_0007344       0.11       0.9534     0       0.0\n19  ISIC_0007528       0.03       1.2390     0       0.0\n20  ISIC_0007796       0.05       1.1348     0       0.0\n21  ISIC_0008025       0.10       1.1377     0       0.0\n22  ISIC_0008524       0.03       0.8073     0       0.0\n23  ISIC_0009995       0.12       0.9966     1       0.0\n24  ISIC_0010459       0.15       1.1311     1       0.0\n25  ISIC_0012099       0.01       0.6072     0       1.0\n26  ISIC_0012109       0.01       0.5888     0       0.0\n27  ISIC_0012126       0.01       0.5941     0       0.0\n28  ISIC_0012127       0.01       1.1007     1       0.0\n29  ISIC_0012143       0.06       0.5093     0       0.0\n30  ISIC_0012151       0.09       0.5587     0       1.0\n31  ISIC_0012159       0.04       0.5033     0       0.0\n32  ISIC_0012160       0.01       0.4731     0       0.0\n33  ISIC_0012191       0.01       1.0872     0       0.0\n34  ISIC_0012201       0.02       0.5551     0       0.0\n35  ISIC_0012204       0.02       1.0579     0       0.0\n36  ISIC_0012206       0.04       0.5403     0       0.0\n37  ISIC_0012210       0.09       0.4237     0       0.0\ntempdf:             ISIC  Assymetry  Compactness  Color  Melanoma\n0  ISIC_0012221        0.0       0.6603      0       0.0\nfeatures:              ISIC  Assymetry  Compactness Color  Melanoma\n0   ISIC_0001769       0.03       0.6703     0       0.0\n1   ISIC_0001852       0.01       0.8711     0       0.0\n2   ISIC_0001871       0.03       0.8713     0       0.0\n3   ISIC_0003462       0.03       1.1250     0       0.0\n4   ISIC_0003539       0.06       0.9361     0       0.0\n5   ISIC_0003582       0.10       1.0618     0       0.0\n6   ISIC_0003657       0.06       0.7796     0       0.0\n7   ISIC_0003805       0.03       0.8562     0       0.0\n8   ISIC_0004337       0.04       1.1416     0       0.0\n9   ISIC_0006651       0.07       1.1960     1       0.0\n10  ISIC_0006671       0.03       1.1825     0       0.0\n11  ISIC_0006815       0.01       0.6144     0       0.0\n12  ISIC_0006914       0.07       1.0374     0       0.0\n13  ISIC_0007141       0.14       1.1496     0       0.0\n14  ISIC_0007156       0.06       1.1861     0       0.0\n15  ISIC_0007235       0.02       1.1775     0       0.0\n16  ISIC_0007241       0.07       1.1233     0       0.0\n17  ISIC_0007332       0.07       1.1706     0       0.0\n18  ISIC_0007344       0.11       0.9534     0       0.0\n19  ISIC_0007528       0.03       1.2390     0       0.0\n20  ISIC_0007796       0.05       1.1348     0       0.0\n21  ISIC_0008025       0.10       1.1377     0       0.0\n22  ISIC_0008524       0.03       0.8073     0       0.0\n23  ISIC_0009995       0.12       0.9966     1       0.0\n24  ISIC_0010459       0.15       1.1311     1       0.0\n25  ISIC_0012099       0.01       0.6072     0       1.0\n26  ISIC_0012109       0.01       0.5888     0       0.0\n27  ISIC_0012126       0.01       0.5941     0       0.0\n28  ISIC_0012127       0.01       1.1007     1       0.0\n29  ISIC_0012143       0.06       0.5093     0       0.0\n30  ISIC_0012151       0.09       0.5587     0       1.0\n31  ISIC_0012159       0.04       0.5033     0       0.0\n32  ISIC_0012160       0.01       0.4731     0       0.0\n33  ISIC_0012191       0.01       1.0872     0       0.0\n34  ISIC_0012201       0.02       0.5551     0       0.0\n35  ISIC_0012204       0.02       1.0579     0       0.0\n36  ISIC_0012206       0.04       0.5403     0       0.0\n37  ISIC_0012210       0.09       0.4237     0       0.0\n38  ISIC_0012221       0.00       0.6603     0       0.0\ntempdf:             ISIC  Assymetry  Compactness  Color  Melanoma\n0  ISIC_0012222       0.01       0.6434      0       0.0\nfeatures:              ISIC  Assymetry  Compactness Color  Melanoma\n0   ISIC_0001769       0.03       0.6703     0       0.0\n1   ISIC_0001852       0.01       0.8711     0       0.0\n2   ISIC_0001871       0.03       0.8713     0       0.0\n3   ISIC_0003462       0.03       1.1250     0       0.0\n4   ISIC_0003539       0.06       0.9361     0       0.0\n5   ISIC_0003582       0.10       1.0618     0       0.0\n6   ISIC_0003657       0.06       0.7796     0       0.0\n7   ISIC_0003805       0.03       0.8562     0       0.0\n8   ISIC_0004337       0.04       1.1416     0       0.0\n9   ISIC_0006651       0.07       1.1960     1       0.0\n10  ISIC_0006671       0.03       1.1825     0       0.0\n11  ISIC_0006815       0.01       0.6144     0       0.0\n12  ISIC_0006914       0.07       1.0374     0       0.0\n13  ISIC_0007141       0.14       1.1496     0       0.0\n14  ISIC_0007156       0.06       1.1861     0       0.0\n15  ISIC_0007235       0.02       1.1775     0       0.0\n16  ISIC_0007241       0.07       1.1233     0       0.0\n17  ISIC_0007332       0.07       1.1706     0       0.0\n18  ISIC_0007344       0.11       0.9534     0       0.0\n19  ISIC_0007528       0.03       1.2390     0       0.0\n20  ISIC_0007796       0.05       1.1348     0       0.0\n21  ISIC_0008025       0.10       1.1377     0       0.0\n22  ISIC_0008524       0.03       0.8073     0       0.0\n23  ISIC_0009995       0.12       0.9966     1       0.0\n24  ISIC_0010459       0.15       1.1311     1       0.0\n25  ISIC_0012099       0.01       0.6072     0       1.0\n26  ISIC_0012109       0.01       0.5888     0       0.0\n27  ISIC_0012126       0.01       0.5941     0       0.0\n28  ISIC_0012127       0.01       1.1007     1       0.0\n29  ISIC_0012143       0.06       0.5093     0       0.0\n30  ISIC_0012151       0.09       0.5587     0       1.0\n31  ISIC_0012159       0.04       0.5033     0       0.0\n32  ISIC_0012160       0.01       0.4731     0       0.0\n33  ISIC_0012191       0.01       1.0872     0       0.0\n34  ISIC_0012201       0.02       0.5551     0       0.0\n35  ISIC_0012204       0.02       1.0579     0       0.0\n36  ISIC_0012206       0.04       0.5403     0       0.0\n37  ISIC_0012210       0.09       0.4237     0       0.0\n38  ISIC_0012221       0.00       0.6603     0       0.0\n39  ISIC_0012222       0.01       0.6434     0       0.0\ntempdf:             ISIC  Assymetry  Compactness  Color  Melanoma\n0  ISIC_0012254        0.1       0.6814      0       0.0\nfeatures:              ISIC  Assymetry  Compactness Color  Melanoma\n0   ISIC_0001769       0.03       0.6703     0       0.0\n1   ISIC_0001852       0.01       0.8711     0       0.0\n2   ISIC_0001871       0.03       0.8713     0       0.0\n3   ISIC_0003462       0.03       1.1250     0       0.0\n4   ISIC_0003539       0.06       0.9361     0       0.0\n5   ISIC_0003582       0.10       1.0618     0       0.0\n6   ISIC_0003657       0.06       0.7796     0       0.0\n7   ISIC_0003805       0.03       0.8562     0       0.0\n8   ISIC_0004337       0.04       1.1416     0       0.0\n9   ISIC_0006651       0.07       1.1960     1       0.0\n10  ISIC_0006671       0.03       1.1825     0       0.0\n11  ISIC_0006815       0.01       0.6144     0       0.0\n12  ISIC_0006914       0.07       1.0374     0       0.0\n13  ISIC_0007141       0.14       1.1496     0       0.0\n14  ISIC_0007156       0.06       1.1861     0       0.0\n15  ISIC_0007235       0.02       1.1775     0       0.0\n16  ISIC_0007241       0.07       1.1233     0       0.0\n17  ISIC_0007332       0.07       1.1706     0       0.0\n18  ISIC_0007344       0.11       0.9534     0       0.0\n19  ISIC_0007528       0.03       1.2390     0       0.0\n20  ISIC_0007796       0.05       1.1348     0       0.0\n21  ISIC_0008025       0.10       1.1377     0       0.0\n22  ISIC_0008524       0.03       0.8073     0       0.0\n23  ISIC_0009995       0.12       0.9966     1       0.0\n24  ISIC_0010459       0.15       1.1311     1       0.0\n25  ISIC_0012099       0.01       0.6072     0       1.0\n26  ISIC_0012109       0.01       0.5888     0       0.0\n27  ISIC_0012126       0.01       0.5941     0       0.0\n28  ISIC_0012127       0.01       1.1007     1       0.0\n29  ISIC_0012143       0.06       0.5093     0       0.0\n30  ISIC_0012151       0.09       0.5587     0       1.0\n31  ISIC_0012159       0.04       0.5033     0       0.0\n32  ISIC_0012160       0.01       0.4731     0       0.0\n33  ISIC_0012191       0.01       1.0872     0       0.0\n34  ISIC_0012201       0.02       0.5551     0       0.0\n35  ISIC_0012204       0.02       1.0579     0       0.0\n36  ISIC_0012206       0.04       0.5403     0       0.0\n37  ISIC_0012210       0.09       0.4237     0       0.0\n38  ISIC_0012221       0.00       0.6603     0       0.0\n39  ISIC_0012222       0.01       0.6434     0       0.0\n40  ISIC_0012254       0.10       0.6814     0       0.0\ntempdf:             ISIC  Assymetry  Compactness  Color  Melanoma\n0  ISIC_0012256       0.06       1.0625      0       0.0\nfeatures:              ISIC  Assymetry  Compactness Color  Melanoma\n0   ISIC_0001769       0.03       0.6703     0       0.0\n1   ISIC_0001852       0.01       0.8711     0       0.0\n2   ISIC_0001871       0.03       0.8713     0       0.0\n3   ISIC_0003462       0.03       1.1250     0       0.0\n4   ISIC_0003539       0.06       0.9361     0       0.0\n5   ISIC_0003582       0.10       1.0618     0       0.0\n6   ISIC_0003657       0.06       0.7796     0       0.0\n7   ISIC_0003805       0.03       0.8562     0       0.0\n8   ISIC_0004337       0.04       1.1416     0       0.0\n9   ISIC_0006651       0.07       1.1960     1       0.0\n10  ISIC_0006671       0.03       1.1825     0       0.0\n11  ISIC_0006815       0.01       0.6144     0       0.0\n12  ISIC_0006914       0.07       1.0374     0       0.0\n13  ISIC_0007141       0.14       1.1496     0       0.0\n14  ISIC_0007156       0.06       1.1861     0       0.0\n15  ISIC_0007235       0.02       1.1775     0       0.0\n16  ISIC_0007241       0.07       1.1233     0       0.0\n17  ISIC_0007332       0.07       1.1706     0       0.0\n18  ISIC_0007344       0.11       0.9534     0       0.0\n19  ISIC_0007528       0.03       1.2390     0       0.0\n20  ISIC_0007796       0.05       1.1348     0       0.0\n21  ISIC_0008025       0.10       1.1377     0       0.0\n22  ISIC_0008524       0.03       0.8073     0       0.0\n23  ISIC_0009995       0.12       0.9966     1       0.0\n24  ISIC_0010459       0.15       1.1311     1       0.0\n25  ISIC_0012099       0.01       0.6072     0       1.0\n26  ISIC_0012109       0.01       0.5888     0       0.0\n27  ISIC_0012126       0.01       0.5941     0       0.0\n28  ISIC_0012127       0.01       1.1007     1       0.0\n29  ISIC_0012143       0.06       0.5093     0       0.0\n30  ISIC_0012151       0.09       0.5587     0       1.0\n31  ISIC_0012159       0.04       0.5033     0       0.0\n32  ISIC_0012160       0.01       0.4731     0       0.0\n33  ISIC_0012191       0.01       1.0872     0       0.0\n34  ISIC_0012201       0.02       0.5551     0       0.0\n35  ISIC_0012204       0.02       1.0579     0       0.0\n36  ISIC_0012206       0.04       0.5403     0       0.0\n37  ISIC_0012210       0.09       0.4237     0       0.0\n38  ISIC_0012221       0.00       0.6603     0       0.0\n39  ISIC_0012222       0.01       0.6434     0       0.0\n40  ISIC_0012254       0.10       0.6814     0       0.0\n41  ISIC_0012256       0.06       1.0625     0       0.0\ntempdf:             ISIC  Assymetry  Compactness  Color  Melanoma\n0  ISIC_0012288       0.03       0.5461      0       1.0\nfeatures:              ISIC  Assymetry  Compactness Color  Melanoma\n0   ISIC_0001769       0.03       0.6703     0       0.0\n1   ISIC_0001852       0.01       0.8711     0       0.0\n2   ISIC_0001871       0.03       0.8713     0       0.0\n3   ISIC_0003462       0.03       1.1250     0       0.0\n4   ISIC_0003539       0.06       0.9361     0       0.0\n5   ISIC_0003582       0.10       1.0618     0       0.0\n6   ISIC_0003657       0.06       0.7796     0       0.0\n7   ISIC_0003805       0.03       0.8562     0       0.0\n8   ISIC_0004337       0.04       1.1416     0       0.0\n9   ISIC_0006651       0.07       1.1960     1       0.0\n10  ISIC_0006671       0.03       1.1825     0       0.0\n11  ISIC_0006815       0.01       0.6144     0       0.0\n12  ISIC_0006914       0.07       1.0374     0       0.0\n13  ISIC_0007141       0.14       1.1496     0       0.0\n14  ISIC_0007156       0.06       1.1861     0       0.0\n15  ISIC_0007235       0.02       1.1775     0       0.0\n16  ISIC_0007241       0.07       1.1233     0       0.0\n17  ISIC_0007332       0.07       1.1706     0       0.0\n18  ISIC_0007344       0.11       0.9534     0       0.0\n19  ISIC_0007528       0.03       1.2390     0       0.0\n20  ISIC_0007796       0.05       1.1348     0       0.0\n21  ISIC_0008025       0.10       1.1377     0       0.0\n22  ISIC_0008524       0.03       0.8073     0       0.0\n23  ISIC_0009995       0.12       0.9966     1       0.0\n24  ISIC_0010459       0.15       1.1311     1       0.0\n25  ISIC_0012099       0.01       0.6072     0       1.0\n26  ISIC_0012109       0.01       0.5888     0       0.0\n27  ISIC_0012126       0.01       0.5941     0       0.0\n28  ISIC_0012127       0.01       1.1007     1       0.0\n29  ISIC_0012143       0.06       0.5093     0       0.0\n30  ISIC_0012151       0.09       0.5587     0       1.0\n31  ISIC_0012159       0.04       0.5033     0       0.0\n32  ISIC_0012160       0.01       0.4731     0       0.0\n33  ISIC_0012191       0.01       1.0872     0       0.0\n34  ISIC_0012201       0.02       0.5551     0       0.0\n35  ISIC_0012204       0.02       1.0579     0       0.0\n36  ISIC_0012206       0.04       0.5403     0       0.0\n37  ISIC_0012210       0.09       0.4237     0       0.0\n38  ISIC_0012221       0.00       0.6603     0       0.0\n39  ISIC_0012222       0.01       0.6434     0       0.0\n40  ISIC_0012254       0.10       0.6814     0       0.0\n41  ISIC_0012256       0.06       1.0625     0       0.0\n42  ISIC_0012288       0.03       0.5461     0       1.0\ntempdf:             ISIC  Assymetry  Compactness  Color  Melanoma\n0  ISIC_0012306       0.01        0.601      0       0.0\nfeatures:              ISIC  Assymetry  Compactness Color  Melanoma\n0   ISIC_0001769       0.03       0.6703     0       0.0\n1   ISIC_0001852       0.01       0.8711     0       0.0\n2   ISIC_0001871       0.03       0.8713     0       0.0\n3   ISIC_0003462       0.03       1.1250     0       0.0\n4   ISIC_0003539       0.06       0.9361     0       0.0\n5   ISIC_0003582       0.10       1.0618     0       0.0\n6   ISIC_0003657       0.06       0.7796     0       0.0\n7   ISIC_0003805       0.03       0.8562     0       0.0\n8   ISIC_0004337       0.04       1.1416     0       0.0\n9   ISIC_0006651       0.07       1.1960     1       0.0\n10  ISIC_0006671       0.03       1.1825     0       0.0\n11  ISIC_0006815       0.01       0.6144     0       0.0\n12  ISIC_0006914       0.07       1.0374     0       0.0\n13  ISIC_0007141       0.14       1.1496     0       0.0\n14  ISIC_0007156       0.06       1.1861     0       0.0\n15  ISIC_0007235       0.02       1.1775     0       0.0\n16  ISIC_0007241       0.07       1.1233     0       0.0\n17  ISIC_0007332       0.07       1.1706     0       0.0\n18  ISIC_0007344       0.11       0.9534     0       0.0\n19  ISIC_0007528       0.03       1.2390     0       0.0\n20  ISIC_0007796       0.05       1.1348     0       0.0\n21  ISIC_0008025       0.10       1.1377     0       0.0\n22  ISIC_0008524       0.03       0.8073     0       0.0\n23  ISIC_0009995       0.12       0.9966     1       0.0\n24  ISIC_0010459       0.15       1.1311     1       0.0\n25  ISIC_0012099       0.01       0.6072     0       1.0\n26  ISIC_0012109       0.01       0.5888     0       0.0\n27  ISIC_0012126       0.01       0.5941     0       0.0\n28  ISIC_0012127       0.01       1.1007     1       0.0\n29  ISIC_0012143       0.06       0.5093     0       0.0\n30  ISIC_0012151       0.09       0.5587     0       1.0\n31  ISIC_0012159       0.04       0.5033     0       0.0\n32  ISIC_0012160       0.01       0.4731     0       0.0\n33  ISIC_0012191       0.01       1.0872     0       0.0\n34  ISIC_0012201       0.02       0.5551     0       0.0\n35  ISIC_0012204       0.02       1.0579     0       0.0\n36  ISIC_0012206       0.04       0.5403     0       0.0\n37  ISIC_0012210       0.09       0.4237     0       0.0\n38  ISIC_0012221       0.00       0.6603     0       0.0\n39  ISIC_0012222       0.01       0.6434     0       0.0\n40  ISIC_0012254       0.10       0.6814     0       0.0\n41  ISIC_0012256       0.06       1.0625     0       0.0\n42  ISIC_0012288       0.03       0.5461     0       1.0\n43  ISIC_0012306       0.01       0.6010     0       0.0\ntempdf:             ISIC  Assymetry  Compactness  Color  Melanoma\n0  ISIC_0012313       0.01       0.6285      0       0.0\nfeatures:              ISIC  Assymetry  Compactness Color  Melanoma\n0   ISIC_0001769       0.03       0.6703     0       0.0\n1   ISIC_0001852       0.01       0.8711     0       0.0\n2   ISIC_0001871       0.03       0.8713     0       0.0\n3   ISIC_0003462       0.03       1.1250     0       0.0\n4   ISIC_0003539       0.06       0.9361     0       0.0\n5   ISIC_0003582       0.10       1.0618     0       0.0\n6   ISIC_0003657       0.06       0.7796     0       0.0\n7   ISIC_0003805       0.03       0.8562     0       0.0\n8   ISIC_0004337       0.04       1.1416     0       0.0\n9   ISIC_0006651       0.07       1.1960     1       0.0\n10  ISIC_0006671       0.03       1.1825     0       0.0\n11  ISIC_0006815       0.01       0.6144     0       0.0\n12  ISIC_0006914       0.07       1.0374     0       0.0\n13  ISIC_0007141       0.14       1.1496     0       0.0\n14  ISIC_0007156       0.06       1.1861     0       0.0\n15  ISIC_0007235       0.02       1.1775     0       0.0\n16  ISIC_0007241       0.07       1.1233     0       0.0\n17  ISIC_0007332       0.07       1.1706     0       0.0\n18  ISIC_0007344       0.11       0.9534     0       0.0\n19  ISIC_0007528       0.03       1.2390     0       0.0\n20  ISIC_0007796       0.05       1.1348     0       0.0\n21  ISIC_0008025       0.10       1.1377     0       0.0\n22  ISIC_0008524       0.03       0.8073     0       0.0\n23  ISIC_0009995       0.12       0.9966     1       0.0\n24  ISIC_0010459       0.15       1.1311     1       0.0\n25  ISIC_0012099       0.01       0.6072     0       1.0\n26  ISIC_0012109       0.01       0.5888     0       0.0\n27  ISIC_0012126       0.01       0.5941     0       0.0\n28  ISIC_0012127       0.01       1.1007     1       0.0\n29  ISIC_0012143       0.06       0.5093     0       0.0\n30  ISIC_0012151       0.09       0.5587     0       1.0\n31  ISIC_0012159       0.04       0.5033     0       0.0\n32  ISIC_0012160       0.01       0.4731     0       0.0\n33  ISIC_0012191       0.01       1.0872     0       0.0\n34  ISIC_0012201       0.02       0.5551     0       0.0\n35  ISIC_0012204       0.02       1.0579     0       0.0\n36  ISIC_0012206       0.04       0.5403     0       0.0\n37  ISIC_0012210       0.09       0.4237     0       0.0\n38  ISIC_0012221       0.00       0.6603     0       0.0\n39  ISIC_0012222       0.01       0.6434     0       0.0\n40  ISIC_0012254       0.10       0.6814     0       0.0\n41  ISIC_0012256       0.06       1.0625     0       0.0\n42  ISIC_0012288       0.03       0.5461     0       1.0\n43  ISIC_0012306       0.01       0.6010     0       0.0\n44  ISIC_0012313       0.01       0.6285     0       0.0\ntempdf:             ISIC  Assymetry  Compactness  Color  Melanoma\n0  ISIC_0012316        0.0       0.5916      0       0.0\nfeatures:              ISIC  Assymetry  Compactness Color  Melanoma\n0   ISIC_0001769       0.03       0.6703     0       0.0\n1   ISIC_0001852       0.01       0.8711     0       0.0\n2   ISIC_0001871       0.03       0.8713     0       0.0\n3   ISIC_0003462       0.03       1.1250     0       0.0\n4   ISIC_0003539       0.06       0.9361     0       0.0\n5   ISIC_0003582       0.10       1.0618     0       0.0\n6   ISIC_0003657       0.06       0.7796     0       0.0\n7   ISIC_0003805       0.03       0.8562     0       0.0\n8   ISIC_0004337       0.04       1.1416     0       0.0\n9   ISIC_0006651       0.07       1.1960     1       0.0\n10  ISIC_0006671       0.03       1.1825     0       0.0\n11  ISIC_0006815       0.01       0.6144     0       0.0\n12  ISIC_0006914       0.07       1.0374     0       0.0\n13  ISIC_0007141       0.14       1.1496     0       0.0\n14  ISIC_0007156       0.06       1.1861     0       0.0\n15  ISIC_0007235       0.02       1.1775     0       0.0\n16  ISIC_0007241       0.07       1.1233     0       0.0\n17  ISIC_0007332       0.07       1.1706     0       0.0\n18  ISIC_0007344       0.11       0.9534     0       0.0\n19  ISIC_0007528       0.03       1.2390     0       0.0\n20  ISIC_0007796       0.05       1.1348     0       0.0\n21  ISIC_0008025       0.10       1.1377     0       0.0\n22  ISIC_0008524       0.03       0.8073     0       0.0\n23  ISIC_0009995       0.12       0.9966     1       0.0\n24  ISIC_0010459       0.15       1.1311     1       0.0\n25  ISIC_0012099       0.01       0.6072     0       1.0\n26  ISIC_0012109       0.01       0.5888     0       0.0\n27  ISIC_0012126       0.01       0.5941     0       0.0\n28  ISIC_0012127       0.01       1.1007     1       0.0\n29  ISIC_0012143       0.06       0.5093     0       0.0\n30  ISIC_0012151       0.09       0.5587     0       1.0\n31  ISIC_0012159       0.04       0.5033     0       0.0\n32  ISIC_0012160       0.01       0.4731     0       0.0\n33  ISIC_0012191       0.01       1.0872     0       0.0\n34  ISIC_0012201       0.02       0.5551     0       0.0\n35  ISIC_0012204       0.02       1.0579     0       0.0\n36  ISIC_0012206       0.04       0.5403     0       0.0\n37  ISIC_0012210       0.09       0.4237     0       0.0\n38  ISIC_0012221       0.00       0.6603     0       0.0\n39  ISIC_0012222       0.01       0.6434     0       0.0\n40  ISIC_0012254       0.10       0.6814     0       0.0\n41  ISIC_0012256       0.06       1.0625     0       0.0\n42  ISIC_0012288       0.03       0.5461     0       1.0\n43  ISIC_0012306       0.01       0.6010     0       0.0\n44  ISIC_0012313       0.01       0.6285     0       0.0\n45  ISIC_0012316       0.00       0.5916     0       0.0\ntempdf:             ISIC  Assymetry  Compactness  Color  Melanoma\n0  ISIC_0012335       0.01       0.5773      0       0.0\nfeatures:              ISIC  Assymetry  Compactness Color  Melanoma\n0   ISIC_0001769       0.03       0.6703     0       0.0\n1   ISIC_0001852       0.01       0.8711     0       0.0\n2   ISIC_0001871       0.03       0.8713     0       0.0\n3   ISIC_0003462       0.03       1.1250     0       0.0\n4   ISIC_0003539       0.06       0.9361     0       0.0\n5   ISIC_0003582       0.10       1.0618     0       0.0\n6   ISIC_0003657       0.06       0.7796     0       0.0\n7   ISIC_0003805       0.03       0.8562     0       0.0\n8   ISIC_0004337       0.04       1.1416     0       0.0\n9   ISIC_0006651       0.07       1.1960     1       0.0\n10  ISIC_0006671       0.03       1.1825     0       0.0\n11  ISIC_0006815       0.01       0.6144     0       0.0\n12  ISIC_0006914       0.07       1.0374     0       0.0\n13  ISIC_0007141       0.14       1.1496     0       0.0\n14  ISIC_0007156       0.06       1.1861     0       0.0\n15  ISIC_0007235       0.02       1.1775     0       0.0\n16  ISIC_0007241       0.07       1.1233     0       0.0\n17  ISIC_0007332       0.07       1.1706     0       0.0\n18  ISIC_0007344       0.11       0.9534     0       0.0\n19  ISIC_0007528       0.03       1.2390     0       0.0\n20  ISIC_0007796       0.05       1.1348     0       0.0\n21  ISIC_0008025       0.10       1.1377     0       0.0\n22  ISIC_0008524       0.03       0.8073     0       0.0\n23  ISIC_0009995       0.12       0.9966     1       0.0\n24  ISIC_0010459       0.15       1.1311     1       0.0\n25  ISIC_0012099       0.01       0.6072     0       1.0\n26  ISIC_0012109       0.01       0.5888     0       0.0\n27  ISIC_0012126       0.01       0.5941     0       0.0\n28  ISIC_0012127       0.01       1.1007     1       0.0\n29  ISIC_0012143       0.06       0.5093     0       0.0\n30  ISIC_0012151       0.09       0.5587     0       1.0\n31  ISIC_0012159       0.04       0.5033     0       0.0\n32  ISIC_0012160       0.01       0.4731     0       0.0\n33  ISIC_0012191       0.01       1.0872     0       0.0\n34  ISIC_0012201       0.02       0.5551     0       0.0\n35  ISIC_0012204       0.02       1.0579     0       0.0\n36  ISIC_0012206       0.04       0.5403     0       0.0\n37  ISIC_0012210       0.09       0.4237     0       0.0\n38  ISIC_0012221       0.00       0.6603     0       0.0\n39  ISIC_0012222       0.01       0.6434     0       0.0\n40  ISIC_0012254       0.10       0.6814     0       0.0\n41  ISIC_0012256       0.06       1.0625     0       0.0\n42  ISIC_0012288       0.03       0.5461     0       1.0\n43  ISIC_0012306       0.01       0.6010     0       0.0\n44  ISIC_0012313       0.01       0.6285     0       0.0\n45  ISIC_0012316       0.00       0.5916     0       0.0\n46  ISIC_0012335       0.01       0.5773     0       0.0\ntempdf:             ISIC  Assymetry  Compactness  Color  Melanoma\n0  ISIC_0012380       0.01       1.2134      0       0.0\nfeatures:              ISIC  Assymetry  Compactness Color  Melanoma\n0   ISIC_0001769       0.03       0.6703     0       0.0\n1   ISIC_0001852       0.01       0.8711     0       0.0\n2   ISIC_0001871       0.03       0.8713     0       0.0\n3   ISIC_0003462       0.03       1.1250     0       0.0\n4   ISIC_0003539       0.06       0.9361     0       0.0\n5   ISIC_0003582       0.10       1.0618     0       0.0\n6   ISIC_0003657       0.06       0.7796     0       0.0\n7   ISIC_0003805       0.03       0.8562     0       0.0\n8   ISIC_0004337       0.04       1.1416     0       0.0\n9   ISIC_0006651       0.07       1.1960     1       0.0\n10  ISIC_0006671       0.03       1.1825     0       0.0\n11  ISIC_0006815       0.01       0.6144     0       0.0\n12  ISIC_0006914       0.07       1.0374     0       0.0\n13  ISIC_0007141       0.14       1.1496     0       0.0\n14  ISIC_0007156       0.06       1.1861     0       0.0\n15  ISIC_0007235       0.02       1.1775     0       0.0\n16  ISIC_0007241       0.07       1.1233     0       0.0\n17  ISIC_0007332       0.07       1.1706     0       0.0\n18  ISIC_0007344       0.11       0.9534     0       0.0\n19  ISIC_0007528       0.03       1.2390     0       0.0\n20  ISIC_0007796       0.05       1.1348     0       0.0\n21  ISIC_0008025       0.10       1.1377     0       0.0\n22  ISIC_0008524       0.03       0.8073     0       0.0\n23  ISIC_0009995       0.12       0.9966     1       0.0\n24  ISIC_0010459       0.15       1.1311     1       0.0\n25  ISIC_0012099       0.01       0.6072     0       1.0\n26  ISIC_0012109       0.01       0.5888     0       0.0\n27  ISIC_0012126       0.01       0.5941     0       0.0\n28  ISIC_0012127       0.01       1.1007     1       0.0\n29  ISIC_0012143       0.06       0.5093     0       0.0\n30  ISIC_0012151       0.09       0.5587     0       1.0\n31  ISIC_0012159       0.04       0.5033     0       0.0\n32  ISIC_0012160       0.01       0.4731     0       0.0\n33  ISIC_0012191       0.01       1.0872     0       0.0\n34  ISIC_0012201       0.02       0.5551     0       0.0\n35  ISIC_0012204       0.02       1.0579     0       0.0\n36  ISIC_0012206       0.04       0.5403     0       0.0\n37  ISIC_0012210       0.09       0.4237     0       0.0\n38  ISIC_0012221       0.00       0.6603     0       0.0\n39  ISIC_0012222       0.01       0.6434     0       0.0\n40  ISIC_0012254       0.10       0.6814     0       0.0\n41  ISIC_0012256       0.06       1.0625     0       0.0\n42  ISIC_0012288       0.03       0.5461     0       1.0\n43  ISIC_0012306       0.01       0.6010     0       0.0\n44  ISIC_0012313       0.01       0.6285     0       0.0\n45  ISIC_0012316       0.00       0.5916     0       0.0\n46  ISIC_0012335       0.01       0.5773     0       0.0\n47  ISIC_0012380       0.01       1.2134     0       0.0\ntempdf:             ISIC  Assymetry  Compactness  Color  Melanoma\n0  ISIC_0012383       0.03       0.6035      0       0.0\nfeatures:              ISIC  Assymetry  Compactness Color  Melanoma\n0   ISIC_0001769       0.03       0.6703     0       0.0\n1   ISIC_0001852       0.01       0.8711     0       0.0\n2   ISIC_0001871       0.03       0.8713     0       0.0\n3   ISIC_0003462       0.03       1.1250     0       0.0\n4   ISIC_0003539       0.06       0.9361     0       0.0\n5   ISIC_0003582       0.10       1.0618     0       0.0\n6   ISIC_0003657       0.06       0.7796     0       0.0\n7   ISIC_0003805       0.03       0.8562     0       0.0\n8   ISIC_0004337       0.04       1.1416     0       0.0\n9   ISIC_0006651       0.07       1.1960     1       0.0\n10  ISIC_0006671       0.03       1.1825     0       0.0\n11  ISIC_0006815       0.01       0.6144     0       0.0\n12  ISIC_0006914       0.07       1.0374     0       0.0\n13  ISIC_0007141       0.14       1.1496     0       0.0\n14  ISIC_0007156       0.06       1.1861     0       0.0\n15  ISIC_0007235       0.02       1.1775     0       0.0\n16  ISIC_0007241       0.07       1.1233     0       0.0\n17  ISIC_0007332       0.07       1.1706     0       0.0\n18  ISIC_0007344       0.11       0.9534     0       0.0\n19  ISIC_0007528       0.03       1.2390     0       0.0\n20  ISIC_0007796       0.05       1.1348     0       0.0\n21  ISIC_0008025       0.10       1.1377     0       0.0\n22  ISIC_0008524       0.03       0.8073     0       0.0\n23  ISIC_0009995       0.12       0.9966     1       0.0\n24  ISIC_0010459       0.15       1.1311     1       0.0\n25  ISIC_0012099       0.01       0.6072     0       1.0\n26  ISIC_0012109       0.01       0.5888     0       0.0\n27  ISIC_0012126       0.01       0.5941     0       0.0\n28  ISIC_0012127       0.01       1.1007     1       0.0\n29  ISIC_0012143       0.06       0.5093     0       0.0\n30  ISIC_0012151       0.09       0.5587     0       1.0\n31  ISIC_0012159       0.04       0.5033     0       0.0\n32  ISIC_0012160       0.01       0.4731     0       0.0\n33  ISIC_0012191       0.01       1.0872     0       0.0\n34  ISIC_0012201       0.02       0.5551     0       0.0\n35  ISIC_0012204       0.02       1.0579     0       0.0\n36  ISIC_0012206       0.04       0.5403     0       0.0\n37  ISIC_0012210       0.09       0.4237     0       0.0\n38  ISIC_0012221       0.00       0.6603     0       0.0\n39  ISIC_0012222       0.01       0.6434     0       0.0\n40  ISIC_0012254       0.10       0.6814     0       0.0\n41  ISIC_0012256       0.06       1.0625     0       0.0\n42  ISIC_0012288       0.03       0.5461     0       1.0\n43  ISIC_0012306       0.01       0.6010     0       0.0\n44  ISIC_0012313       0.01       0.6285     0       0.0\n45  ISIC_0012316       0.00       0.5916     0       0.0\n46  ISIC_0012335       0.01       0.5773     0       0.0\n47  ISIC_0012380       0.01       1.2134     0       0.0\n48  ISIC_0012383       0.03       0.6035     0       0.0\ntempdf:             ISIC  Assymetry  Compactness  Color  Melanoma\n0  ISIC_0012400       0.05       0.9797      0       0.0\nfeatures:              ISIC  Assymetry  Compactness Color  Melanoma\n0   ISIC_0001769       0.03       0.6703     0       0.0\n1   ISIC_0001852       0.01       0.8711     0       0.0\n2   ISIC_0001871       0.03       0.8713     0       0.0\n3   ISIC_0003462       0.03       1.1250     0       0.0\n4   ISIC_0003539       0.06       0.9361     0       0.0\n5   ISIC_0003582       0.10       1.0618     0       0.0\n6   ISIC_0003657       0.06       0.7796     0       0.0\n7   ISIC_0003805       0.03       0.8562     0       0.0\n8   ISIC_0004337       0.04       1.1416     0       0.0\n9   ISIC_0006651       0.07       1.1960     1       0.0\n10  ISIC_0006671       0.03       1.1825     0       0.0\n11  ISIC_0006815       0.01       0.6144     0       0.0\n12  ISIC_0006914       0.07       1.0374     0       0.0\n13  ISIC_0007141       0.14       1.1496     0       0.0\n14  ISIC_0007156       0.06       1.1861     0       0.0\n15  ISIC_0007235       0.02       1.1775     0       0.0\n16  ISIC_0007241       0.07       1.1233     0       0.0\n17  ISIC_0007332       0.07       1.1706     0       0.0\n18  ISIC_0007344       0.11       0.9534     0       0.0\n19  ISIC_0007528       0.03       1.2390     0       0.0\n20  ISIC_0007796       0.05       1.1348     0       0.0\n21  ISIC_0008025       0.10       1.1377     0       0.0\n22  ISIC_0008524       0.03       0.8073     0       0.0\n23  ISIC_0009995       0.12       0.9966     1       0.0\n24  ISIC_0010459       0.15       1.1311     1       0.0\n25  ISIC_0012099       0.01       0.6072     0       1.0\n26  ISIC_0012109       0.01       0.5888     0       0.0\n27  ISIC_0012126       0.01       0.5941     0       0.0\n28  ISIC_0012127       0.01       1.1007     1       0.0\n29  ISIC_0012143       0.06       0.5093     0       0.0\n30  ISIC_0012151       0.09       0.5587     0       1.0\n31  ISIC_0012159       0.04       0.5033     0       0.0\n32  ISIC_0012160       0.01       0.4731     0       0.0\n33  ISIC_0012191       0.01       1.0872     0       0.0\n34  ISIC_0012201       0.02       0.5551     0       0.0\n35  ISIC_0012204       0.02       1.0579     0       0.0\n36  ISIC_0012206       0.04       0.5403     0       0.0\n37  ISIC_0012210       0.09       0.4237     0       0.0\n38  ISIC_0012221       0.00       0.6603     0       0.0\n39  ISIC_0012222       0.01       0.6434     0       0.0\n40  ISIC_0012254       0.10       0.6814     0       0.0\n41  ISIC_0012256       0.06       1.0625     0       0.0\n42  ISIC_0012288       0.03       0.5461     0       1.0\n43  ISIC_0012306       0.01       0.6010     0       0.0\n44  ISIC_0012313       0.01       0.6285     0       0.0\n45  ISIC_0012316       0.00       0.5916     0       0.0\n46  ISIC_0012335       0.01       0.5773     0       0.0\n47  ISIC_0012380       0.01       1.2134     0       0.0\n48  ISIC_0012383       0.03       0.6035     0       0.0\n49  ISIC_0012400       0.05       0.9797     0       0.0\n    Assymetry  Compactness Color\n0        0.03       0.6703     0\n1        0.01       0.8711     0\n2        0.03       0.8713     0\n3        0.03       1.1250     0\n4        0.06       0.9361     0\n5        0.10       1.0618     0\n6        0.06       0.7796     0\n7        0.03       0.8562     0\n8        0.04       1.1416     0\n9        0.07       1.1960     1\n10       0.03       1.1825     0\n11       0.01       0.6144     0\n12       0.07       1.0374     0\n13       0.14       1.1496     0\n14       0.06       1.1861     0\n15       0.02       1.1775     0\n16       0.07       1.1233     0\n17       0.07       1.1706     0\n18       0.11       0.9534     0\n19       0.03       1.2390     0\n20       0.05       1.1348     0\n21       0.10       1.1377     0\n22       0.03       0.8073     0\n23       0.12       0.9966     1\n24       0.15       1.1311     1\n25       0.01       0.6072     0\n26       0.01       0.5888     0\n27       0.01       0.5941     0\n28       0.01       1.1007     1\n29       0.06       0.5093     0\n30       0.09       0.5587     0\n31       0.04       0.5033     0\n32       0.01       0.4731     0\n33       0.01       1.0872     0\n34       0.02       0.5551     0\n35       0.02       1.0579     0\n36       0.04       0.5403     0\n37       0.09       0.4237     0\n38       0.00       0.6603     0\n39       0.01       0.6434     0\n40       0.10       0.6814     0\n41       0.06       1.0625     0\n42       0.03       0.5461     0\n43       0.01       0.6010     0\n44       0.01       0.6285     0\n45       0.00       0.5916     0\n46       0.01       0.5773     0\n47       0.01       1.2134     0\n48       0.03       0.6035     0\n49       0.05       0.9797     0\n0     0.0\n1     0.0\n2     0.0\n3     0.0\n4     0.0\n5     0.0\n6     0.0\n7     0.0\n8     0.0\n9     0.0\n10    0.0\n11    0.0\n12    0.0\n13    0.0\n14    0.0\n15    0.0\n16    0.0\n17    0.0\n18    0.0\n19    0.0\n20    0.0\n21    0.0\n22    0.0\n23    0.0\n24    0.0\n25    1.0\n26    0.0\n27    0.0\n28    0.0\n29    0.0\n30    1.0\n31    0.0\n32    0.0\n33    0.0\n34    0.0\n35    0.0\n36    0.0\n37    0.0\n38    0.0\n39    0.0\n40    0.0\n41    0.0\n42    1.0\n43    0.0\n44    0.0\n45    0.0\n46    0.0\n47    0.0\n48    0.0\n49    0.0\nName: Melanoma, dtype: float64\nAccuracy (using numpy)\nknn 1: 80.0\nknn 3: 90.0\nknn log: 90.0\ntree: 80.0\ngauss: 90.0\nAccuracy score\nknn 1: 0.8\nknn 3: 0.9\nknn log: 0.9\ntree: 0.8\ngauss: 0.9\nroc auc score\nknn1: 0.4444444444444444\nknn3: 0.5\nknnlog: 0.5\ntree: 0.4444444444444444\ngauss: 0.5\n",
     "output_type": "stream"
    }
   ]
  },
  {
   "cell_type": "code",
   "metadata": {
    "cell_id": "2c145c36d6604156b06d24ec1a0f9b7a",
    "tags": [],
    "deepnote_to_be_reexecuted": false,
    "source_hash": "cea5d306",
    "execution_start": 1649088694133,
    "execution_millis": 64,
    "deepnote_cell_type": "code",
    "deepnote_cell_height": 421
   },
   "source": "df = pd.DataFrame(columns=['ISIC', 'Assymetry', 'Compactness', 'Color', 'Melanoma'], index=['im'])\ndf2 = pd.DataFrame(\n        [[1, 2, 3, 4, 5]], \n        columns=['ISIC', 'Assymetry', 'Compactness', 'Color', 'Melanoma'], index=['ig'])\n\ndf.append(df2)\n\ndf",
   "execution_count": null,
   "outputs": [
    {
     "name": "stdout",
     "text": "   ISIC Assymetry Compactness Color Melanoma\nim  NaN       NaN         NaN   NaN      NaN\n",
     "output_type": "stream"
    },
    {
     "output_type": "execute_result",
     "execution_count": 48,
     "data": {
      "application/vnd.deepnote.dataframe.v3+json": {
       "column_count": 5,
       "row_count": 1,
       "columns": [
        {
         "name": "ISIC",
         "dtype": "object",
         "stats": {
          "unique_count": 0,
          "nan_count": 1,
          "categories": [
           {
            "name": "Missing",
            "count": 1
           }
          ]
         }
        },
        {
         "name": "Assymetry",
         "dtype": "object",
         "stats": {
          "unique_count": 0,
          "nan_count": 1,
          "categories": [
           {
            "name": "Missing",
            "count": 1
           }
          ]
         }
        },
        {
         "name": "Compactness",
         "dtype": "object",
         "stats": {
          "unique_count": 0,
          "nan_count": 1,
          "categories": [
           {
            "name": "Missing",
            "count": 1
           }
          ]
         }
        },
        {
         "name": "Color",
         "dtype": "object",
         "stats": {
          "unique_count": 0,
          "nan_count": 1,
          "categories": [
           {
            "name": "Missing",
            "count": 1
           }
          ]
         }
        },
        {
         "name": "Melanoma",
         "dtype": "object",
         "stats": {
          "unique_count": 0,
          "nan_count": 1,
          "categories": [
           {
            "name": "Missing",
            "count": 1
           }
          ]
         }
        },
        {
         "name": "_deepnote_index_column",
         "dtype": "object"
        }
       ],
       "rows": [
        {
         "ISIC": "nan",
         "Assymetry": "nan",
         "Compactness": "nan",
         "Color": "nan",
         "Melanoma": "nan",
         "_deepnote_index_column": "im"
        }
       ]
      },
      "text/plain": "   ISIC Assymetry Compactness Color Melanoma\nim  NaN       NaN         NaN   NaN      NaN",
      "text/html": "<div>\n<style scoped>\n    .dataframe tbody tr th:only-of-type {\n        vertical-align: middle;\n    }\n\n    .dataframe tbody tr th {\n        vertical-align: top;\n    }\n\n    .dataframe thead th {\n        text-align: right;\n    }\n</style>\n<table border=\"1\" class=\"dataframe\">\n  <thead>\n    <tr style=\"text-align: right;\">\n      <th></th>\n      <th>ISIC</th>\n      <th>Assymetry</th>\n      <th>Compactness</th>\n      <th>Color</th>\n      <th>Melanoma</th>\n    </tr>\n  </thead>\n  <tbody>\n    <tr>\n      <th>im</th>\n      <td>NaN</td>\n      <td>NaN</td>\n      <td>NaN</td>\n      <td>NaN</td>\n      <td>NaN</td>\n    </tr>\n  </tbody>\n</table>\n</div>"
     },
     "metadata": {}
    }
   ]
  },
  {
   "cell_type": "code",
   "metadata": {
    "cell_id": "3c77ebdb2e294c0f9af934f914afeb5e",
    "tags": [],
    "deepnote_to_be_reexecuted": false,
    "source_hash": "3b6dd96c",
    "execution_start": 1649088733732,
    "execution_millis": 56,
    "deepnote_table_state": {
     "pageSize": 25,
     "pageIndex": 0,
     "filters": [],
     "sortBy": []
    },
    "deepnote_table_loading": false,
    "deepnote_cell_type": "code",
    "deepnote_cell_height": 360
   },
   "source": "df = pd.DataFrame([[1, 2], [3, 4]], columns=list('AB'), index=['x', 'y'])\n\ndf2 = pd.DataFrame([[5, 6], [7, 8]], columns=list('AB'), index=['x', 'y'])\ndf.append(df2)\n\ndf",
   "execution_count": null,
   "outputs": [
    {
     "output_type": "execute_result",
     "execution_count": 52,
     "data": {
      "application/vnd.deepnote.dataframe.v3+json": {
       "column_count": 2,
       "row_count": 2,
       "columns": [
        {
         "name": "A",
         "dtype": "int64",
         "stats": {
          "unique_count": 2,
          "nan_count": 0,
          "min": "1",
          "max": "3",
          "histogram": [
           {
            "bin_start": 1,
            "bin_end": 1.2,
            "count": 1
           },
           {
            "bin_start": 1.2,
            "bin_end": 1.4,
            "count": 0
           },
           {
            "bin_start": 1.4,
            "bin_end": 1.6,
            "count": 0
           },
           {
            "bin_start": 1.6,
            "bin_end": 1.8,
            "count": 0
           },
           {
            "bin_start": 1.8,
            "bin_end": 2,
            "count": 0
           },
           {
            "bin_start": 2,
            "bin_end": 2.2,
            "count": 0
           },
           {
            "bin_start": 2.2,
            "bin_end": 2.4000000000000004,
            "count": 0
           },
           {
            "bin_start": 2.4000000000000004,
            "bin_end": 2.6,
            "count": 0
           },
           {
            "bin_start": 2.6,
            "bin_end": 2.8,
            "count": 0
           },
           {
            "bin_start": 2.8,
            "bin_end": 3,
            "count": 1
           }
          ]
         }
        },
        {
         "name": "B",
         "dtype": "int64",
         "stats": {
          "unique_count": 2,
          "nan_count": 0,
          "min": "2",
          "max": "4",
          "histogram": [
           {
            "bin_start": 2,
            "bin_end": 2.2,
            "count": 1
           },
           {
            "bin_start": 2.2,
            "bin_end": 2.4,
            "count": 0
           },
           {
            "bin_start": 2.4,
            "bin_end": 2.6,
            "count": 0
           },
           {
            "bin_start": 2.6,
            "bin_end": 2.8,
            "count": 0
           },
           {
            "bin_start": 2.8,
            "bin_end": 3,
            "count": 0
           },
           {
            "bin_start": 3,
            "bin_end": 3.2,
            "count": 0
           },
           {
            "bin_start": 3.2,
            "bin_end": 3.4000000000000004,
            "count": 0
           },
           {
            "bin_start": 3.4000000000000004,
            "bin_end": 3.6,
            "count": 0
           },
           {
            "bin_start": 3.6,
            "bin_end": 3.8,
            "count": 0
           },
           {
            "bin_start": 3.8,
            "bin_end": 4,
            "count": 1
           }
          ]
         }
        },
        {
         "name": "_deepnote_index_column",
         "dtype": "object"
        }
       ],
       "rows": [
        {
         "A": 1,
         "B": 2,
         "_deepnote_index_column": "x"
        },
        {
         "A": 3,
         "B": 4,
         "_deepnote_index_column": "y"
        }
       ]
      },
      "text/plain": "   A  B\nx  1  2\ny  3  4",
      "text/html": "<div>\n<style scoped>\n    .dataframe tbody tr th:only-of-type {\n        vertical-align: middle;\n    }\n\n    .dataframe tbody tr th {\n        vertical-align: top;\n    }\n\n    .dataframe thead th {\n        text-align: right;\n    }\n</style>\n<table border=\"1\" class=\"dataframe\">\n  <thead>\n    <tr style=\"text-align: right;\">\n      <th></th>\n      <th>A</th>\n      <th>B</th>\n    </tr>\n  </thead>\n  <tbody>\n    <tr>\n      <th>x</th>\n      <td>1</td>\n      <td>2</td>\n    </tr>\n    <tr>\n      <th>y</th>\n      <td>3</td>\n      <td>4</td>\n    </tr>\n  </tbody>\n</table>\n</div>"
     },
     "metadata": {}
    }
   ]
  },
  {
   "cell_type": "code",
   "metadata": {
    "cell_id": "7a19bee603f44bc2a512272225d929cc",
    "tags": [],
    "deepnote_cell_type": "code",
    "deepnote_cell_height": 66
   },
   "source": "",
   "execution_count": null,
   "outputs": []
  },
  {
   "cell_type": "markdown",
   "source": "<a style='text-decoration:none;line-height:16px;display:flex;color:#5B5B62;padding:10px;justify-content:end;' href='https://deepnote.com?utm_source=created-in-deepnote-cell&projectId=932aa97b-f6d2-4889-8f04-d6166675cc2f' target=\"_blank\">\n<img alt='Created in deepnote.com' style='display:inline;max-height:16px;margin:0px;margin-right:7.5px;' src='data:image/svg+xml;base64,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' > </img>\nCreated in <span style='font-weight:600;margin-left:4px;'>Deepnote</span></a>",
   "metadata": {
    "tags": [],
    "created_in_deepnote_cell": true,
    "deepnote_cell_type": "markdown"
   }
  }
 ],
 "nbformat": 4,
 "nbformat_minor": 2,
 "metadata": {
  "orig_nbformat": 2,
  "deepnote": {
   "is_reactive": false
  },
  "deepnote_notebook_id": "96a06088-7956-4476-b86c-c3ba1b9f6d28",
  "deepnote_execution_queue": []
 }
}