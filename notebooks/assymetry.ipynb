{
 "cells": [
  {
   "cell_type": "code",
   "metadata": {
    "cell_id": "dc8b8b4bcdff479d83da01b7195ca041",
    "tags": [],
    "deepnote_to_be_reexecuted": false,
    "source_hash": "3cfd4358",
    "execution_start": 1648734201933,
    "execution_millis": 2184,
    "deepnote_cell_type": "code",
    "deepnote_cell_height": 279
   },
   "source": "import Config\nimport numpy as np\nimport pandas as pd\n#import cv2\nimport matplotlib.pyplot as plt\n#import skimage as sk\nfrom PIL import Image  \nimport numpy as np\nimport os\nimport seaborn as sns\nimport ptitprince as pt\nimport matplotlib.collections as clt",
   "execution_count": null,
   "outputs": []
  },
  {
   "cell_type": "code",
   "metadata": {
    "cell_id": "f84068762b13410cb84a70c0cbfe8364",
    "tags": [],
    "deepnote_to_be_reexecuted": false,
    "source_hash": "c90a8a9b",
    "execution_start": 1648734204117,
    "execution_millis": 1,
    "deepnote_cell_type": "code",
    "deepnote_cell_height": 135
   },
   "source": "pic_segm = np.array(os.listdir('../data/example_segmentation'))\n\npics_segment= [y.replace('_segmentation.png', '') for y in pic_segm]\n",
   "execution_count": null,
   "outputs": []
  },
  {
   "cell_type": "code",
   "metadata": {
    "cell_id": "f1e01432417a45f6997e129ab9d8d58c",
    "tags": [],
    "deepnote_to_be_reexecuted": false,
    "source_hash": "9b36e434",
    "execution_start": 1648734204118,
    "execution_millis": 2,
    "deepnote_cell_type": "code",
    "deepnote_cell_height": 135
   },
   "source": "def get_assymetry(mask):\n    ''' get the assymetry for a given mask by folding it in half from multiple angles'''\n    return round(np.mean([assymetry(mask), assymetry(mask.rotate(30, expand= True)),assymetry(mask.rotate(60, expand= True)),assymetry(mask.rotate(90, expand= True))]),2)\n    ",
   "execution_count": null,
   "outputs": []
  },
  {
   "cell_type": "code",
   "metadata": {
    "cell_id": "d839dcade5c042c492341869402d1ec9",
    "tags": [],
    "deepnote_to_be_reexecuted": false,
    "source_hash": "926b9806",
    "execution_start": 1648734204120,
    "execution_millis": 11,
    "deepnote_cell_type": "code",
    "deepnote_cell_height": 405
   },
   "source": "def assymetry(mask):\n    ''' get the assymetry between the left and right part of a given binary mask '''\n    width, height = mask.size #mask should be quadratic and therefore have equal dimension\n    size = width * height\n\n    #check for uneven number of pixels (should not happen but just as a precaution)\n    if width %2 != 0:\n        raise TypeError(\"Uneven number of pixel and cannot be symmetric\")\n    \n    #cut in half and fold\n    left = mask.crop((0, 0, (width/2), height)) #left part of picture (left, top, right, bottom)\n    right = mask.crop(((width/2), 0, width, height)) #right part of picture\n    right = right.transpose(Image.FLIP_LEFT_RIGHT) #flip right part to compare\n\n    #get the binary difference between left an right\n    symmetry = np.where(np.array(left) != np.array(right), 1, 0)\n\n    return np.sum(symmetry) / (size/2) #the percentage of assymetry \n    ",
   "execution_count": null,
   "outputs": []
  },
  {
   "cell_type": "code",
   "metadata": {
    "cell_id": "1a0cc521f74f484db47a342f879ac81a",
    "tags": [],
    "deepnote_to_be_reexecuted": false,
    "source_hash": "2bb3b7ed",
    "execution_start": 1648734204147,
    "execution_millis": 0,
    "is_code_hidden": false,
    "deepnote_cell_type": "code",
    "deepnote_cell_height": 297
   },
   "source": "def cut_image(picture):\n    width, height = picture.size\n    image = np.array(picture)\n    \n    if width %2 != 0:\n        image = np.delete(image, -1, 1)\n\n    if height %2 != 0:\n        image = np.delete(image, -1, 0)\n\n    image = Image.fromarray(image)\n\n    return image",
   "execution_count": null,
   "outputs": []
  },
  {
   "cell_type": "code",
   "metadata": {
    "cell_id": "d3b7da1f7ab04590956a5a1fdd6f9c95",
    "tags": [],
    "deepnote_to_be_reexecuted": false,
    "source_hash": "872a0bb",
    "execution_start": 1648734204150,
    "execution_millis": 78081,
    "deepnote_cell_type": "code",
    "deepnote_cell_height": 189
   },
   "source": "assymetry_values = []\nfor i in range(len(pic_segm)):\n    path = \"../data/example_segmentation/\" + pic_segm[i]\n    image_file = Image.open(path) # open colour imag\n    image_file = cut_image(image_file)\n    pic_name= pic_segm[i].replace('_segmentation.png', '')\n    assymetry_values.append([pic_name,get_assymetry(image_file)])",
   "execution_count": null,
   "outputs": []
  },
  {
   "cell_type": "code",
   "metadata": {
    "cell_id": "ed434317e27e4edba2164d8079ff96b9",
    "tags": [],
    "deepnote_to_be_reexecuted": false,
    "source_hash": "b0b89e82",
    "execution_start": 1648734282246,
    "execution_millis": 103,
    "deepnote_table_state": {
     "pageSize": 10,
     "pageIndex": 2,
     "filters": [],
     "sortBy": []
    },
    "deepnote_table_loading": false,
    "deepnote_cell_type": "code",
    "deepnote_cell_height": 724
   },
   "source": "df = pd.read_csv(Config.example_ground_truth_path)\nfeatures_df = pd.read_csv(Config.features_path)\nasy = pd.DataFrame(assymetry_values, columns=[\"name\", \"assymetry\"])\nmerged =df.merge(asy,left_on= \"image_id\", right_on = \"name\")\n\nmerged.drop([\"name\", \"seborrheic_keratosis\"], axis=1)\n\n",
   "execution_count": null,
   "outputs": [
    {
     "output_type": "execute_result",
     "execution_count": 8,
     "data": {
      "application/vnd.deepnote.dataframe.v3+json": {
       "column_count": 3,
       "row_count": 150,
       "columns": [
        {
         "name": "image_id",
         "dtype": "object",
         "stats": {
          "unique_count": 150,
          "nan_count": 0,
          "categories": [
           {
            "name": "ISIC_0001769",
            "count": 1
           },
           {
            "name": "ISIC_0001852",
            "count": 1
           },
           {
            "name": "148 others",
            "count": 148
           }
          ]
         }
        },
        {
         "name": "melanoma",
         "dtype": "float64",
         "stats": {
          "unique_count": 2,
          "nan_count": 0,
          "min": "0.0",
          "max": "1.0",
          "histogram": [
           {
            "bin_start": 0,
            "bin_end": 0.1,
            "count": 120
           },
           {
            "bin_start": 0.1,
            "bin_end": 0.2,
            "count": 0
           },
           {
            "bin_start": 0.2,
            "bin_end": 0.30000000000000004,
            "count": 0
           },
           {
            "bin_start": 0.30000000000000004,
            "bin_end": 0.4,
            "count": 0
           },
           {
            "bin_start": 0.4,
            "bin_end": 0.5,
            "count": 0
           },
           {
            "bin_start": 0.5,
            "bin_end": 0.6000000000000001,
            "count": 0
           },
           {
            "bin_start": 0.6000000000000001,
            "bin_end": 0.7000000000000001,
            "count": 0
           },
           {
            "bin_start": 0.7000000000000001,
            "bin_end": 0.8,
            "count": 0
           },
           {
            "bin_start": 0.8,
            "bin_end": 0.9,
            "count": 0
           },
           {
            "bin_start": 0.9,
            "bin_end": 1,
            "count": 30
           }
          ]
         }
        },
        {
         "name": "assymetry",
         "dtype": "float64",
         "stats": {
          "unique_count": 24,
          "nan_count": 0,
          "min": "0.0",
          "max": "0.38",
          "histogram": [
           {
            "bin_start": 0,
            "bin_end": 0.038,
            "count": 64
           },
           {
            "bin_start": 0.038,
            "bin_end": 0.076,
            "count": 44
           },
           {
            "bin_start": 0.076,
            "bin_end": 0.11399999999999999,
            "count": 18
           },
           {
            "bin_start": 0.11399999999999999,
            "bin_end": 0.152,
            "count": 11
           },
           {
            "bin_start": 0.152,
            "bin_end": 0.19,
            "count": 6
           },
           {
            "bin_start": 0.19,
            "bin_end": 0.22799999999999998,
            "count": 4
           },
           {
            "bin_start": 0.22799999999999998,
            "bin_end": 0.266,
            "count": 1
           },
           {
            "bin_start": 0.266,
            "bin_end": 0.304,
            "count": 0
           },
           {
            "bin_start": 0.304,
            "bin_end": 0.34199999999999997,
            "count": 1
           },
           {
            "bin_start": 0.34199999999999997,
            "bin_end": 0.38,
            "count": 1
           }
          ]
         }
        },
        {
         "name": "_deepnote_index_column",
         "dtype": "int64"
        }
       ],
       "rows": [
        {
         "image_id": "ISIC_0007796",
         "melanoma": 0,
         "assymetry": 0.05,
         "_deepnote_index_column": 20
        },
        {
         "image_id": "ISIC_0008025",
         "melanoma": 0,
         "assymetry": 0.1,
         "_deepnote_index_column": 21
        },
        {
         "image_id": "ISIC_0008524",
         "melanoma": 0,
         "assymetry": 0.03,
         "_deepnote_index_column": 22
        },
        {
         "image_id": "ISIC_0009995",
         "melanoma": 0,
         "assymetry": 0.12,
         "_deepnote_index_column": 23
        },
        {
         "image_id": "ISIC_0010459",
         "melanoma": 0,
         "assymetry": 0.15,
         "_deepnote_index_column": 24
        },
        {
         "image_id": "ISIC_0012099",
         "melanoma": 1,
         "assymetry": 0.01,
         "_deepnote_index_column": 25
        },
        {
         "image_id": "ISIC_0012109",
         "melanoma": 0,
         "assymetry": 0.01,
         "_deepnote_index_column": 26
        },
        {
         "image_id": "ISIC_0012126",
         "melanoma": 0,
         "assymetry": 0.01,
         "_deepnote_index_column": 27
        },
        {
         "image_id": "ISIC_0012127",
         "melanoma": 0,
         "assymetry": 0.01,
         "_deepnote_index_column": 28
        },
        {
         "image_id": "ISIC_0012143",
         "melanoma": 0,
         "assymetry": 0.06,
         "_deepnote_index_column": 29
        }
       ]
      },
      "text/plain": "         image_id  melanoma  assymetry\n0    ISIC_0001769       0.0       0.03\n1    ISIC_0001852       0.0       0.01\n2    ISIC_0001871       0.0       0.03\n3    ISIC_0003462       0.0       0.03\n4    ISIC_0003539       0.0       0.06\n..            ...       ...        ...\n145  ISIC_0015443       0.0       0.06\n146  ISIC_0015445       0.0       0.38\n147  ISIC_0015483       0.0       0.09\n148  ISIC_0015496       0.0       0.12\n149  ISIC_0015627       0.0       0.07\n\n[150 rows x 3 columns]",
      "text/html": "<div>\n<style scoped>\n    .dataframe tbody tr th:only-of-type {\n        vertical-align: middle;\n    }\n\n    .dataframe tbody tr th {\n        vertical-align: top;\n    }\n\n    .dataframe thead th {\n        text-align: right;\n    }\n</style>\n<table border=\"1\" class=\"dataframe\">\n  <thead>\n    <tr style=\"text-align: right;\">\n      <th></th>\n      <th>image_id</th>\n      <th>melanoma</th>\n      <th>assymetry</th>\n    </tr>\n  </thead>\n  <tbody>\n    <tr>\n      <th>0</th>\n      <td>ISIC_0001769</td>\n      <td>0.0</td>\n      <td>0.03</td>\n    </tr>\n    <tr>\n      <th>1</th>\n      <td>ISIC_0001852</td>\n      <td>0.0</td>\n      <td>0.01</td>\n    </tr>\n    <tr>\n      <th>2</th>\n      <td>ISIC_0001871</td>\n      <td>0.0</td>\n      <td>0.03</td>\n    </tr>\n    <tr>\n      <th>3</th>\n      <td>ISIC_0003462</td>\n      <td>0.0</td>\n      <td>0.03</td>\n    </tr>\n    <tr>\n      <th>4</th>\n      <td>ISIC_0003539</td>\n      <td>0.0</td>\n      <td>0.06</td>\n    </tr>\n    <tr>\n      <th>...</th>\n      <td>...</td>\n      <td>...</td>\n      <td>...</td>\n    </tr>\n    <tr>\n      <th>145</th>\n      <td>ISIC_0015443</td>\n      <td>0.0</td>\n      <td>0.06</td>\n    </tr>\n    <tr>\n      <th>146</th>\n      <td>ISIC_0015445</td>\n      <td>0.0</td>\n      <td>0.38</td>\n    </tr>\n    <tr>\n      <th>147</th>\n      <td>ISIC_0015483</td>\n      <td>0.0</td>\n      <td>0.09</td>\n    </tr>\n    <tr>\n      <th>148</th>\n      <td>ISIC_0015496</td>\n      <td>0.0</td>\n      <td>0.12</td>\n    </tr>\n    <tr>\n      <th>149</th>\n      <td>ISIC_0015627</td>\n      <td>0.0</td>\n      <td>0.07</td>\n    </tr>\n  </tbody>\n</table>\n<p>150 rows × 3 columns</p>\n</div>"
     },
     "metadata": {}
    }
   ]
  },
  {
   "cell_type": "code",
   "metadata": {
    "cell_id": "ac8c46a8bfb44e52a06427d435d0e850",
    "tags": [],
    "deepnote_to_be_reexecuted": false,
    "source_hash": "b0cea0a0",
    "execution_start": 1648734282316,
    "execution_millis": 335,
    "deepnote_cell_type": "code",
    "deepnote_cell_height": 417,
    "deepnote_output_heights": [
     21,
     250
    ]
   },
   "source": "for_plot = np.unique(merged[\"assymetry\"], return_counts=True)\nsns.lineplot(x=for_plot[0], y=for_plot[1])",
   "execution_count": null,
   "outputs": [
    {
     "output_type": "execute_result",
     "execution_count": 9,
     "data": {
      "text/plain": "<AxesSubplot:>"
     },
     "metadata": {}
    },
    {
     "data": {
      "text/plain": "<Figure size 432x288 with 1 Axes>",
      "image/png": "[encoded data removed]"
     },
     "metadata": {
      "needs_background": "light",
      "image/png": {
       "width": 368,
       "height": 248
      }
     },
     "output_type": "display_data"
    }
   ]
  },
  {
   "cell_type": "code",
   "metadata": {
    "cell_id": "6ac10393907c4135ade78e7e217b171e",
    "tags": [],
    "deepnote_to_be_reexecuted": false,
    "source_hash": "97ea4343",
    "execution_start": 1648734282694,
    "execution_millis": 327,
    "deepnote_cell_type": "code",
    "deepnote_cell_height": 453,
    "deepnote_output_heights": [
     21,
     250
    ]
   },
   "source": "colors1 = ['#8BA888','#D67573']\ncolors = [\"green\" if merged['melanoma'][x] == 0.0 else 'red' for x in range(len(merged['melanoma'])) ]\n\nsns.scatterplot(x = [i for i in range(len(merged[\"assymetry\"]))],y = merged[\"assymetry\"], hue= colors, palette=colors1)",
   "execution_count": null,
   "outputs": [
    {
     "output_type": "execute_result",
     "execution_count": 10,
     "data": {
      "text/plain": "<AxesSubplot:ylabel='assymetry'>"
     },
     "metadata": {}
    },
    {
     "data": {
      "text/plain": "<Figure size 432x288 with 1 Axes>",
      "image/png": "[encoded data removed]"
     },
     "metadata": {
      "needs_background": "light",
      "image/png": {
       "width": 392,
       "height": 248
      }
     },
     "output_type": "display_data"
    }
   ]
  },
  {
   "cell_type": "code",
   "metadata": {
    "cell_id": "74d393b439194392bf1dd210c123060b",
    "tags": [],
    "deepnote_to_be_reexecuted": false,
    "source_hash": "b0ff3761",
    "execution_start": 1648734283004,
    "execution_millis": 1,
    "deepnote_cell_type": "code",
    "deepnote_cell_height": 279
   },
   "source": "# picture_path = \"../data/example_segmentation/ISIC_0001852_segmentation.png\"\n# picture_2 = \"../data/example_segmentation/ISIC_0010459_segmentation.png\"\n# picture = plt.imread(picture_path)\n# horizontalProj = np.sum(picture, axis= 1)\n# verticalProj = np.sum(picture, axis=0)\n\n# comparison = 0\n\n# for i in range(len(horizontalProj)):\n#     comparison += (int(horizontalProj[i])- int(verticalProj[i]))^2\n# comparison\n",
   "execution_count": null,
   "outputs": []
  },
  {
   "cell_type": "code",
   "metadata": {
    "cell_id": "8196bc2326464e6fae18042818aff937",
    "tags": [],
    "deepnote_to_be_reexecuted": false,
    "source_hash": "3dd9fcb4",
    "execution_start": 1648734283005,
    "execution_millis": 296,
    "deepnote_cell_type": "code",
    "deepnote_cell_height": 718,
    "deepnote_output_heights": [
     21,
     335
    ]
   },
   "source": "sns.set(style=\"whitegrid\",font_scale=1.5)\n\ndx = list(merged[\"melanoma\"]); dy = list(merged[\"assymetry\"])\nf, ax = plt.subplots(figsize = (7,5))\nsigma = .2; ort = \"h\"\n\n#does not work but should be without boxplots\n#ax = pt.half_violinplot(x = dx, y= dy, bw = .2, scale = \"area\", cut = 0., width= .6, inner= None, orient= ort)\n#ax = sns.stripplot( x=dx, y = dy, edgecolor=\"white\", size=3, jitter=1, zorder=0, orient=ort)\n\n#Version with boxplots\nax = pt.RainCloud(x = dx, y = dy, width_viol = .6, ax = ax, bw = sigma, orient= ort)\nplt.title(\"Raincloud plot of the melanoma assymetry\")\n",
   "execution_count": null,
   "outputs": [
    {
     "output_type": "execute_result",
     "execution_count": 12,
     "data": {
      "text/plain": "Text(0.5, 1.0, 'Raincloud plot of the melanoma assymetry')"
     },
     "metadata": {}
    },
    {
     "data": {
      "text/plain": "<Figure size 504x360 with 1 Axes>",
      "image/png": "[encoded data removed]"
     },
     "metadata": {
      "image/png": {
       "width": 440,
       "height": 333
      }
     },
     "output_type": "display_data"
    }
   ]
  },
  {
   "cell_type": "markdown",
   "source": "<a style='text-decoration:none;line-height:16px;display:flex;color:#5B5B62;padding:10px;justify-content:end;' href='https://deepnote.com?utm_source=created-in-deepnote-cell&projectId=932aa97b-f6d2-4889-8f04-d6166675cc2f' target=\"_blank\">\n<img alt='Created in deepnote.com' style='display:inline;max-height:16px;margin:0px;margin-right:7.5px;' src='data:image/svg+xml;base64,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' > </img>\nCreated in <span style='font-weight:600;margin-left:4px;'>Deepnote</span></a>",
   "metadata": {
    "tags": [],
    "created_in_deepnote_cell": true,
    "deepnote_cell_type": "markdown"
   }
  }
 ],
 "nbformat": 4,
 "nbformat_minor": 2,
 "metadata": {
  "orig_nbformat": 2,
  "deepnote": {
   "is_reactive": false
  },
  "deepnote_notebook_id": "998a9c17-6dcf-4ae2-b486-c97bdeab9114",
  "deepnote_execution_queue": []
 }
}